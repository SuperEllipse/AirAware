{
 "cells": [
  {
   "cell_type": "code",
   "execution_count": 6,
   "metadata": {},
   "outputs": [],
   "source": [
    "import requests\n",
    "import pandas as pd\n",
    "import gzip\n",
    "import boto3\n",
    "from datetime import datetime\n",
    "from crewai.tools import BaseTool\n",
    "from pydantic import BaseModel, Field\n",
    "from botocore import UNSIGNED\n",
    "from botocore.config import Config\n",
    "from typing import List, Optional, Type\n",
    "from agent_tools.utils import get_openaq_api_key\n",
    "import requests\n",
    "from math import cos, radians\n",
    "anonymous_session = boto3.Session()  # For public bucket\n",
    "# os.environ[\"OPENAI_MODEL_NAME\"] = \"gpt-4o-mini\"\n",
    "\n",
    "from crewai import LLM\n",
    "\n",
    "# LLM Configuration\n",
    "llm = LLM(\n",
    "    model=\"openai/gpt-4o-mini\",  # call model by provider/model_name\n",
    "    temperature=0.7,  # Slightly lower temperature for more focused analysis\n",
    "    max_tokens=1000,  # Increased max tokens for a more comprehensive report\n",
    "    top_p=0.9,\n",
    "    frequency_penalty=0.1,\n",
    "    presence_penalty=0.1,\n",
    "    stop=[\"END\"],\n",
    "    seed=42\n",
    ")\n"
   ]
  },
  {
   "cell_type": "code",
   "execution_count": 10,
   "metadata": {},
   "outputs": [],
   "source": [
    "class BoundingBoxExtractorTool(BaseTool):\n",
    "    \"\"\"Tool to extract the bounding box coordinates (south, north, west, east) for a given location name using Nominatim.\"\"\"\n",
    "\n",
    "    name: str = \"bounding_box_extractor\"\n",
    "    description: str = \"Extracts the bounding box coordinates (south, north, west, east) for a given location name.\"\n",
    "    parameters: Optional[list[dict]] = [\n",
    "        {\n",
    "            \"name\": \"location\",\n",
    "            \"type\": \"string\",\n",
    "            \"description\": \"The name of the location to find the bounding box for.\",\n",
    "            \"required\": True,\n",
    "        }\n",
    "    ]\n",
    "    return_direct: bool = False\n",
    "\n",
    "    def _expand_bounding_box(self, south_lat, west_lon, north_lat, east_lon, km_expansion=50):\n",
    "        \"\"\"Expand the bounding box by a fixed distance (in kilometers).\"\"\"\n",
    "        # Approximate degrees of latitude and longitude for the given expansion\n",
    "        lat_offset = km_expansion / 111  # 1 degree latitude ≈ 111 km\n",
    "        lon_offset = km_expansion / (111 * cos(radians((south_lat + north_lat) / 2)))  # Adjust longitude by latitude\n",
    "\n",
    "        # Expand bounding box\n",
    "        return [\n",
    "            south_lat - lat_offset,  # South\n",
    "            west_lon - lon_offset,  # West\n",
    "            north_lat + lat_offset,  # North\n",
    "            east_lon + lon_offset   # East\n",
    "        ]\n",
    "        \n",
    "    def _run(self, location: str) -> list[str] | str:\n",
    "        \"\"\"Executes the tool to retrieve the bounding box.\"\"\"\n",
    "        url = f\"https://nominatim.openstreetmap.org/search?q={location}&format=json&addressdetails=1\"\n",
    "        headers = {\"User-Agent\": \"CrewAI Tool (vishrajagopalan@gmx.com)\"}\n",
    "        try:\n",
    "            response = requests.get(url, headers=headers)\n",
    "            response.raise_for_status()\n",
    "            data = response.json()\n",
    "            print(data)\n",
    "            if data:\n",
    "                bbox = data[0]['boundingbox']\n",
    "                print(f\"Location: {location} ####### Bounding Box: {bbox}\")\n",
    "                south_lat = float(bbox[0])\n",
    "                north_lat = float(bbox[1])\n",
    "                west_lon = float(bbox[2])\n",
    "                east_lon = float(bbox[3])\n",
    "\n",
    "                # Expand the bounding box\n",
    "                expanded_bbox = self._expand_bounding_box(south_lat, west_lon, north_lat, east_lon, km_expansion=15)\n",
    "                print(f\"Expanded Bounding Box: {expanded_bbox}\")\n",
    "                return expanded_bbox            \n",
    "            else:\n",
    "                return f\"Bounding box not found for location: {location}\"\n",
    "        except requests.exceptions.RequestException as e:\n",
    "            return f\"Error fetching bounding box for {location}: {e}\"\n"
   ]
  },
  {
   "cell_type": "code",
   "execution_count": 11,
   "metadata": {},
   "outputs": [],
   "source": [
    "\n",
    "\n",
    "class OpenMeteoWeatherInput(BaseModel):\n",
    "    \"\"\"Input for the OpenMeteoHistoricalWeatherTool using a bounding box.\"\"\"\n",
    "    # Bounding box format: [south_latitude, west_longitude, north_latitude, east_longitude]\n",
    "    bounding_box: List[float] = Field(..., description=\"Bounding box coordinates in [south_lat, west_lon, north_lat, east_lon] format.\")\n",
    "    start_date: str = Field(..., description=\"The start date for historical weather data in YYYY-MM-DD format.\")\n",
    "    end_date: str = Field(..., description=\"The end date for historical weather data in YYYY-MM-DD format.\")\n",
    "\n",
    "# A bounding box, or bbox, is a rectangular area defined by four coordinates: \n",
    "# two representing the southwest corner (minimum longitude, minimum latitude) and \n",
    "# two representing the northeast corner (maximum longitude, maximum latitude). \n",
    "# It's essentially a way to define a geographical area on a map or within a dataset. \n",
    "\n",
    "class HistoricalWeatherTool(BaseTool):\n",
    "    name: str = \"HistoricalWeatherTool\"\n",
    "    description: str = (\n",
    "        \"Retrieves DAILY historical weather data (mean temperature, max temperature, min temperature, \"\n",
    "        \"sum of precipitation, mean wind speed, mean relative humidity) for a location \"\n",
    "        \"defined by a bounding box and a date range from Open-Meteo.com (no API key required for non-commercial use). \"\n",
    "        \"The tool internally calculates the center point of the bounding box for the API query.\"\n",
    "    )\n",
    "    args_schema: Type[BaseModel] = OpenMeteoWeatherInput\n",
    "\n",
    "    def _run(self, bounding_box: List[float], start_date: str, end_date: str) -> str:\n",
    "        if len(bounding_box) != 4:\n",
    "            return \"Error: Bounding box must contain exactly 4 float values: [south_lat, west_lon, north_lat, east_lon].\"\n",
    "\n",
    "        # bounding_box is in [south_lat, west_lon, north_lat, east_lon]\n",
    "        south_lat, west_lon, north_lat, east_lon = bounding_box[0], bounding_box[1], bounding_box[2], bounding_box[3]\n",
    "        \n",
    "        # Calculate the center point of the bounding box\n",
    "        center_latitude = (south_lat + north_lat) / 2\n",
    "        center_longitude = (west_lon + east_lon) / 2\n",
    "\n",
    "        base_url = \"https://archive-api.open-meteo.com/v1/archive\"\n",
    "        params = {\n",
    "            \"latitude\": center_latitude,\n",
    "            \"longitude\": center_longitude,\n",
    "            \"start_date\": start_date,\n",
    "            \"end_date\": end_date,\n",
    "            \"daily\": \"temperature_2m_mean,temperature_2m_max,temperature_2m_min,precipitation_sum,wind_speed_10m_mean,relative_humidity_2m_mean\",\n",
    "            \"timezone\": \"auto\" # It's good practice to specify timezone for daily data\n",
    "        }\n",
    "\n",
    "        try:\n",
    "            response = requests.get(base_url, params=params)\n",
    "            response.raise_for_status()  # Raise an exception for HTTP errors\n",
    "            data = response.json()\n",
    "\n",
    "            if \"daily\" not in data:\n",
    "                return f\"No daily weather data found for the bounding box {bounding_box} between {start_date} and {end_date}. API response: {data}\"\n",
    "\n",
    "            daily_data = data[\"daily\"]\n",
    "            times = daily_data.get(\"time\", [])\n",
    "            temp_means = daily_data.get(\"temperature_2m_mean\", [])\n",
    "            temp_maxs = daily_data.get(\"temperature_2m_max\", [])\n",
    "            temp_mins = daily_data.get(\"temperature_2m_min\", [])\n",
    "            precipitations = daily_data.get(\"precipitation_sum\", [])\n",
    "            wind_speeds_mean = daily_data.get(\"wind_speed_10m_mean\", [])\n",
    "            humidities_mean = daily_data.get(\"relative_humidity_2m_mean\", [])\n",
    "\n",
    "            weather_summary = []\n",
    "            for i in range(len(times)):\n",
    "                summary = {\n",
    "                    \"date\": times[i],\n",
    "                    \"temperature_mean_2m\": temp_means[i] if i < len(temp_means) else \"N/A\",\n",
    "                    \"temperature_max_2m\": temp_maxs[i] if i < len(temp_maxs) else \"N/A\",\n",
    "                    \"temperature_min_2m\": temp_mins[i] if i < len(temp_mins) else \"N/A\",\n",
    "                    \"precipitation_sum\": precipitations[i] if i < len(precipitations) else \"N/A\",\n",
    "                    \"wind_speed_10m_mean\": wind_speeds_mean[i] if i < len(wind_speeds_mean) else \"N/A\",\n",
    "                    \"relative_humidity_2m_mean\": humidities_mean[i] if i < len(humidities_mean) else \"N/A\"\n",
    "                }\n",
    "                weather_summary.append(summary)\n",
    "\n",
    "            return str(weather_summary) # Return as string for LLM processing\n",
    "        except requests.exceptions.RequestException as e:\n",
    "            return f\"Error fetching weather data from Open-Meteo for bounding box {bounding_box}: {e}\"\n",
    "        except Exception as e:\n",
    "            return f\"An unexpected error occurred: {e}\"\n",
    "# def main(location: str, start_date: str, end_date: str):\n",
    "#     \"\"\"\n",
    "#     Main function to get the bounding box for a location and then fetch historical weather details.\n",
    "\n",
    "#     Args:\n",
    "#         location (str): The name of the location.\n",
    "#         start_date (str): The start date for weather data in YYYY-MM-DD format.\n",
    "#         end_date (str): The end date for weather data in YYYY-MM-DD format.\n",
    "#     \"\"\"\n",
    "#     bbox_extractor = BoundingBoxExtractorTool()\n",
    "#     weather_tool = HistoricalWeatherTool()\n",
    "\n",
    "#     print(f\"Getting bounding box for {location}...\")\n",
    "#     bounding_box = bbox_extractor.run(location=location)\n",
    "\n",
    "#     if isinstance(bounding_box, str):\n",
    "#         print(f\"Error: {bounding_box}\")\n",
    "#         return\n",
    "\n",
    "#     print(f\"Bounding box for {location}: {bounding_box}\")\n",
    "#     print(f\"Fetching weather details for {location} from {start_date} to {end_date}...\")\n",
    "#     weather_details = weather_tool.run(bounding_box=bounding_box, start_date=start_date, end_date=end_date)\n",
    "    \n",
    "#     print(\"\\nWeather Details:\")\n",
    "#     print(weather_details)\n",
    "\n",
    "# if __name__ == \"__main__\":\n",
    "#     # Example usage:\n",
    "#     location_name = \"Chennai\"\n",
    "#     start = \"2023-01-01\"\n",
    "#     end = \"2023-01-03\"\n",
    "#     main(location_name, start, end)\n",
    "\n",
    "#     print(\"\\n\" + \"=\"*50 + \"\\n\")\n",
    "\n",
    "#     location_name_2 = \"London\"\n",
    "#     start_2 = \"2024-05-15\"\n",
    "#     end_2 = \"2024-05-17\"\n",
    "#     main(location_name_2, start_2, end_2)"
   ]
  },
  {
   "cell_type": "code",
   "execution_count": 12,
   "metadata": {},
   "outputs": [
    {
     "name": "stdout",
     "output_type": "stream",
     "text": [
      "Using Tool: bounding_box_extractor\n",
      "[{'place_id': 226589616, 'licence': 'Data © OpenStreetMap contributors, ODbL 1.0. http://osm.org/copyright', 'osm_type': 'way', 'osm_id': 80414558, 'lat': '28.6430858', 'lon': '77.2192671', 'class': 'railway', 'type': 'station', 'place_rank': 30, 'importance': 0.45936793322640973, 'addresstype': 'railway', 'name': 'New Delhi', 'display_name': 'New Delhi, Foot Over Bridge 1, Ram Nagar, New Delhi Railway Station, Delhi, Kotwali Tehsil, Central Delhi, Delhi, 110006, India', 'address': {'railway': 'New Delhi', 'road': 'Foot Over Bridge 1', 'neighbourhood': 'Ram Nagar', 'suburb': 'New Delhi Railway Station', 'city': 'Delhi', 'ISO3166-2-lvl15': 'IN-DL', 'county': 'Kotwali Tehsil', 'state_district': 'Central Delhi', 'state': 'Delhi', 'ISO3166-2-lvl4': 'IN-DL', 'postcode': '110006', 'country': 'India', 'country_code': 'in'}, 'boundingbox': ['28.6421417', '28.6438360', '77.2189812', '77.2196548']}, {'place_id': 226589546, 'licence': 'Data © OpenStreetMap contributors, ODbL 1.0. http://osm.org/copyright', 'osm_type': 'node', 'osm_id': 6131069513, 'lat': '28.6419258', 'lon': '77.2217499', 'class': 'railway', 'type': 'station', 'place_rank': 30, 'importance': 0.45936793322640973, 'addresstype': 'railway', 'name': 'New Delhi', 'display_name': 'New Delhi, Bhavbhuti Marg, Sita Ram Bazaar, Delhi, Kotwali Tehsil, Central Delhi, Delhi, 110006, India', 'address': {'railway': 'New Delhi', 'road': 'Bhavbhuti Marg', 'neighbourhood': 'Sita Ram Bazaar', 'city': 'Delhi', 'ISO3166-2-lvl15': 'IN-DL', 'county': 'Kotwali Tehsil', 'state_district': 'Central Delhi', 'state': 'Delhi', 'ISO3166-2-lvl4': 'IN-DL', 'postcode': '110006', 'country': 'India', 'country_code': 'in'}, 'boundingbox': ['28.6369258', '28.6469258', '77.2167499', '77.2267499']}, {'place_id': 224993073, 'licence': 'Data © OpenStreetMap contributors, ODbL 1.0. http://osm.org/copyright', 'osm_type': 'node', 'osm_id': 554257841, 'lat': '28.6434826', 'lon': '77.2227421', 'class': 'railway', 'type': 'station', 'place_rank': 30, 'importance': 0.3678483527124122, 'addresstype': 'railway', 'name': 'New Delhi', 'display_name': 'New Delhi, Jawaharlal Nehru Marg, Sita Ram Bazaar, Delhi, Kotwali Tehsil, Central Delhi, Delhi, 110006, India', 'address': {'railway': 'New Delhi', 'road': 'Jawaharlal Nehru Marg', 'neighbourhood': 'Sita Ram Bazaar', 'city': 'Delhi', 'ISO3166-2-lvl15': 'IN-DL', 'county': 'Kotwali Tehsil', 'state_district': 'Central Delhi', 'state': 'Delhi', 'ISO3166-2-lvl4': 'IN-DL', 'postcode': '110006', 'country': 'India', 'country_code': 'in'}, 'boundingbox': ['28.6384826', '28.6484826', '77.2177421', '77.2277421']}, {'place_id': 395269315, 'licence': 'Data © OpenStreetMap contributors, ODbL 1.0. http://osm.org/copyright', 'osm_type': 'relation', 'osm_id': 2763541, 'lat': '28.6138954', 'lon': '77.2090057', 'class': 'boundary', 'type': 'administrative', 'place_rank': 10, 'importance': 0.2667441481651026, 'addresstype': 'city', 'name': 'New Delhi', 'display_name': 'New Delhi, Delhi, India', 'address': {'city': 'New Delhi', 'state': 'Delhi', 'ISO3166-2-lvl4': 'IN-DL', 'country': 'India', 'country_code': 'in'}, 'boundingbox': ['28.4812209', '28.6456842', '77.0503708', '77.2551392']}, {'place_id': 230023570, 'licence': 'Data © OpenStreetMap contributors, ODbL 1.0. http://osm.org/copyright', 'osm_type': 'node', 'osm_id': 3206040351, 'lat': '19.0624996', 'lon': '72.9288123', 'class': 'tourism', 'type': 'hotel', 'place_rank': 30, 'importance': 7.599526970316652e-05, 'addresstype': 'tourism', 'name': 'new delhi', 'display_name': 'new delhi, Road 13, Adarsh Nagar, M/E Ward, Zone 5, Mumbai Suburban, Maharashtra, 400043, India', 'address': {'tourism': 'new delhi', 'road': 'Road 13', 'neighbourhood': 'Adarsh Nagar', 'suburb': 'M/E Ward', 'city_district': 'Zone 5', 'city': 'Mumbai Suburban', 'state': 'Maharashtra', 'ISO3166-2-lvl4': 'IN-MH', 'postcode': '400043', 'country': 'India', 'country_code': 'in'}, 'boundingbox': ['19.0624496', '19.0625496', '72.9287623', '72.9288623']}, {'place_id': 224636380, 'licence': 'Data © OpenStreetMap contributors, ODbL 1.0. http://osm.org/copyright', 'osm_type': 'node', 'osm_id': 938372581, 'lat': '28.6423596', 'lon': '77.2196366', 'class': 'railway', 'type': 'stop', 'place_rank': 30, 'importance': 5.58350499732512e-05, 'addresstype': 'railway', 'name': 'New Delhi', 'display_name': 'New Delhi, State Entry Road, Shankar Market, New Delhi Railway Station, Chanakya Puri Tehsil, New Delhi, Delhi, 110055, India', 'address': {'railway': 'New Delhi', 'road': 'State Entry Road', 'neighbourhood': 'Shankar Market', 'suburb': 'New Delhi Railway Station', 'city_district': 'Chanakya Puri Tehsil', 'city': 'New Delhi', 'state': 'Delhi', 'ISO3166-2-lvl4': 'IN-DL', 'postcode': '110055', 'country': 'India', 'country_code': 'in'}, 'boundingbox': ['28.6423096', '28.6424096', '77.2195866', '77.2196866']}, {'place_id': 226754617, 'licence': 'Data © OpenStreetMap contributors, ODbL 1.0. http://osm.org/copyright', 'osm_type': 'node', 'osm_id': 6547772097, 'lat': '28.6434707', 'lon': '77.2227708', 'class': 'railway', 'type': 'stop', 'place_rank': 30, 'importance': 5.58350499732512e-05, 'addresstype': 'railway', 'name': 'New Delhi', 'display_name': 'New Delhi, Jawaharlal Nehru Marg, Sita Ram Bazaar, Delhi, Kotwali Tehsil, Central Delhi, Delhi, 110006, India', 'address': {'railway': 'New Delhi', 'road': 'Jawaharlal Nehru Marg', 'neighbourhood': 'Sita Ram Bazaar', 'city': 'Delhi', 'ISO3166-2-lvl15': 'IN-DL', 'county': 'Kotwali Tehsil', 'state_district': 'Central Delhi', 'state': 'Delhi', 'ISO3166-2-lvl4': 'IN-DL', 'postcode': '110006', 'country': 'India', 'country_code': 'in'}, 'boundingbox': ['28.6434207', '28.6435207', '77.2227208', '77.2228208']}, {'place_id': 226595620, 'licence': 'Data © OpenStreetMap contributors, ODbL 1.0. http://osm.org/copyright', 'osm_type': 'node', 'osm_id': 938372557, 'lat': '28.6425394', 'lon': '77.2208372', 'class': 'railway', 'type': 'stop', 'place_rank': 30, 'importance': 5.58350499732512e-05, 'addresstype': 'railway', 'name': 'New Delhi', 'display_name': 'New Delhi, Foot Over Bridge 1, Ram Nagar, New Delhi Railway Station, Delhi, Kotwali Tehsil, Central Delhi, Delhi, 110006, India', 'address': {'railway': 'New Delhi', 'road': 'Foot Over Bridge 1', 'neighbourhood': 'Ram Nagar', 'suburb': 'New Delhi Railway Station', 'city': 'Delhi', 'ISO3166-2-lvl15': 'IN-DL', 'county': 'Kotwali Tehsil', 'state_district': 'Central Delhi', 'state': 'Delhi', 'ISO3166-2-lvl4': 'IN-DL', 'postcode': '110006', 'country': 'India', 'country_code': 'in'}, 'boundingbox': ['28.6424894', '28.6425894', '77.2207872', '77.2208872']}]\n",
      "Location: New Delhi, India ####### Bounding Box: ['28.6421417', '28.6438360', '77.2189812', '77.2196548']\n",
      "Expanded Bounding Box: [28.507006564864863, 77.06500272884998, 28.778971135135137, 77.37363327115003]\n",
      "Bounding box :  [28.507006564864863, 77.06500272884998, 28.778971135135137, 77.37363327115003]\n",
      "[[28.507006564864863, 77.06500272884998, 28.778971135135137, 77.37363327115003]]\n",
      "Using Tool: air_quality_analysis\n",
      "Found 68 locations for bounding box (per openAQ format) [77.06500272884998, 28.507006564864863, 77.37363327115003, 28.778971135135137] (Location: New Delhi, India). Downloading data...\n",
      "Downloading: records/csv.gz/locationid=8118/year=2023/month=01/location-8118-20230101.csv.gz\n",
      "Downloading: records/csv.gz/locationid=8118/year=2023/month=01/location-8118-20230102.csv.gz\n",
      "Downloading: records/csv.gz/locationid=8118/year=2023/month=01/location-8118-20230103.csv.gz\n",
      "Sample Sensor Data from OPENAQ : \n",
      "    location_id  sensors_id                            location  \\\n",
      "0         8118       23534  US Diplomatic Post: New Delhi-8118   \n",
      "1         8118       23534  US Diplomatic Post: New Delhi-8118   \n",
      "2         8118       23534  US Diplomatic Post: New Delhi-8118   \n",
      "3         8118       23534  US Diplomatic Post: New Delhi-8118   \n",
      "4         8118       23534  US Diplomatic Post: New Delhi-8118   \n",
      "\n",
      "                    datetime       lat       lon parameter  units  value  \n",
      "0  2023-01-01T01:00:00+05:30  28.63576  77.22445      pm25  µg/m³  201.0  \n",
      "1  2023-01-01T02:00:00+05:30  28.63576  77.22445      pm25  µg/m³  197.0  \n",
      "2  2023-01-01T03:00:00+05:30  28.63576  77.22445      pm25  µg/m³  180.0  \n",
      "3  2023-01-01T04:00:00+05:30  28.63576  77.22445      pm25  µg/m³  165.0  \n",
      "4  2023-01-01T05:00:00+05:30  28.63576  77.22445      pm25  µg/m³  125.0  \n",
      "Locations with no data or errors: [13, 13, 13, 15, 15, 15, 16, 16, 16, 17, 17, 17, 50, 50, 50, 103, 103, 103, 235, 235, 235, 236, 236, 236, 431, 431, 431, 2503, 2503, 2503, 2597, 2597, 2597, 5404, 5404, 5404, 5509, 5509, 5509, 5540, 5540, 5540, 5541, 5541, 5541, 5581, 5581, 5581, 5586, 5586, 5586, 5598, 5598, 5598, 5610, 5610, 5610, 5613, 5613, 5613, 5616, 5616, 5616, 5626, 5626, 5626, 5627, 5627, 5627, 5630, 5630, 5630, 5634, 5634, 5634, 5639, 5639, 5639, 5641, 5641, 5641, 5650, 5650, 5650, 5665, 5665, 5665, 5742, 5742, 5742, 5753, 5753, 5753, 5754, 5754, 5754, 5755, 5755, 5755, 5759, 5759, 5759, 5761, 5761, 5761, 5762, 5762, 5762, 5765, 5765, 5765, 5766, 5766, 5766, 6356, 6356, 6356, 6357, 6357, 6357, 6358, 6358, 6358, 6359, 6359, 6359, 6924, 6924, 6924, 6929, 6929, 6929, 6931, 6931, 6931, 6938, 6938, 6938, 6957, 6957, 6957, 6960, 6960, 6960, 6980, 6980, 6980, 7005, 7005, 7005, 7044, 7044, 7044, 7434, 7434, 7434, 8092, 8092, 8092, 8235, 8235, 8235, 8239, 8239, 8239, 8365, 8365, 8365, 8475, 8475, 8475, 8915, 8915, 8915, 8917, 8917, 8917, 10484, 10484, 10484, 10486, 10486, 10486, 10487, 10487, 10487, 10489, 10489, 10489, 10831, 10831, 10831, 11603, 11603, 11603, 11607, 11607, 11607, 2860223, 2860223, 2860223]\n",
      "DF :\n",
      "                     datetime  location_id  sensors_id  \\\n",
      "0 2023-01-01 01:00:00+05:30         8118       23534   \n",
      "1 2023-01-01 02:00:00+05:30         8118       23534   \n",
      "2 2023-01-01 03:00:00+05:30         8118       23534   \n",
      "3 2023-01-01 04:00:00+05:30         8118       23534   \n",
      "4 2023-01-01 05:00:00+05:30         8118       23534   \n",
      "\n",
      "                             location       lat       lon parameter  units  \\\n",
      "0  US Diplomatic Post: New Delhi-8118  28.63576  77.22445      pm25  µg/m³   \n",
      "1  US Diplomatic Post: New Delhi-8118  28.63576  77.22445      pm25  µg/m³   \n",
      "2  US Diplomatic Post: New Delhi-8118  28.63576  77.22445      pm25  µg/m³   \n",
      "3  US Diplomatic Post: New Delhi-8118  28.63576  77.22445      pm25  µg/m³   \n",
      "4  US Diplomatic Post: New Delhi-8118  28.63576  77.22445      pm25  µg/m³   \n",
      "\n",
      "   value  \n",
      "0  201.0  \n",
      "1  197.0  \n",
      "2  180.0  \n",
      "3  165.0  \n",
      "4  125.0  \n",
      "\n",
      "Aggregated Air Quality Data:\n",
      "  parameter       value  units        date          location\n",
      "0      pm25  127.043478  µg/m³  2023-01-01  New Delhi, India\n",
      "1      pm25  270.000000  µg/m³  2023-01-02  New Delhi, India\n",
      "2      pm25  283.250000  µg/m³  2023-01-03  New Delhi, India\n",
      "3      pm25  250.000000  µg/m³  2023-01-04  New Delhi, India\n"
     ]
    }
   ],
   "source": [
    "\n",
    "class AirQualityAnalysisTool(BaseTool):\n",
    "    name: str = \"air_quality_analysis\"\n",
    "    description: str = \"Fetch air quality data for specified locations and dates, returning aggregated results.\"\n",
    "    parameters: Optional[List[dict]] = [\n",
    "        {\n",
    "            \"name\": \"bounding_boxes\",\n",
    "            \"type\": \"list[list[float]]\",\n",
    "            \"description\": (\n",
    "                \"List of bounding boxes (each as [south, north, west, east]) to analyze air quality for.\"\n",
    "            ),\n",
    "            \"required\": True,\n",
    "        },      \n",
    "        {\n",
    "            \"name\": \"locations\",\n",
    "            \"type\": \"list[str]\",\n",
    "            \"description\": \"List of location names to analyze air quality for.\",\n",
    "            \"required\": True,\n",
    "        },          \n",
    "        {\n",
    "            \"name\": \"start_date\",\n",
    "            \"type\": \"str\",\n",
    "            \"description\": \"Start date for the analysis in YYYY-MM-DD format.\",\n",
    "            \"required\": True,\n",
    "        },\n",
    "        {\n",
    "            \"name\": \"end_date\",\n",
    "            \"type\": \"str\",\n",
    "            \"description\": \"End date for the analysis in YYYY-MM-DD format.\",\n",
    "            \"required\": True,\n",
    "        },\n",
    "        {\n",
    "            \"name\": \"aq_parameters\",\n",
    "            \"type\": \"Optional[list[str]]\",\n",
    "            \"description\": \"Optional list of air quality parameters to filter (e.g., ['pm25', 'o3']). If None, all available parameters are used.\",\n",
    "            \"required\": False,\n",
    "        },\n",
    "    ]\n",
    "    def _run(self, bounding_boxes: List[List[float]], locations: List[str], start_date: str, end_date: str, aq_parameters: Optional[List[str]] = None) -> pd.DataFrame:\n",
    "        \"\"\"\n",
    "        Args:\n",
    "            bounding_boxes (list): List of bounding boxes as [south, north, west, east].\n",
    "            locations (list): List of location names corresponding to bounding boxes.            \n",
    "            start_date (str): Start date for the analysis in YYYY-MM-DD format.\n",
    "            end_date (str): End date for the analysis in YYYY-MM-DD format.\n",
    "            aq_parameters (list, optional): List of air quality parameters to filter. Defaults to None.\n",
    "\n",
    "        Returns:\n",
    "            pd.DataFrame: Aggregated air quality data with columns [date, parameter, unit, value, location_name].\n",
    "        \"\"\"\n",
    "        \n",
    "\n",
    "        # Convert start_date and end_date strings to datetime objects\n",
    "        try:\n",
    "            start_date_dt = datetime.strptime(start_date, \"%Y-%m-%d\").date()\n",
    "            end_date_dt = datetime.strptime(end_date, \"%Y-%m-%d\").date()\n",
    "        except ValueError:\n",
    "            raise ValueError(\"Invalid date format. Please use YYYY-MM-DD.\")\n",
    "\n",
    "        # Step 2: Fetch location IDs from OpenAQ\n",
    "        def get_location_ids(bbox: List[str]) -> List[dict]:\n",
    "            url = \"https://api.openaq.org/v3/locations?limit=100&page=1&order_by=id&sort_order=asc\"\n",
    "            params = {\n",
    "                \"bbox\": f\"{bbox[0]},{bbox[1]},{bbox[2]},{bbox[3]}\",\n",
    "            }\n",
    "            headers = {\"X-API-Key\": get_openaq_api_key()}\n",
    "            response = requests.get(url, headers=headers, params=params)\n",
    "            response.raise_for_status()\n",
    "            return response.json().get(\"results\", [])\n",
    "\n",
    "        # Step 3: Fetch data from OpenAQ AWS bucket using boto3\n",
    "        def fetch_sensor_data(location_ids: List[int], start_date: datetime.date, end_date: datetime.date) -> pd.DataFrame: # Updated type hints\n",
    "            consolidated_df = pd.DataFrame()\n",
    "            failed_locations = []  # To track locations that fail to return data\n",
    "\n",
    "            s3_client = anonymous_session.client('s3', region_name=\"us-east-1\", config=Config(signature_version=UNSIGNED))\n",
    "            source_bucket_name = \"openaq-data-archive\"\n",
    "\n",
    "            for location_id in location_ids:\n",
    "                for date in pd.date_range(start=start_date, end=end_date):\n",
    "                    year, month, day = date.strftime(\"%Y\"), date.strftime(\"%m\"), date.strftime(\"%d\")\n",
    "                    prefix = f\"records/csv.gz/locationid={location_id}/year={year}/month={month}/\"\n",
    "                    try:\n",
    "                        response = s3_client.list_objects_v2(Bucket=source_bucket_name, Prefix=prefix)\n",
    "                        if 'Contents' in response:\n",
    "                            for obj in response['Contents']:\n",
    "                                key = obj['Key']\n",
    "                                if key.endswith(f\"{year}{month}{day}.csv.gz\"):\n",
    "                                    print(f\"Downloading: {key}\")\n",
    "                                    obj_data = s3_client.get_object(Bucket=source_bucket_name, Key=key)\n",
    "                                    with gzip.GzipFile(fileobj=obj_data['Body']) as gz_file:\n",
    "                                        daily_df = pd.read_csv(gz_file)\n",
    "                                        consolidated_df = pd.concat([consolidated_df, daily_df], ignore_index=True)\n",
    "                        else:\n",
    "                            failed_locations.append(location_id)\n",
    "\n",
    "                    except Exception as e:\n",
    "                        print(f\"Error fetching data for location ID {location_id}: {e}\")\n",
    "                        failed_locations.append(location_id)\n",
    "            print(\"Sample Sensor Data from OPENAQ : \\n\", consolidated_df.head())\n",
    "            if failed_locations:\n",
    "                print(f\"Locations with no data or errors: {failed_locations}\")\n",
    "\n",
    "            return consolidated_df\n",
    "\n",
    "        # Step 4: Aggregate data\n",
    "        def aggregate_data(df: pd.DataFrame, parameters: Optional[List[str]] = None) -> pd.DataFrame:\n",
    "            df['datetime'] = pd.to_datetime(df['datetime'])  # Ensure datetime is parsed correctly\n",
    "            df = df.set_index('datetime')  # Set 'datetime' as the index\n",
    "\n",
    "            if parameters:\n",
    "                df = df[df['parameter'].isin(parameters)]  \n",
    "            try : \n",
    "                # Reset the index to avoid conflicts with 'parameter'\n",
    "                df = df.reset_index()     \n",
    "                print(\"DF :\\n \", df.head())           \n",
    "                daily_data = (\n",
    "                    df.groupby(['parameter', pd.Grouper(key='datetime', freq='D')])\n",
    "                    .agg(\n",
    "                        value=('value', 'mean'),\n",
    "                        units=('units', 'first')\n",
    "                    )\n",
    "                    .dropna()\n",
    "                    .reset_index()\n",
    "                )  \n",
    "            except Exception as e : \n",
    "                print(\"Aggregation failed with Exception: \", e)\n",
    "            daily_data['date'] = daily_data['datetime'].dt.date\n",
    "            del daily_data['datetime']\n",
    "            return daily_data\n",
    "\n",
    "        # Main Workflow\n",
    "        all_data = []\n",
    "        for bbox, location in zip(bounding_boxes, locations):\n",
    "            try:\n",
    "                bbox_openaq_format  = [bbox[1], bbox[0], bbox[3], bbox[2]]         \n",
    "                location_data = get_location_ids(bbox_openaq_format)\n",
    "                location_ids = [loc['id'] for loc in location_data]\n",
    "                # Open AQ accepts bounding box in the format west, south, east, north\n",
    "\n",
    "                print(f\"Found {len(location_ids)} locations for bounding box (per openAQ format) {bbox_openaq_format} (Location: {location}). Downloading data...\")\n",
    "\n",
    "                consolidated_df = fetch_sensor_data(location_ids, start_date_dt, end_date_dt)\n",
    "                if not consolidated_df.empty:               \n",
    "                    aggregated_daily_data = aggregate_data(consolidated_df, aq_parameters)\n",
    "                    aggregated_daily_data[\"location\"] = location  # Add the location column\n",
    "                    all_data.append(aggregated_daily_data)\n",
    "\n",
    "            except Exception as e:\n",
    "                print(f\"Error processing bounding box {bbox} for location {location}: {e}\")\n",
    "\n",
    "        # Combine all data\n",
    "        if all_data:\n",
    "            result = pd.concat(all_data, ignore_index=True)\n",
    "            return result\n",
    "        else:\n",
    "            return pd.DataFrame(columns=[\"date\", \"parameter\", \"unit\", \"value\", \"location\"])\n",
    "        \n",
    "\n",
    "tool = BoundingBoxExtractorTool()\n",
    "\n",
    "if __name__ == '__main__':\n",
    "    # Example usage:\n",
    "    analysis_tool = AirQualityAnalysisTool()\n",
    "    locations_to_analyze = [ \"New Delhi, India\"]\n",
    "    parameters_to_analyze=[\"pm25\"]\n",
    "    bboxes=[]\n",
    "    for location in locations_to_analyze : \n",
    "        bbox = tool.run(location=location)\n",
    "        print(  \"Bounding box : \", bbox)\n",
    "        bboxes.append(bbox)\n",
    "\n",
    "\n",
    "    start = \"2023-01-01\"\n",
    "    end = \"2023-01-03\"\n",
    "    parameters_to_analyze = [\"pm25\"]\n",
    "    print(bboxes)\n",
    "    try:\n",
    "        \n",
    "        results_df = analysis_tool.run(bounding_boxes = bboxes,locations=locations_to_analyze, start_date=start, end_date=end, aq_parameters=parameters_to_analyze)\n",
    "        print(\"\\nAggregated Air Quality Data:\")\n",
    "        print(results_df)\n",
    "    except Exception as e:\n",
    "        print(f\"An error occurred during analysis: {e}\")\n",
    "\n"
   ]
  },
  {
   "cell_type": "code",
   "execution_count": 17,
   "metadata": {},
   "outputs": [
    {
     "data": {
      "text/html": [
       "<pre style=\"white-space:pre;overflow-x:auto;line-height:normal;font-family:Menlo,'DejaVu Sans Mono',consolas,'Courier New',monospace\"><span style=\"color: #008080; text-decoration-color: #008080\">╭──────────────────────────────────────────── Crew Execution Started ─────────────────────────────────────────────╮</span>\n",
       "<span style=\"color: #008080; text-decoration-color: #008080\">│</span>                                                                                                                 <span style=\"color: #008080; text-decoration-color: #008080\">│</span>\n",
       "<span style=\"color: #008080; text-decoration-color: #008080\">│</span>  <span style=\"color: #008080; text-decoration-color: #008080; font-weight: bold\">Crew Execution Started</span>                                                                                         <span style=\"color: #008080; text-decoration-color: #008080\">│</span>\n",
       "<span style=\"color: #008080; text-decoration-color: #008080\">│</span>  <span style=\"color: #c0c0c0; text-decoration-color: #c0c0c0\">Name: </span><span style=\"color: #008080; text-decoration-color: #008080\">crew</span>                                                                                                     <span style=\"color: #008080; text-decoration-color: #008080\">│</span>\n",
       "<span style=\"color: #008080; text-decoration-color: #008080\">│</span>  <span style=\"color: #c0c0c0; text-decoration-color: #c0c0c0\">ID: </span><span style=\"color: #008080; text-decoration-color: #008080\">9e61d9f6-8813-41a1-95c2-03db69c47831</span>                                                                       <span style=\"color: #008080; text-decoration-color: #008080\">│</span>\n",
       "<span style=\"color: #008080; text-decoration-color: #008080\">│</span>                                                                                                                 <span style=\"color: #008080; text-decoration-color: #008080\">│</span>\n",
       "<span style=\"color: #008080; text-decoration-color: #008080\">│</span>                                                                                                                 <span style=\"color: #008080; text-decoration-color: #008080\">│</span>\n",
       "<span style=\"color: #008080; text-decoration-color: #008080\">╰─────────────────────────────────────────────────────────────────────────────────────────────────────────────────╯</span>\n",
       "</pre>\n"
      ],
      "text/plain": [
       "\u001b[36m╭─\u001b[0m\u001b[36m───────────────────────────────────────────\u001b[0m\u001b[36m Crew Execution Started \u001b[0m\u001b[36m────────────────────────────────────────────\u001b[0m\u001b[36m─╮\u001b[0m\n",
       "\u001b[36m│\u001b[0m                                                                                                                 \u001b[36m│\u001b[0m\n",
       "\u001b[36m│\u001b[0m  \u001b[1;36mCrew Execution Started\u001b[0m                                                                                         \u001b[36m│\u001b[0m\n",
       "\u001b[36m│\u001b[0m  \u001b[37mName: \u001b[0m\u001b[36mcrew\u001b[0m                                                                                                     \u001b[36m│\u001b[0m\n",
       "\u001b[36m│\u001b[0m  \u001b[37mID: \u001b[0m\u001b[36m9e61d9f6-8813-41a1-95c2-03db69c47831\u001b[0m                                                                       \u001b[36m│\u001b[0m\n",
       "\u001b[36m│\u001b[0m                                                                                                                 \u001b[36m│\u001b[0m\n",
       "\u001b[36m│\u001b[0m                                                                                                                 \u001b[36m│\u001b[0m\n",
       "\u001b[36m╰─────────────────────────────────────────────────────────────────────────────────────────────────────────────────╯\u001b[0m\n"
      ]
     },
     "metadata": {},
     "output_type": "display_data"
    },
    {
     "data": {
      "text/html": [
       "<pre style=\"white-space:pre;overflow-x:auto;line-height:normal;font-family:Menlo,'DejaVu Sans Mono',consolas,'Courier New',monospace\">\n",
       "</pre>\n"
      ],
      "text/plain": [
       "\n"
      ]
     },
     "metadata": {},
     "output_type": "display_data"
    },
    {
     "data": {
      "text/html": [
       "<pre style=\"white-space:pre;overflow-x:auto;line-height:normal;font-family:Menlo,'DejaVu Sans Mono',consolas,'Courier New',monospace\"><span style=\"color: #008080; text-decoration-color: #008080; font-weight: bold\">🚀 Crew: crew</span>\n",
       "└── <span style=\"color: #808000; text-decoration-color: #808000; font-weight: bold\">📋 Task: 949981bf-7b60-47df-8841-c79c871903cd</span>\n",
       "    <span style=\"color: #c0c0c0; text-decoration-color: #c0c0c0\">   Status: </span><span style=\"color: #bfbf7f; text-decoration-color: #bfbf7f\">Executing Task...</span>\n",
       "</pre>\n"
      ],
      "text/plain": [
       "\u001b[1;36m🚀 Crew: \u001b[0m\u001b[1;36mcrew\u001b[0m\n",
       "└── \u001b[1;33m📋 Task: 949981bf-7b60-47df-8841-c79c871903cd\u001b[0m\n",
       "    \u001b[37m   Status: \u001b[0m\u001b[2;33mExecuting Task...\u001b[0m\n"
      ]
     },
     "metadata": {},
     "output_type": "display_data"
    },
    {
     "data": {
      "text/html": [
       "<pre style=\"white-space:pre;overflow-x:auto;line-height:normal;font-family:Menlo,'DejaVu Sans Mono',consolas,'Courier New',monospace\">\n",
       "</pre>\n"
      ],
      "text/plain": [
       "\n"
      ]
     },
     "metadata": {},
     "output_type": "display_data"
    },
    {
     "data": {
      "text/html": [
       "<pre style=\"white-space:pre;overflow-x:auto;line-height:normal;font-family:Menlo,'DejaVu Sans Mono',consolas,'Courier New',monospace\"><span style=\"color: #008080; text-decoration-color: #008080; font-weight: bold\">🚀 Crew: crew</span>\n",
       "└── <span style=\"color: #808000; text-decoration-color: #808000; font-weight: bold\">📋 Task: 949981bf-7b60-47df-8841-c79c871903cd</span>\n",
       "    <span style=\"color: #c0c0c0; text-decoration-color: #c0c0c0\">   Status: </span><span style=\"color: #bfbf7f; text-decoration-color: #bfbf7f\">Executing Task...</span>\n",
       "    └── <span style=\"color: #008000; text-decoration-color: #008000; font-weight: bold\">🤖 Agent: </span><span style=\"color: #008000; text-decoration-color: #008000\">Geospatial Data Specialist</span>\n",
       "        <span style=\"color: #c0c0c0; text-decoration-color: #c0c0c0\">    Status: </span><span style=\"color: #008000; text-decoration-color: #008000; font-weight: bold\">In Progress</span>\n",
       "</pre>\n"
      ],
      "text/plain": [
       "\u001b[1;36m🚀 Crew: \u001b[0m\u001b[1;36mcrew\u001b[0m\n",
       "└── \u001b[1;33m📋 Task: 949981bf-7b60-47df-8841-c79c871903cd\u001b[0m\n",
       "    \u001b[37m   Status: \u001b[0m\u001b[2;33mExecuting Task...\u001b[0m\n",
       "    └── \u001b[1;32m🤖 Agent: \u001b[0m\u001b[32mGeospatial Data Specialist\u001b[0m\n",
       "        \u001b[37m    Status: \u001b[0m\u001b[1;32mIn Progress\u001b[0m\n"
      ]
     },
     "metadata": {},
     "output_type": "display_data"
    },
    {
     "data": {
      "text/html": [
       "<pre style=\"white-space:pre;overflow-x:auto;line-height:normal;font-family:Menlo,'DejaVu Sans Mono',consolas,'Courier New',monospace\">\n",
       "</pre>\n"
      ],
      "text/plain": [
       "\n"
      ]
     },
     "metadata": {},
     "output_type": "display_data"
    },
    {
     "name": "stdout",
     "output_type": "stream",
     "text": [
      "\u001b[1m\u001b[95m# Agent:\u001b[00m \u001b[1m\u001b[92mGeospatial Data Specialist\u001b[00m\n",
      "\u001b[95m## Task:\u001b[00m \u001b[92mFor each of the following locations: ['New Delhi, India', 'Chennai, India'], use the 'bounding_box_extractor' tool to find their bounding box coordinates. Return the bounding boxes associated with each location.\u001b[00m\n"
     ]
    },
    {
     "data": {
      "text/html": [
       "<pre style=\"white-space:pre;overflow-x:auto;line-height:normal;font-family:Menlo,'DejaVu Sans Mono',consolas,'Courier New',monospace\"><span style=\"color: #008000; text-decoration-color: #008000; font-weight: bold\">🤖 Agent: </span><span style=\"color: #008000; text-decoration-color: #008000\">Geospatial Data Specialist</span>\n",
       "<span style=\"color: #c0c0c0; text-decoration-color: #c0c0c0\">    Status: </span><span style=\"color: #008000; text-decoration-color: #008000; font-weight: bold\">In Progress</span>\n",
       "└── <span style=\"color: #000080; text-decoration-color: #000080; font-weight: bold\">🧠 </span><span style=\"color: #000080; text-decoration-color: #000080\">Thinking...</span>\n",
       "</pre>\n"
      ],
      "text/plain": [
       "\u001b[1;32m🤖 Agent: \u001b[0m\u001b[32mGeospatial Data Specialist\u001b[0m\n",
       "\u001b[37m    Status: \u001b[0m\u001b[1;32mIn Progress\u001b[0m\n",
       "└── \u001b[1;34m🧠 \u001b[0m\u001b[34mThinking...\u001b[0m\n"
      ]
     },
     "metadata": {},
     "output_type": "display_data"
    },
    {
     "data": {
      "text/html": [
       "<pre style=\"white-space:pre;overflow-x:auto;line-height:normal;font-family:Menlo,'DejaVu Sans Mono',consolas,'Courier New',monospace\">\n",
       "</pre>\n"
      ],
      "text/plain": [
       "\n"
      ]
     },
     "metadata": {},
     "output_type": "display_data"
    },
    {
     "data": {
      "text/html": [
       "<pre style=\"white-space:pre;overflow-x:auto;line-height:normal;font-family:Menlo,'DejaVu Sans Mono',consolas,'Courier New',monospace\"><span style=\"color: #008000; text-decoration-color: #008000; font-weight: bold\">🤖 Agent: </span><span style=\"color: #008000; text-decoration-color: #008000\">Geospatial Data Specialist</span>\n",
       "<span style=\"color: #c0c0c0; text-decoration-color: #c0c0c0\">    Status: </span><span style=\"color: #008000; text-decoration-color: #008000; font-weight: bold\">In Progress</span>\n",
       "</pre>\n"
      ],
      "text/plain": [
       "\u001b[1;32m🤖 Agent: \u001b[0m\u001b[32mGeospatial Data Specialist\u001b[0m\n",
       "\u001b[37m    Status: \u001b[0m\u001b[1;32mIn Progress\u001b[0m\n"
      ]
     },
     "metadata": {},
     "output_type": "display_data"
    },
    {
     "data": {
      "text/html": [
       "<pre style=\"white-space:pre;overflow-x:auto;line-height:normal;font-family:Menlo,'DejaVu Sans Mono',consolas,'Courier New',monospace\">\n",
       "</pre>\n"
      ],
      "text/plain": [
       "\n"
      ]
     },
     "metadata": {},
     "output_type": "display_data"
    },
    {
     "data": {
      "text/html": [
       "<pre style=\"white-space:pre;overflow-x:auto;line-height:normal;font-family:Menlo,'DejaVu Sans Mono',consolas,'Courier New',monospace\"><span style=\"color: #008000; text-decoration-color: #008000; font-weight: bold\">🤖 Agent: </span><span style=\"color: #008000; text-decoration-color: #008000\">Geospatial Data Specialist</span>\n",
       "<span style=\"color: #c0c0c0; text-decoration-color: #c0c0c0\">    Status: </span><span style=\"color: #008000; text-decoration-color: #008000; font-weight: bold\">In Progress</span>\n",
       "</pre>\n"
      ],
      "text/plain": [
       "\u001b[1;32m🤖 Agent: \u001b[0m\u001b[32mGeospatial Data Specialist\u001b[0m\n",
       "\u001b[37m    Status: \u001b[0m\u001b[1;32mIn Progress\u001b[0m\n"
      ]
     },
     "metadata": {},
     "output_type": "display_data"
    },
    {
     "data": {
      "text/html": [
       "<pre style=\"white-space:pre;overflow-x:auto;line-height:normal;font-family:Menlo,'DejaVu Sans Mono',consolas,'Courier New',monospace\">\n",
       "</pre>\n"
      ],
      "text/plain": [
       "\n"
      ]
     },
     "metadata": {},
     "output_type": "display_data"
    },
    {
     "name": "stdout",
     "output_type": "stream",
     "text": [
      "[{'place_id': 226589616, 'licence': 'Data © OpenStreetMap contributors, ODbL 1.0. http://osm.org/copyright', 'osm_type': 'way', 'osm_id': 80414558, 'lat': '28.6430858', 'lon': '77.2192671', 'class': 'railway', 'type': 'station', 'place_rank': 30, 'importance': 0.45936793322640973, 'addresstype': 'railway', 'name': 'New Delhi', 'display_name': 'New Delhi, Foot Over Bridge 1, Ram Nagar, New Delhi Railway Station, Delhi, Kotwali Tehsil, Central Delhi, Delhi, 110006, India', 'address': {'railway': 'New Delhi', 'road': 'Foot Over Bridge 1', 'neighbourhood': 'Ram Nagar', 'suburb': 'New Delhi Railway Station', 'city': 'Delhi', 'ISO3166-2-lvl15': 'IN-DL', 'county': 'Kotwali Tehsil', 'state_district': 'Central Delhi', 'state': 'Delhi', 'ISO3166-2-lvl4': 'IN-DL', 'postcode': '110006', 'country': 'India', 'country_code': 'in'}, 'boundingbox': ['28.6421417', '28.6438360', '77.2189812', '77.2196548']}, {'place_id': 226589546, 'licence': 'Data © OpenStreetMap contributors, ODbL 1.0. http://osm.org/copyright', 'osm_type': 'node', 'osm_id': 6131069513, 'lat': '28.6419258', 'lon': '77.2217499', 'class': 'railway', 'type': 'station', 'place_rank': 30, 'importance': 0.45936793322640973, 'addresstype': 'railway', 'name': 'New Delhi', 'display_name': 'New Delhi, Bhavbhuti Marg, Sita Ram Bazaar, Delhi, Kotwali Tehsil, Central Delhi, Delhi, 110006, India', 'address': {'railway': 'New Delhi', 'road': 'Bhavbhuti Marg', 'neighbourhood': 'Sita Ram Bazaar', 'city': 'Delhi', 'ISO3166-2-lvl15': 'IN-DL', 'county': 'Kotwali Tehsil', 'state_district': 'Central Delhi', 'state': 'Delhi', 'ISO3166-2-lvl4': 'IN-DL', 'postcode': '110006', 'country': 'India', 'country_code': 'in'}, 'boundingbox': ['28.6369258', '28.6469258', '77.2167499', '77.2267499']}, {'place_id': 224993073, 'licence': 'Data © OpenStreetMap contributors, ODbL 1.0. http://osm.org/copyright', 'osm_type': 'node', 'osm_id': 554257841, 'lat': '28.6434826', 'lon': '77.2227421', 'class': 'railway', 'type': 'station', 'place_rank': 30, 'importance': 0.3678483527124122, 'addresstype': 'railway', 'name': 'New Delhi', 'display_name': 'New Delhi, Jawaharlal Nehru Marg, Sita Ram Bazaar, Delhi, Kotwali Tehsil, Central Delhi, Delhi, 110006, India', 'address': {'railway': 'New Delhi', 'road': 'Jawaharlal Nehru Marg', 'neighbourhood': 'Sita Ram Bazaar', 'city': 'Delhi', 'ISO3166-2-lvl15': 'IN-DL', 'county': 'Kotwali Tehsil', 'state_district': 'Central Delhi', 'state': 'Delhi', 'ISO3166-2-lvl4': 'IN-DL', 'postcode': '110006', 'country': 'India', 'country_code': 'in'}, 'boundingbox': ['28.6384826', '28.6484826', '77.2177421', '77.2277421']}, {'place_id': 395269315, 'licence': 'Data © OpenStreetMap contributors, ODbL 1.0. http://osm.org/copyright', 'osm_type': 'relation', 'osm_id': 2763541, 'lat': '28.6138954', 'lon': '77.2090057', 'class': 'boundary', 'type': 'administrative', 'place_rank': 10, 'importance': 0.2667441481651026, 'addresstype': 'city', 'name': 'New Delhi', 'display_name': 'New Delhi, Delhi, India', 'address': {'city': 'New Delhi', 'state': 'Delhi', 'ISO3166-2-lvl4': 'IN-DL', 'country': 'India', 'country_code': 'in'}, 'boundingbox': ['28.4812209', '28.6456842', '77.0503708', '77.2551392']}, {'place_id': 230023570, 'licence': 'Data © OpenStreetMap contributors, ODbL 1.0. http://osm.org/copyright', 'osm_type': 'node', 'osm_id': 3206040351, 'lat': '19.0624996', 'lon': '72.9288123', 'class': 'tourism', 'type': 'hotel', 'place_rank': 30, 'importance': 7.599526970316652e-05, 'addresstype': 'tourism', 'name': 'new delhi', 'display_name': 'new delhi, Road 13, Adarsh Nagar, M/E Ward, Zone 5, Mumbai Suburban, Maharashtra, 400043, India', 'address': {'tourism': 'new delhi', 'road': 'Road 13', 'neighbourhood': 'Adarsh Nagar', 'suburb': 'M/E Ward', 'city_district': 'Zone 5', 'city': 'Mumbai Suburban', 'state': 'Maharashtra', 'ISO3166-2-lvl4': 'IN-MH', 'postcode': '400043', 'country': 'India', 'country_code': 'in'}, 'boundingbox': ['19.0624496', '19.0625496', '72.9287623', '72.9288623']}, {'place_id': 224636380, 'licence': 'Data © OpenStreetMap contributors, ODbL 1.0. http://osm.org/copyright', 'osm_type': 'node', 'osm_id': 938372581, 'lat': '28.6423596', 'lon': '77.2196366', 'class': 'railway', 'type': 'stop', 'place_rank': 30, 'importance': 5.58350499732512e-05, 'addresstype': 'railway', 'name': 'New Delhi', 'display_name': 'New Delhi, State Entry Road, Shankar Market, New Delhi Railway Station, Chanakya Puri Tehsil, New Delhi, Delhi, 110055, India', 'address': {'railway': 'New Delhi', 'road': 'State Entry Road', 'neighbourhood': 'Shankar Market', 'suburb': 'New Delhi Railway Station', 'city_district': 'Chanakya Puri Tehsil', 'city': 'New Delhi', 'state': 'Delhi', 'ISO3166-2-lvl4': 'IN-DL', 'postcode': '110055', 'country': 'India', 'country_code': 'in'}, 'boundingbox': ['28.6423096', '28.6424096', '77.2195866', '77.2196866']}, {'place_id': 226754617, 'licence': 'Data © OpenStreetMap contributors, ODbL 1.0. http://osm.org/copyright', 'osm_type': 'node', 'osm_id': 6547772097, 'lat': '28.6434707', 'lon': '77.2227708', 'class': 'railway', 'type': 'stop', 'place_rank': 30, 'importance': 5.58350499732512e-05, 'addresstype': 'railway', 'name': 'New Delhi', 'display_name': 'New Delhi, Jawaharlal Nehru Marg, Sita Ram Bazaar, Delhi, Kotwali Tehsil, Central Delhi, Delhi, 110006, India', 'address': {'railway': 'New Delhi', 'road': 'Jawaharlal Nehru Marg', 'neighbourhood': 'Sita Ram Bazaar', 'city': 'Delhi', 'ISO3166-2-lvl15': 'IN-DL', 'county': 'Kotwali Tehsil', 'state_district': 'Central Delhi', 'state': 'Delhi', 'ISO3166-2-lvl4': 'IN-DL', 'postcode': '110006', 'country': 'India', 'country_code': 'in'}, 'boundingbox': ['28.6434207', '28.6435207', '77.2227208', '77.2228208']}, {'place_id': 226595620, 'licence': 'Data © OpenStreetMap contributors, ODbL 1.0. http://osm.org/copyright', 'osm_type': 'node', 'osm_id': 938372557, 'lat': '28.6425394', 'lon': '77.2208372', 'class': 'railway', 'type': 'stop', 'place_rank': 30, 'importance': 5.58350499732512e-05, 'addresstype': 'railway', 'name': 'New Delhi', 'display_name': 'New Delhi, Foot Over Bridge 1, Ram Nagar, New Delhi Railway Station, Delhi, Kotwali Tehsil, Central Delhi, Delhi, 110006, India', 'address': {'railway': 'New Delhi', 'road': 'Foot Over Bridge 1', 'neighbourhood': 'Ram Nagar', 'suburb': 'New Delhi Railway Station', 'city': 'Delhi', 'ISO3166-2-lvl15': 'IN-DL', 'county': 'Kotwali Tehsil', 'state_district': 'Central Delhi', 'state': 'Delhi', 'ISO3166-2-lvl4': 'IN-DL', 'postcode': '110006', 'country': 'India', 'country_code': 'in'}, 'boundingbox': ['28.6424894', '28.6425894', '77.2207872', '77.2208872']}]\n",
      "Location: New Delhi, India ####### Bounding Box: ['28.6421417', '28.6438360', '77.2189812', '77.2196548']\n",
      "Expanded Bounding Box: [28.507006564864863, 77.06500272884998, 28.778971135135137, 77.37363327115003]\n",
      "\n",
      "\n",
      "\u001b[1m\u001b[95m# Agent:\u001b[00m \u001b[1m\u001b[92mGeospatial Data Specialist\u001b[00m\n",
      "\u001b[95m## Thought:\u001b[00m \u001b[92mThought: I need to retrieve the bounding box coordinates for the locations specified, starting with 'New Delhi, India'.\u001b[00m\n",
      "\u001b[95m## Using tool:\u001b[00m \u001b[92mbounding_box_extractor\u001b[00m\n",
      "\u001b[95m## Tool Input:\u001b[00m \u001b[92m\n",
      "\"{\\\"location\\\": \\\"New Delhi, India\\\"}\"\u001b[00m\n",
      "\u001b[95m## Tool Output:\u001b[00m \u001b[92m\n",
      "[28.507006564864863, 77.06500272884998, 28.778971135135137, 77.37363327115003]\u001b[00m\n"
     ]
    },
    {
     "data": {
      "text/html": [
       "<pre style=\"white-space:pre;overflow-x:auto;line-height:normal;font-family:Menlo,'DejaVu Sans Mono',consolas,'Courier New',monospace\"><span style=\"color: #008000; text-decoration-color: #008000; font-weight: bold\">🤖 Agent: </span><span style=\"color: #008000; text-decoration-color: #008000\">Geospatial Data Specialist</span>\n",
       "<span style=\"color: #c0c0c0; text-decoration-color: #c0c0c0\">    Status: </span><span style=\"color: #008000; text-decoration-color: #008000; font-weight: bold\">In Progress</span>\n",
       "└── <span style=\"color: #000080; text-decoration-color: #000080; font-weight: bold\">🧠 </span><span style=\"color: #000080; text-decoration-color: #000080\">Thinking...</span>\n",
       "</pre>\n"
      ],
      "text/plain": [
       "\u001b[1;32m🤖 Agent: \u001b[0m\u001b[32mGeospatial Data Specialist\u001b[0m\n",
       "\u001b[37m    Status: \u001b[0m\u001b[1;32mIn Progress\u001b[0m\n",
       "└── \u001b[1;34m🧠 \u001b[0m\u001b[34mThinking...\u001b[0m\n"
      ]
     },
     "metadata": {},
     "output_type": "display_data"
    },
    {
     "data": {
      "text/html": [
       "<pre style=\"white-space:pre;overflow-x:auto;line-height:normal;font-family:Menlo,'DejaVu Sans Mono',consolas,'Courier New',monospace\">\n",
       "</pre>\n"
      ],
      "text/plain": [
       "\n"
      ]
     },
     "metadata": {},
     "output_type": "display_data"
    },
    {
     "data": {
      "text/html": [
       "<pre style=\"white-space:pre;overflow-x:auto;line-height:normal;font-family:Menlo,'DejaVu Sans Mono',consolas,'Courier New',monospace\"><span style=\"color: #008000; text-decoration-color: #008000; font-weight: bold\">🤖 Agent: </span><span style=\"color: #008000; text-decoration-color: #008000\">Geospatial Data Specialist</span>\n",
       "<span style=\"color: #c0c0c0; text-decoration-color: #c0c0c0\">    Status: </span><span style=\"color: #008000; text-decoration-color: #008000; font-weight: bold\">In Progress</span>\n",
       "</pre>\n"
      ],
      "text/plain": [
       "\u001b[1;32m🤖 Agent: \u001b[0m\u001b[32mGeospatial Data Specialist\u001b[0m\n",
       "\u001b[37m    Status: \u001b[0m\u001b[1;32mIn Progress\u001b[0m\n"
      ]
     },
     "metadata": {},
     "output_type": "display_data"
    },
    {
     "data": {
      "text/html": [
       "<pre style=\"white-space:pre;overflow-x:auto;line-height:normal;font-family:Menlo,'DejaVu Sans Mono',consolas,'Courier New',monospace\">\n",
       "</pre>\n"
      ],
      "text/plain": [
       "\n"
      ]
     },
     "metadata": {},
     "output_type": "display_data"
    },
    {
     "data": {
      "text/html": [
       "<pre style=\"white-space:pre;overflow-x:auto;line-height:normal;font-family:Menlo,'DejaVu Sans Mono',consolas,'Courier New',monospace\"><span style=\"color: #008000; text-decoration-color: #008000; font-weight: bold\">🤖 Agent: </span><span style=\"color: #008000; text-decoration-color: #008000\">Geospatial Data Specialist</span>\n",
       "<span style=\"color: #c0c0c0; text-decoration-color: #c0c0c0\">    Status: </span><span style=\"color: #008000; text-decoration-color: #008000; font-weight: bold\">In Progress</span>\n",
       "</pre>\n"
      ],
      "text/plain": [
       "\u001b[1;32m🤖 Agent: \u001b[0m\u001b[32mGeospatial Data Specialist\u001b[0m\n",
       "\u001b[37m    Status: \u001b[0m\u001b[1;32mIn Progress\u001b[0m\n"
      ]
     },
     "metadata": {},
     "output_type": "display_data"
    },
    {
     "data": {
      "text/html": [
       "<pre style=\"white-space:pre;overflow-x:auto;line-height:normal;font-family:Menlo,'DejaVu Sans Mono',consolas,'Courier New',monospace\">\n",
       "</pre>\n"
      ],
      "text/plain": [
       "\n"
      ]
     },
     "metadata": {},
     "output_type": "display_data"
    },
    {
     "name": "stdout",
     "output_type": "stream",
     "text": [
      "[{'place_id': 232241958, 'licence': 'Data © OpenStreetMap contributors, ODbL 1.0. http://osm.org/copyright', 'osm_type': 'node', 'osm_id': 3233393892, 'lat': '13.0836939', 'lon': '80.2701860', 'class': 'place', 'type': 'city', 'place_rank': 16, 'importance': 0.6718999325502538, 'addresstype': 'city', 'name': 'Chennai', 'display_name': 'Chennai, Tamil Nadu, 600001, India', 'address': {'city': 'Chennai', 'state_district': 'Chennai', 'state': 'Tamil Nadu', 'ISO3166-2-lvl4': 'IN-TN', 'postcode': '600001', 'country': 'India', 'country_code': 'in'}, 'boundingbox': ['12.9236939', '13.2436939', '80.1101860', '80.4301860']}, {'place_id': 232994067, 'licence': 'Data © OpenStreetMap contributors, ODbL 1.0. http://osm.org/copyright', 'osm_type': 'relation', 'osm_id': 7910817, 'lat': '13.0008413', 'lon': '80.2023035', 'class': 'boundary', 'type': 'administrative', 'place_rank': 10, 'importance': 0.5074888160565226, 'addresstype': 'state_district', 'name': 'Chennai', 'display_name': 'Chennai, Tamil Nadu, India', 'address': {'state_district': 'Chennai', 'state': 'Tamil Nadu', 'ISO3166-2-lvl4': 'IN-TN', 'country': 'India', 'country_code': 'in'}, 'boundingbox': ['12.8514482', '13.1502817', '80.1182821', '80.3069299']}]\n",
      "Location: Chennai, India ####### Bounding Box: ['12.9236939', '13.2436939', '80.1101860', '80.4301860']\n",
      "Expanded Bounding Box: [12.788558764864865, 79.97144932055834, 13.378829035135135, 80.56892267944167]\n",
      "\n",
      "\n",
      "\u001b[1m\u001b[95m# Agent:\u001b[00m \u001b[1m\u001b[92mGeospatial Data Specialist\u001b[00m\n",
      "\u001b[95m## Thought:\u001b[00m \u001b[92mThought: Next, I will retrieve the bounding box coordinates for the second location, 'Chennai, India'.\u001b[00m\n",
      "\u001b[95m## Using tool:\u001b[00m \u001b[92mbounding_box_extractor\u001b[00m\n",
      "\u001b[95m## Tool Input:\u001b[00m \u001b[92m\n",
      "\"{\\\"location\\\": \\\"Chennai, India\\\"}\"\u001b[00m\n",
      "\u001b[95m## Tool Output:\u001b[00m \u001b[92m\n",
      "[12.788558764864865, 79.97144932055834, 13.378829035135135, 80.56892267944167]\u001b[00m\n"
     ]
    },
    {
     "data": {
      "text/html": [
       "<pre style=\"white-space:pre;overflow-x:auto;line-height:normal;font-family:Menlo,'DejaVu Sans Mono',consolas,'Courier New',monospace\"><span style=\"color: #008000; text-decoration-color: #008000; font-weight: bold\">🤖 Agent: </span><span style=\"color: #008000; text-decoration-color: #008000\">Geospatial Data Specialist</span>\n",
       "<span style=\"color: #c0c0c0; text-decoration-color: #c0c0c0\">    Status: </span><span style=\"color: #008000; text-decoration-color: #008000; font-weight: bold\">In Progress</span>\n",
       "└── <span style=\"color: #000080; text-decoration-color: #000080; font-weight: bold\">🧠 </span><span style=\"color: #000080; text-decoration-color: #000080\">Thinking...</span>\n",
       "</pre>\n"
      ],
      "text/plain": [
       "\u001b[1;32m🤖 Agent: \u001b[0m\u001b[32mGeospatial Data Specialist\u001b[0m\n",
       "\u001b[37m    Status: \u001b[0m\u001b[1;32mIn Progress\u001b[0m\n",
       "└── \u001b[1;34m🧠 \u001b[0m\u001b[34mThinking...\u001b[0m\n"
      ]
     },
     "metadata": {},
     "output_type": "display_data"
    },
    {
     "data": {
      "text/html": [
       "<pre style=\"white-space:pre;overflow-x:auto;line-height:normal;font-family:Menlo,'DejaVu Sans Mono',consolas,'Courier New',monospace\">\n",
       "</pre>\n"
      ],
      "text/plain": [
       "\n"
      ]
     },
     "metadata": {},
     "output_type": "display_data"
    },
    {
     "data": {
      "text/html": [
       "<pre style=\"white-space:pre;overflow-x:auto;line-height:normal;font-family:Menlo,'DejaVu Sans Mono',consolas,'Courier New',monospace\"><span style=\"color: #008000; text-decoration-color: #008000; font-weight: bold\">🤖 Agent: </span><span style=\"color: #008000; text-decoration-color: #008000\">Geospatial Data Specialist</span>\n",
       "<span style=\"color: #c0c0c0; text-decoration-color: #c0c0c0\">    Status: </span><span style=\"color: #008000; text-decoration-color: #008000; font-weight: bold\">In Progress</span>\n",
       "</pre>\n"
      ],
      "text/plain": [
       "\u001b[1;32m🤖 Agent: \u001b[0m\u001b[32mGeospatial Data Specialist\u001b[0m\n",
       "\u001b[37m    Status: \u001b[0m\u001b[1;32mIn Progress\u001b[0m\n"
      ]
     },
     "metadata": {},
     "output_type": "display_data"
    },
    {
     "data": {
      "text/html": [
       "<pre style=\"white-space:pre;overflow-x:auto;line-height:normal;font-family:Menlo,'DejaVu Sans Mono',consolas,'Courier New',monospace\">\n",
       "</pre>\n"
      ],
      "text/plain": [
       "\n"
      ]
     },
     "metadata": {},
     "output_type": "display_data"
    },
    {
     "name": "stdout",
     "output_type": "stream",
     "text": [
      "\n",
      "\n",
      "\u001b[1m\u001b[95m# Agent:\u001b[00m \u001b[1m\u001b[92mGeospatial Data Specialist\u001b[00m\n",
      "\u001b[95m## Final Answer:\u001b[00m \u001b[92m\n",
      "{\n",
      "  \"New Delhi, India\": [28.507006564864863, 77.06500272884998, 28.778971135135137, 77.37363327115003],\n",
      "  \"Chennai, India\": [12.788558764864865, 79.97144932055834, 13.378829035135135, 80.56892267944167]\n",
      "}\u001b[00m\n",
      "\n",
      "\n"
     ]
    },
    {
     "data": {
      "text/html": [
       "<pre style=\"white-space:pre;overflow-x:auto;line-height:normal;font-family:Menlo,'DejaVu Sans Mono',consolas,'Courier New',monospace\"><span style=\"color: #008080; text-decoration-color: #008080; font-weight: bold\">🚀 Crew: crew</span>\n",
       "└── <span style=\"color: #808000; text-decoration-color: #808000; font-weight: bold\">📋 Task: 949981bf-7b60-47df-8841-c79c871903cd</span>\n",
       "    <span style=\"color: #c0c0c0; text-decoration-color: #c0c0c0\">   Status: </span><span style=\"color: #bfbf7f; text-decoration-color: #bfbf7f\">Executing Task...</span>\n",
       "    └── <span style=\"color: #008000; text-decoration-color: #008000; font-weight: bold\">🤖 Agent: </span><span style=\"color: #008000; text-decoration-color: #008000\">Geospatial Data Specialist</span>\n",
       "        <span style=\"color: #c0c0c0; text-decoration-color: #c0c0c0\">    Status: </span><span style=\"color: #008000; text-decoration-color: #008000; font-weight: bold\">✅ Completed</span>\n",
       "</pre>\n"
      ],
      "text/plain": [
       "\u001b[1;36m🚀 Crew: \u001b[0m\u001b[1;36mcrew\u001b[0m\n",
       "└── \u001b[1;33m📋 Task: 949981bf-7b60-47df-8841-c79c871903cd\u001b[0m\n",
       "    \u001b[37m   Status: \u001b[0m\u001b[2;33mExecuting Task...\u001b[0m\n",
       "    └── \u001b[1;32m🤖 Agent: \u001b[0m\u001b[32mGeospatial Data Specialist\u001b[0m\n",
       "        \u001b[37m    Status: \u001b[0m\u001b[1;32m✅ Completed\u001b[0m\n"
      ]
     },
     "metadata": {},
     "output_type": "display_data"
    },
    {
     "data": {
      "text/html": [
       "<pre style=\"white-space:pre;overflow-x:auto;line-height:normal;font-family:Menlo,'DejaVu Sans Mono',consolas,'Courier New',monospace\">\n",
       "</pre>\n"
      ],
      "text/plain": [
       "\n"
      ]
     },
     "metadata": {},
     "output_type": "display_data"
    },
    {
     "data": {
      "text/html": [
       "<pre style=\"white-space:pre;overflow-x:auto;line-height:normal;font-family:Menlo,'DejaVu Sans Mono',consolas,'Courier New',monospace\"><span style=\"color: #008080; text-decoration-color: #008080; font-weight: bold\">🚀 Crew: crew</span>\n",
       "└── <span style=\"color: #008000; text-decoration-color: #008000; font-weight: bold\">📋 Task: 949981bf-7b60-47df-8841-c79c871903cd</span>\n",
       "    <span style=\"color: #c0c0c0; text-decoration-color: #c0c0c0\">   Assigned to: </span><span style=\"color: #008000; text-decoration-color: #008000\">Geospatial Data Specialist</span>\n",
       "    <span style=\"color: #c0c0c0; text-decoration-color: #c0c0c0\">   Status: </span><span style=\"color: #008000; text-decoration-color: #008000; font-weight: bold\">✅ Completed</span>\n",
       "    └── <span style=\"color: #008000; text-decoration-color: #008000; font-weight: bold\">🤖 Agent: </span><span style=\"color: #008000; text-decoration-color: #008000\">Geospatial Data Specialist</span>\n",
       "        <span style=\"color: #c0c0c0; text-decoration-color: #c0c0c0\">    Status: </span><span style=\"color: #008000; text-decoration-color: #008000; font-weight: bold\">✅ Completed</span>\n",
       "</pre>\n"
      ],
      "text/plain": [
       "\u001b[1;36m🚀 Crew: \u001b[0m\u001b[1;36mcrew\u001b[0m\n",
       "└── \u001b[1;32m📋 Task: 949981bf-7b60-47df-8841-c79c871903cd\u001b[0m\n",
       "    \u001b[37m   Assigned to: \u001b[0m\u001b[32mGeospatial Data Specialist\u001b[0m\n",
       "    \u001b[37m   Status: \u001b[0m\u001b[1;32m✅ Completed\u001b[0m\n",
       "    └── \u001b[1;32m🤖 Agent: \u001b[0m\u001b[32mGeospatial Data Specialist\u001b[0m\n",
       "        \u001b[37m    Status: \u001b[0m\u001b[1;32m✅ Completed\u001b[0m\n"
      ]
     },
     "metadata": {},
     "output_type": "display_data"
    },
    {
     "data": {
      "text/html": [
       "<pre style=\"white-space:pre;overflow-x:auto;line-height:normal;font-family:Menlo,'DejaVu Sans Mono',consolas,'Courier New',monospace\"><span style=\"color: #008000; text-decoration-color: #008000\">╭──────────────────────────────────────────────── Task Completion ────────────────────────────────────────────────╮</span>\n",
       "<span style=\"color: #008000; text-decoration-color: #008000\">│</span>                                                                                                                 <span style=\"color: #008000; text-decoration-color: #008000\">│</span>\n",
       "<span style=\"color: #008000; text-decoration-color: #008000\">│</span>  <span style=\"color: #008000; text-decoration-color: #008000; font-weight: bold\">Task Completed</span>                                                                                                 <span style=\"color: #008000; text-decoration-color: #008000\">│</span>\n",
       "<span style=\"color: #008000; text-decoration-color: #008000\">│</span>  <span style=\"color: #c0c0c0; text-decoration-color: #c0c0c0\">Name: </span><span style=\"color: #008000; text-decoration-color: #008000\">949981bf-7b60-47df-8841-c79c871903cd</span>                                                                     <span style=\"color: #008000; text-decoration-color: #008000\">│</span>\n",
       "<span style=\"color: #008000; text-decoration-color: #008000\">│</span>  <span style=\"color: #c0c0c0; text-decoration-color: #c0c0c0\">Agent: </span><span style=\"color: #008000; text-decoration-color: #008000\">Geospatial Data Specialist</span>                                                                              <span style=\"color: #008000; text-decoration-color: #008000\">│</span>\n",
       "<span style=\"color: #008000; text-decoration-color: #008000\">│</span>                                                                                                                 <span style=\"color: #008000; text-decoration-color: #008000\">│</span>\n",
       "<span style=\"color: #008000; text-decoration-color: #008000\">│</span>                                                                                                                 <span style=\"color: #008000; text-decoration-color: #008000\">│</span>\n",
       "<span style=\"color: #008000; text-decoration-color: #008000\">╰─────────────────────────────────────────────────────────────────────────────────────────────────────────────────╯</span>\n",
       "</pre>\n"
      ],
      "text/plain": [
       "\u001b[32m╭─\u001b[0m\u001b[32m───────────────────────────────────────────────\u001b[0m\u001b[32m Task Completion \u001b[0m\u001b[32m───────────────────────────────────────────────\u001b[0m\u001b[32m─╮\u001b[0m\n",
       "\u001b[32m│\u001b[0m                                                                                                                 \u001b[32m│\u001b[0m\n",
       "\u001b[32m│\u001b[0m  \u001b[1;32mTask Completed\u001b[0m                                                                                                 \u001b[32m│\u001b[0m\n",
       "\u001b[32m│\u001b[0m  \u001b[37mName: \u001b[0m\u001b[32m949981bf-7b60-47df-8841-c79c871903cd\u001b[0m                                                                     \u001b[32m│\u001b[0m\n",
       "\u001b[32m│\u001b[0m  \u001b[37mAgent: \u001b[0m\u001b[32mGeospatial Data Specialist\u001b[0m                                                                              \u001b[32m│\u001b[0m\n",
       "\u001b[32m│\u001b[0m                                                                                                                 \u001b[32m│\u001b[0m\n",
       "\u001b[32m│\u001b[0m                                                                                                                 \u001b[32m│\u001b[0m\n",
       "\u001b[32m╰─────────────────────────────────────────────────────────────────────────────────────────────────────────────────╯\u001b[0m\n"
      ]
     },
     "metadata": {},
     "output_type": "display_data"
    },
    {
     "data": {
      "text/html": [
       "<pre style=\"white-space:pre;overflow-x:auto;line-height:normal;font-family:Menlo,'DejaVu Sans Mono',consolas,'Courier New',monospace\">\n",
       "</pre>\n"
      ],
      "text/plain": [
       "\n"
      ]
     },
     "metadata": {},
     "output_type": "display_data"
    },
    {
     "data": {
      "text/html": [
       "<pre style=\"white-space:pre;overflow-x:auto;line-height:normal;font-family:Menlo,'DejaVu Sans Mono',consolas,'Courier New',monospace\"><span style=\"color: #008080; text-decoration-color: #008080; font-weight: bold\">🚀 Crew: crew</span>\n",
       "├── <span style=\"color: #008000; text-decoration-color: #008000; font-weight: bold\">📋 Task: 949981bf-7b60-47df-8841-c79c871903cd</span>\n",
       "│   <span style=\"color: #c0c0c0; text-decoration-color: #c0c0c0\">   Assigned to: </span><span style=\"color: #008000; text-decoration-color: #008000\">Geospatial Data Specialist</span>\n",
       "│   <span style=\"color: #c0c0c0; text-decoration-color: #c0c0c0\">   Status: </span><span style=\"color: #008000; text-decoration-color: #008000; font-weight: bold\">✅ Completed</span>\n",
       "│   └── <span style=\"color: #008000; text-decoration-color: #008000; font-weight: bold\">🤖 Agent: </span><span style=\"color: #008000; text-decoration-color: #008000\">Geospatial Data Specialist</span>\n",
       "│       <span style=\"color: #c0c0c0; text-decoration-color: #c0c0c0\">    Status: </span><span style=\"color: #008000; text-decoration-color: #008000; font-weight: bold\">✅ Completed</span>\n",
       "└── <span style=\"color: #808000; text-decoration-color: #808000; font-weight: bold\">📋 Task: dfa17cc8-5fbd-4761-b884-2960eefd804b</span>\n",
       "    <span style=\"color: #c0c0c0; text-decoration-color: #c0c0c0\">   Status: </span><span style=\"color: #bfbf7f; text-decoration-color: #bfbf7f\">Executing Task...</span>\n",
       "</pre>\n"
      ],
      "text/plain": [
       "\u001b[1;36m🚀 Crew: \u001b[0m\u001b[1;36mcrew\u001b[0m\n",
       "├── \u001b[1;32m📋 Task: 949981bf-7b60-47df-8841-c79c871903cd\u001b[0m\n",
       "│   \u001b[37m   Assigned to: \u001b[0m\u001b[32mGeospatial Data Specialist\u001b[0m\n",
       "│   \u001b[37m   Status: \u001b[0m\u001b[1;32m✅ Completed\u001b[0m\n",
       "│   └── \u001b[1;32m🤖 Agent: \u001b[0m\u001b[32mGeospatial Data Specialist\u001b[0m\n",
       "│       \u001b[37m    Status: \u001b[0m\u001b[1;32m✅ Completed\u001b[0m\n",
       "└── \u001b[1;33m📋 Task: dfa17cc8-5fbd-4761-b884-2960eefd804b\u001b[0m\n",
       "    \u001b[37m   Status: \u001b[0m\u001b[2;33mExecuting Task...\u001b[0m\n"
      ]
     },
     "metadata": {},
     "output_type": "display_data"
    },
    {
     "data": {
      "text/html": [
       "<pre style=\"white-space:pre;overflow-x:auto;line-height:normal;font-family:Menlo,'DejaVu Sans Mono',consolas,'Courier New',monospace\">\n",
       "</pre>\n"
      ],
      "text/plain": [
       "\n"
      ]
     },
     "metadata": {},
     "output_type": "display_data"
    },
    {
     "data": {
      "text/html": [
       "<pre style=\"white-space:pre;overflow-x:auto;line-height:normal;font-family:Menlo,'DejaVu Sans Mono',consolas,'Courier New',monospace\"><span style=\"color: #008080; text-decoration-color: #008080; font-weight: bold\">🚀 Crew: crew</span>\n",
       "├── <span style=\"color: #008000; text-decoration-color: #008000; font-weight: bold\">📋 Task: 949981bf-7b60-47df-8841-c79c871903cd</span>\n",
       "│   <span style=\"color: #c0c0c0; text-decoration-color: #c0c0c0\">   Assigned to: </span><span style=\"color: #008000; text-decoration-color: #008000\">Geospatial Data Specialist</span>\n",
       "│   <span style=\"color: #c0c0c0; text-decoration-color: #c0c0c0\">   Status: </span><span style=\"color: #008000; text-decoration-color: #008000; font-weight: bold\">✅ Completed</span>\n",
       "│   └── <span style=\"color: #008000; text-decoration-color: #008000; font-weight: bold\">🤖 Agent: </span><span style=\"color: #008000; text-decoration-color: #008000\">Geospatial Data Specialist</span>\n",
       "│       <span style=\"color: #c0c0c0; text-decoration-color: #c0c0c0\">    Status: </span><span style=\"color: #008000; text-decoration-color: #008000; font-weight: bold\">✅ Completed</span>\n",
       "└── <span style=\"color: #808000; text-decoration-color: #808000; font-weight: bold\">📋 Task: dfa17cc8-5fbd-4761-b884-2960eefd804b</span>\n",
       "    <span style=\"color: #c0c0c0; text-decoration-color: #c0c0c0\">   Status: </span><span style=\"color: #bfbf7f; text-decoration-color: #bfbf7f\">Executing Task...</span>\n",
       "    └── <span style=\"color: #008000; text-decoration-color: #008000; font-weight: bold\">🤖 Agent: </span><span style=\"color: #008000; text-decoration-color: #008000\">Historical Weather Data Specialist</span>\n",
       "        <span style=\"color: #c0c0c0; text-decoration-color: #c0c0c0\">    Status: </span><span style=\"color: #008000; text-decoration-color: #008000; font-weight: bold\">In Progress</span>\n",
       "</pre>\n"
      ],
      "text/plain": [
       "\u001b[1;36m🚀 Crew: \u001b[0m\u001b[1;36mcrew\u001b[0m\n",
       "├── \u001b[1;32m📋 Task: 949981bf-7b60-47df-8841-c79c871903cd\u001b[0m\n",
       "│   \u001b[37m   Assigned to: \u001b[0m\u001b[32mGeospatial Data Specialist\u001b[0m\n",
       "│   \u001b[37m   Status: \u001b[0m\u001b[1;32m✅ Completed\u001b[0m\n",
       "│   └── \u001b[1;32m🤖 Agent: \u001b[0m\u001b[32mGeospatial Data Specialist\u001b[0m\n",
       "│       \u001b[37m    Status: \u001b[0m\u001b[1;32m✅ Completed\u001b[0m\n",
       "└── \u001b[1;33m📋 Task: dfa17cc8-5fbd-4761-b884-2960eefd804b\u001b[0m\n",
       "    \u001b[37m   Status: \u001b[0m\u001b[2;33mExecuting Task...\u001b[0m\n",
       "    └── \u001b[1;32m🤖 Agent: \u001b[0m\u001b[32mHistorical Weather Data Specialist\u001b[0m\n",
       "        \u001b[37m    Status: \u001b[0m\u001b[1;32mIn Progress\u001b[0m\n"
      ]
     },
     "metadata": {},
     "output_type": "display_data"
    },
    {
     "data": {
      "text/html": [
       "<pre style=\"white-space:pre;overflow-x:auto;line-height:normal;font-family:Menlo,'DejaVu Sans Mono',consolas,'Courier New',monospace\">\n",
       "</pre>\n"
      ],
      "text/plain": [
       "\n"
      ]
     },
     "metadata": {},
     "output_type": "display_data"
    },
    {
     "name": "stdout",
     "output_type": "stream",
     "text": [
      "\u001b[1m\u001b[95m# Agent:\u001b[00m \u001b[1m\u001b[92mHistorical Weather Data Specialist\u001b[00m\n",
      "\u001b[95m## Task:\u001b[00m \u001b[92mFor each of the following locations: ['New Delhi, India', 'Chennai, India'], use the bounding boxes (south, west, north, east) to query the weather tool to find a concise summary of relevant historical weather conditions between 2024-12-31 and 2025-01-02. Focus on key weather aspects that might influence air quality (e.g., temperature, wind, precipitation).\u001b[00m\n"
     ]
    },
    {
     "data": {
      "text/html": [
       "<pre style=\"white-space:pre;overflow-x:auto;line-height:normal;font-family:Menlo,'DejaVu Sans Mono',consolas,'Courier New',monospace\"><span style=\"color: #008000; text-decoration-color: #008000; font-weight: bold\">🤖 Agent: </span><span style=\"color: #008000; text-decoration-color: #008000\">Historical Weather Data Specialist</span>\n",
       "<span style=\"color: #c0c0c0; text-decoration-color: #c0c0c0\">    Status: </span><span style=\"color: #008000; text-decoration-color: #008000; font-weight: bold\">In Progress</span>\n",
       "</pre>\n"
      ],
      "text/plain": [
       "\u001b[1;32m🤖 Agent: \u001b[0m\u001b[32mHistorical Weather Data Specialist\u001b[0m\n",
       "\u001b[37m    Status: \u001b[0m\u001b[1;32mIn Progress\u001b[0m\n"
      ]
     },
     "metadata": {},
     "output_type": "display_data"
    },
    {
     "data": {
      "text/html": [
       "<pre style=\"white-space:pre;overflow-x:auto;line-height:normal;font-family:Menlo,'DejaVu Sans Mono',consolas,'Courier New',monospace\">\n",
       "</pre>\n"
      ],
      "text/plain": [
       "\n"
      ]
     },
     "metadata": {},
     "output_type": "display_data"
    },
    {
     "name": "stdout",
     "output_type": "stream",
     "text": [
      "\n",
      "\n",
      "\u001b[1m\u001b[95m# Agent:\u001b[00m \u001b[1m\u001b[92mHistorical Weather Data Specialist\u001b[00m\n",
      "\u001b[95m## Thought:\u001b[00m \u001b[92mI need to query historical weather data for New Delhi and Chennai using the provided bounding boxes and the specified date range from 2024-12-31 to 2025-01-02.\u001b[00m\n",
      "\u001b[95m## Using tool:\u001b[00m \u001b[92mHistoricalWeatherTool\u001b[00m\n",
      "\u001b[95m## Tool Input:\u001b[00m \u001b[92m\n",
      "\"{\\\"bounding_box\\\": [28.507006564864863, 77.06500272884998, 28.778971135135137, 77.37363327115003], \\\"start_date\\\": \\\"2024-12-31\\\", \\\"end_date\\\": \\\"2025-01-02\\\"}\"\u001b[00m\n",
      "\u001b[95m## Tool Output:\u001b[00m \u001b[92m\n",
      "[{'date': '2024-12-31', 'temperature_mean_2m': 11.2, 'temperature_max_2m': 16.0, 'temperature_min_2m': 7.6, 'precipitation_sum': 0.0, 'wind_speed_10m_mean': 3.0, 'relative_humidity_2m_mean': 89}, {'date': '2025-01-01', 'temperature_mean_2m': 11.0, 'temperature_max_2m': 17.0, 'temperature_min_2m': 7.6, 'precipitation_sum': 0.0, 'wind_speed_10m_mean': 5.2, 'relative_humidity_2m_mean': 89}, {'date': '2025-01-02', 'temperature_mean_2m': 12.3, 'temperature_max_2m': 18.3, 'temperature_min_2m': 8.3, 'precipitation_sum': 0.0, 'wind_speed_10m_mean': 5.7, 'relative_humidity_2m_mean': 86}]\u001b[00m\n"
     ]
    },
    {
     "data": {
      "text/html": [
       "<pre style=\"white-space:pre;overflow-x:auto;line-height:normal;font-family:Menlo,'DejaVu Sans Mono',consolas,'Courier New',monospace\"><span style=\"color: #008000; text-decoration-color: #008000; font-weight: bold\">🤖 Agent: </span><span style=\"color: #008000; text-decoration-color: #008000\">Historical Weather Data Specialist</span>\n",
       "<span style=\"color: #c0c0c0; text-decoration-color: #c0c0c0\">    Status: </span><span style=\"color: #008000; text-decoration-color: #008000; font-weight: bold\">In Progress</span>\n",
       "└── <span style=\"color: #000080; text-decoration-color: #000080; font-weight: bold\">🧠 </span><span style=\"color: #000080; text-decoration-color: #000080\">Thinking...</span>\n",
       "</pre>\n"
      ],
      "text/plain": [
       "\u001b[1;32m🤖 Agent: \u001b[0m\u001b[32mHistorical Weather Data Specialist\u001b[0m\n",
       "\u001b[37m    Status: \u001b[0m\u001b[1;32mIn Progress\u001b[0m\n",
       "└── \u001b[1;34m🧠 \u001b[0m\u001b[34mThinking...\u001b[0m\n"
      ]
     },
     "metadata": {},
     "output_type": "display_data"
    },
    {
     "data": {
      "text/html": [
       "<pre style=\"white-space:pre;overflow-x:auto;line-height:normal;font-family:Menlo,'DejaVu Sans Mono',consolas,'Courier New',monospace\">\n",
       "</pre>\n"
      ],
      "text/plain": [
       "\n"
      ]
     },
     "metadata": {},
     "output_type": "display_data"
    },
    {
     "data": {
      "text/html": [
       "<pre style=\"white-space:pre;overflow-x:auto;line-height:normal;font-family:Menlo,'DejaVu Sans Mono',consolas,'Courier New',monospace\"><span style=\"color: #008000; text-decoration-color: #008000; font-weight: bold\">🤖 Agent: </span><span style=\"color: #008000; text-decoration-color: #008000\">Historical Weather Data Specialist</span>\n",
       "<span style=\"color: #c0c0c0; text-decoration-color: #c0c0c0\">    Status: </span><span style=\"color: #008000; text-decoration-color: #008000; font-weight: bold\">In Progress</span>\n",
       "</pre>\n"
      ],
      "text/plain": [
       "\u001b[1;32m🤖 Agent: \u001b[0m\u001b[32mHistorical Weather Data Specialist\u001b[0m\n",
       "\u001b[37m    Status: \u001b[0m\u001b[1;32mIn Progress\u001b[0m\n"
      ]
     },
     "metadata": {},
     "output_type": "display_data"
    },
    {
     "data": {
      "text/html": [
       "<pre style=\"white-space:pre;overflow-x:auto;line-height:normal;font-family:Menlo,'DejaVu Sans Mono',consolas,'Courier New',monospace\">\n",
       "</pre>\n"
      ],
      "text/plain": [
       "\n"
      ]
     },
     "metadata": {},
     "output_type": "display_data"
    },
    {
     "data": {
      "text/html": [
       "<pre style=\"white-space:pre;overflow-x:auto;line-height:normal;font-family:Menlo,'DejaVu Sans Mono',consolas,'Courier New',monospace\"><span style=\"color: #008000; text-decoration-color: #008000; font-weight: bold\">🤖 Agent: </span><span style=\"color: #008000; text-decoration-color: #008000\">Historical Weather Data Specialist</span>\n",
       "<span style=\"color: #c0c0c0; text-decoration-color: #c0c0c0\">    Status: </span><span style=\"color: #008000; text-decoration-color: #008000; font-weight: bold\">In Progress</span>\n",
       "</pre>\n"
      ],
      "text/plain": [
       "\u001b[1;32m🤖 Agent: \u001b[0m\u001b[32mHistorical Weather Data Specialist\u001b[0m\n",
       "\u001b[37m    Status: \u001b[0m\u001b[1;32mIn Progress\u001b[0m\n"
      ]
     },
     "metadata": {},
     "output_type": "display_data"
    },
    {
     "data": {
      "text/html": [
       "<pre style=\"white-space:pre;overflow-x:auto;line-height:normal;font-family:Menlo,'DejaVu Sans Mono',consolas,'Courier New',monospace\">\n",
       "</pre>\n"
      ],
      "text/plain": [
       "\n"
      ]
     },
     "metadata": {},
     "output_type": "display_data"
    },
    {
     "name": "stdout",
     "output_type": "stream",
     "text": [
      "\n",
      "\n",
      "\u001b[1m\u001b[95m# Agent:\u001b[00m \u001b[1m\u001b[92mHistorical Weather Data Specialist\u001b[00m\n",
      "\u001b[95m## Thought:\u001b[00m \u001b[92mThought: I need to proceed to gather historical weather data for Chennai, India using the specified bounding box and date range.\u001b[00m\n",
      "\u001b[95m## Using tool:\u001b[00m \u001b[92mHistoricalWeatherTool\u001b[00m\n",
      "\u001b[95m## Tool Input:\u001b[00m \u001b[92m\n",
      "\"{\\\"bounding_box\\\": [12.788558764864865, 79.97144932055834, 13.378829035135135, 80.56892267944167], \\\"start_date\\\": \\\"2024-12-31\\\", \\\"end_date\\\": \\\"2025-01-02\\\"}\"\u001b[00m\n",
      "\u001b[95m## Tool Output:\u001b[00m \u001b[92m\n",
      "[{'date': '2024-12-31', 'temperature_mean_2m': 26.1, 'temperature_max_2m': 28.1, 'temperature_min_2m': 24.4, 'precipitation_sum': 0.1, 'wind_speed_10m_mean': 14.4, 'relative_humidity_2m_mean': 81}, {'date': '2025-01-01', 'temperature_mean_2m': 25.7, 'temperature_max_2m': 27.8, 'temperature_min_2m': 23.6, 'precipitation_sum': 0.0, 'wind_speed_10m_mean': 12.1, 'relative_humidity_2m_mean': 79}, {'date': '2025-01-02', 'temperature_mean_2m': 25.4, 'temperature_max_2m': 27.8, 'temperature_min_2m': 23.2, 'precipitation_sum': 0.0, 'wind_speed_10m_mean': 10.4, 'relative_humidity_2m_mean': 72}]\u001b[00m\n"
     ]
    },
    {
     "data": {
      "text/html": [
       "<pre style=\"white-space:pre;overflow-x:auto;line-height:normal;font-family:Menlo,'DejaVu Sans Mono',consolas,'Courier New',monospace\"><span style=\"color: #008000; text-decoration-color: #008000; font-weight: bold\">🤖 Agent: </span><span style=\"color: #008000; text-decoration-color: #008000\">Historical Weather Data Specialist</span>\n",
       "<span style=\"color: #c0c0c0; text-decoration-color: #c0c0c0\">    Status: </span><span style=\"color: #008000; text-decoration-color: #008000; font-weight: bold\">In Progress</span>\n",
       "└── <span style=\"color: #000080; text-decoration-color: #000080; font-weight: bold\">🧠 </span><span style=\"color: #000080; text-decoration-color: #000080\">Thinking...</span>\n",
       "</pre>\n"
      ],
      "text/plain": [
       "\u001b[1;32m🤖 Agent: \u001b[0m\u001b[32mHistorical Weather Data Specialist\u001b[0m\n",
       "\u001b[37m    Status: \u001b[0m\u001b[1;32mIn Progress\u001b[0m\n",
       "└── \u001b[1;34m🧠 \u001b[0m\u001b[34mThinking...\u001b[0m\n"
      ]
     },
     "metadata": {},
     "output_type": "display_data"
    },
    {
     "data": {
      "text/html": [
       "<pre style=\"white-space:pre;overflow-x:auto;line-height:normal;font-family:Menlo,'DejaVu Sans Mono',consolas,'Courier New',monospace\">\n",
       "</pre>\n"
      ],
      "text/plain": [
       "\n"
      ]
     },
     "metadata": {},
     "output_type": "display_data"
    },
    {
     "data": {
      "text/html": [
       "<pre style=\"white-space:pre;overflow-x:auto;line-height:normal;font-family:Menlo,'DejaVu Sans Mono',consolas,'Courier New',monospace\"><span style=\"color: #008000; text-decoration-color: #008000; font-weight: bold\">🤖 Agent: </span><span style=\"color: #008000; text-decoration-color: #008000\">Historical Weather Data Specialist</span>\n",
       "<span style=\"color: #c0c0c0; text-decoration-color: #c0c0c0\">    Status: </span><span style=\"color: #008000; text-decoration-color: #008000; font-weight: bold\">In Progress</span>\n",
       "</pre>\n"
      ],
      "text/plain": [
       "\u001b[1;32m🤖 Agent: \u001b[0m\u001b[32mHistorical Weather Data Specialist\u001b[0m\n",
       "\u001b[37m    Status: \u001b[0m\u001b[1;32mIn Progress\u001b[0m\n"
      ]
     },
     "metadata": {},
     "output_type": "display_data"
    },
    {
     "data": {
      "text/html": [
       "<pre style=\"white-space:pre;overflow-x:auto;line-height:normal;font-family:Menlo,'DejaVu Sans Mono',consolas,'Courier New',monospace\">\n",
       "</pre>\n"
      ],
      "text/plain": [
       "\n"
      ]
     },
     "metadata": {},
     "output_type": "display_data"
    },
    {
     "name": "stdout",
     "output_type": "stream",
     "text": [
      "\n",
      "\n",
      "\u001b[1m\u001b[95m# Agent:\u001b[00m \u001b[1m\u001b[92mHistorical Weather Data Specialist\u001b[00m\n",
      "\u001b[95m## Final Answer:\u001b[00m \u001b[92m\n",
      "{\n",
      "  \"New Delhi, India\": [\n",
      "    {'date': '2024-12-31', 'temperature_mean_2m': 11.2, 'temperature_max_2m': 16.0, 'temperature_min_2m': 7.6, 'precipitation_sum': 0.0, 'wind_speed_10m_mean': 3.0, 'relative_humidity_2m_mean': 89}, \n",
      "    {'date': '2025-01-01', 'temperature_mean_2m': 11.0, 'temperature_max_2m': 17.0, 'temperature_min_2m': 7.6, 'precipitation_sum': 0.0, 'wind_speed_10m_mean': 5.2, 'relative_humidity_2m_mean': 89}, \n",
      "    {'date': '2025-01-02', 'temperature_mean_2m': 12.3, 'temperature_max_2m': 18.3, 'temperature_min_2m': 8.3, 'precipitation_sum': 0.0, 'wind_speed_10m_mean': 5.7, 'relative_humidity_2m_mean': 86}\n",
      "  ],\n",
      "  \"Chennai, India\": [\n",
      "    {'date': '2024-12-31', 'temperature_mean_2m': 26.1, 'temperature_max_2m': 28.1, 'temperature_min_2m': 24.4, 'precipitation_sum': 0.1, 'wind_speed_10m_mean': 14.4, 'relative_humidity_2m_mean': 81}, \n",
      "    {'date': '2025-01-01', 'temperature_mean_2m': 25.7, 'temperature_max_2m': 27.8, 'temperature_min_2m': 23.6, 'precipitation_sum': 0.0, 'wind_speed_10m_mean': 12.1, 'relative_humidity_2m_mean': 79}, \n",
      "    {'date': '2025-01-02', 'temperature_mean_2m': 25.4, 'temperature_max_2m': 27.8, 'temperature_min_2m': 23.2, 'precipitation_sum': 0.0, 'wind_speed_10m_mean': 10.4, 'relative_humidity_2m_mean': 72}\n",
      "  ]\n",
      "}\u001b[00m\n",
      "\n",
      "\n"
     ]
    },
    {
     "data": {
      "text/html": [
       "<pre style=\"white-space:pre;overflow-x:auto;line-height:normal;font-family:Menlo,'DejaVu Sans Mono',consolas,'Courier New',monospace\"><span style=\"color: #008080; text-decoration-color: #008080; font-weight: bold\">🚀 Crew: crew</span>\n",
       "├── <span style=\"color: #008000; text-decoration-color: #008000; font-weight: bold\">📋 Task: 949981bf-7b60-47df-8841-c79c871903cd</span>\n",
       "│   <span style=\"color: #c0c0c0; text-decoration-color: #c0c0c0\">   Assigned to: </span><span style=\"color: #008000; text-decoration-color: #008000\">Geospatial Data Specialist</span>\n",
       "│   <span style=\"color: #c0c0c0; text-decoration-color: #c0c0c0\">   Status: </span><span style=\"color: #008000; text-decoration-color: #008000; font-weight: bold\">✅ Completed</span>\n",
       "│   └── <span style=\"color: #008000; text-decoration-color: #008000; font-weight: bold\">🤖 Agent: </span><span style=\"color: #008000; text-decoration-color: #008000\">Geospatial Data Specialist</span>\n",
       "│       <span style=\"color: #c0c0c0; text-decoration-color: #c0c0c0\">    Status: </span><span style=\"color: #008000; text-decoration-color: #008000; font-weight: bold\">✅ Completed</span>\n",
       "└── <span style=\"color: #808000; text-decoration-color: #808000; font-weight: bold\">📋 Task: dfa17cc8-5fbd-4761-b884-2960eefd804b</span>\n",
       "    <span style=\"color: #c0c0c0; text-decoration-color: #c0c0c0\">   Status: </span><span style=\"color: #bfbf7f; text-decoration-color: #bfbf7f\">Executing Task...</span>\n",
       "    └── <span style=\"color: #008000; text-decoration-color: #008000; font-weight: bold\">🤖 Agent: </span><span style=\"color: #008000; text-decoration-color: #008000\">Historical Weather Data Specialist</span>\n",
       "        <span style=\"color: #c0c0c0; text-decoration-color: #c0c0c0\">    Status: </span><span style=\"color: #008000; text-decoration-color: #008000; font-weight: bold\">✅ Completed</span>\n",
       "</pre>\n"
      ],
      "text/plain": [
       "\u001b[1;36m🚀 Crew: \u001b[0m\u001b[1;36mcrew\u001b[0m\n",
       "├── \u001b[1;32m📋 Task: 949981bf-7b60-47df-8841-c79c871903cd\u001b[0m\n",
       "│   \u001b[37m   Assigned to: \u001b[0m\u001b[32mGeospatial Data Specialist\u001b[0m\n",
       "│   \u001b[37m   Status: \u001b[0m\u001b[1;32m✅ Completed\u001b[0m\n",
       "│   └── \u001b[1;32m🤖 Agent: \u001b[0m\u001b[32mGeospatial Data Specialist\u001b[0m\n",
       "│       \u001b[37m    Status: \u001b[0m\u001b[1;32m✅ Completed\u001b[0m\n",
       "└── \u001b[1;33m📋 Task: dfa17cc8-5fbd-4761-b884-2960eefd804b\u001b[0m\n",
       "    \u001b[37m   Status: \u001b[0m\u001b[2;33mExecuting Task...\u001b[0m\n",
       "    └── \u001b[1;32m🤖 Agent: \u001b[0m\u001b[32mHistorical Weather Data Specialist\u001b[0m\n",
       "        \u001b[37m    Status: \u001b[0m\u001b[1;32m✅ Completed\u001b[0m\n"
      ]
     },
     "metadata": {},
     "output_type": "display_data"
    },
    {
     "data": {
      "text/html": [
       "<pre style=\"white-space:pre;overflow-x:auto;line-height:normal;font-family:Menlo,'DejaVu Sans Mono',consolas,'Courier New',monospace\">\n",
       "</pre>\n"
      ],
      "text/plain": [
       "\n"
      ]
     },
     "metadata": {},
     "output_type": "display_data"
    },
    {
     "data": {
      "text/html": [
       "<pre style=\"white-space:pre;overflow-x:auto;line-height:normal;font-family:Menlo,'DejaVu Sans Mono',consolas,'Courier New',monospace\"><span style=\"color: #008080; text-decoration-color: #008080; font-weight: bold\">🚀 Crew: crew</span>\n",
       "├── <span style=\"color: #008000; text-decoration-color: #008000; font-weight: bold\">📋 Task: 949981bf-7b60-47df-8841-c79c871903cd</span>\n",
       "│   <span style=\"color: #c0c0c0; text-decoration-color: #c0c0c0\">   Assigned to: </span><span style=\"color: #008000; text-decoration-color: #008000\">Geospatial Data Specialist</span>\n",
       "│   <span style=\"color: #c0c0c0; text-decoration-color: #c0c0c0\">   Status: </span><span style=\"color: #008000; text-decoration-color: #008000; font-weight: bold\">✅ Completed</span>\n",
       "│   └── <span style=\"color: #008000; text-decoration-color: #008000; font-weight: bold\">🤖 Agent: </span><span style=\"color: #008000; text-decoration-color: #008000\">Geospatial Data Specialist</span>\n",
       "│       <span style=\"color: #c0c0c0; text-decoration-color: #c0c0c0\">    Status: </span><span style=\"color: #008000; text-decoration-color: #008000; font-weight: bold\">✅ Completed</span>\n",
       "└── <span style=\"color: #008000; text-decoration-color: #008000; font-weight: bold\">📋 Task: dfa17cc8-5fbd-4761-b884-2960eefd804b</span>\n",
       "    <span style=\"color: #c0c0c0; text-decoration-color: #c0c0c0\">   Assigned to: </span><span style=\"color: #008000; text-decoration-color: #008000\">Historical Weather Data Specialist</span>\n",
       "    <span style=\"color: #c0c0c0; text-decoration-color: #c0c0c0\">   Status: </span><span style=\"color: #008000; text-decoration-color: #008000; font-weight: bold\">✅ Completed</span>\n",
       "    └── <span style=\"color: #008000; text-decoration-color: #008000; font-weight: bold\">🤖 Agent: </span><span style=\"color: #008000; text-decoration-color: #008000\">Historical Weather Data Specialist</span>\n",
       "        <span style=\"color: #c0c0c0; text-decoration-color: #c0c0c0\">    Status: </span><span style=\"color: #008000; text-decoration-color: #008000; font-weight: bold\">✅ Completed</span>\n",
       "</pre>\n"
      ],
      "text/plain": [
       "\u001b[1;36m🚀 Crew: \u001b[0m\u001b[1;36mcrew\u001b[0m\n",
       "├── \u001b[1;32m📋 Task: 949981bf-7b60-47df-8841-c79c871903cd\u001b[0m\n",
       "│   \u001b[37m   Assigned to: \u001b[0m\u001b[32mGeospatial Data Specialist\u001b[0m\n",
       "│   \u001b[37m   Status: \u001b[0m\u001b[1;32m✅ Completed\u001b[0m\n",
       "│   └── \u001b[1;32m🤖 Agent: \u001b[0m\u001b[32mGeospatial Data Specialist\u001b[0m\n",
       "│       \u001b[37m    Status: \u001b[0m\u001b[1;32m✅ Completed\u001b[0m\n",
       "└── \u001b[1;32m📋 Task: dfa17cc8-5fbd-4761-b884-2960eefd804b\u001b[0m\n",
       "    \u001b[37m   Assigned to: \u001b[0m\u001b[32mHistorical Weather Data Specialist\u001b[0m\n",
       "    \u001b[37m   Status: \u001b[0m\u001b[1;32m✅ Completed\u001b[0m\n",
       "    └── \u001b[1;32m🤖 Agent: \u001b[0m\u001b[32mHistorical Weather Data Specialist\u001b[0m\n",
       "        \u001b[37m    Status: \u001b[0m\u001b[1;32m✅ Completed\u001b[0m\n"
      ]
     },
     "metadata": {},
     "output_type": "display_data"
    },
    {
     "data": {
      "text/html": [
       "<pre style=\"white-space:pre;overflow-x:auto;line-height:normal;font-family:Menlo,'DejaVu Sans Mono',consolas,'Courier New',monospace\"><span style=\"color: #008000; text-decoration-color: #008000\">╭──────────────────────────────────────────────── Task Completion ────────────────────────────────────────────────╮</span>\n",
       "<span style=\"color: #008000; text-decoration-color: #008000\">│</span>                                                                                                                 <span style=\"color: #008000; text-decoration-color: #008000\">│</span>\n",
       "<span style=\"color: #008000; text-decoration-color: #008000\">│</span>  <span style=\"color: #008000; text-decoration-color: #008000; font-weight: bold\">Task Completed</span>                                                                                                 <span style=\"color: #008000; text-decoration-color: #008000\">│</span>\n",
       "<span style=\"color: #008000; text-decoration-color: #008000\">│</span>  <span style=\"color: #c0c0c0; text-decoration-color: #c0c0c0\">Name: </span><span style=\"color: #008000; text-decoration-color: #008000\">dfa17cc8-5fbd-4761-b884-2960eefd804b</span>                                                                     <span style=\"color: #008000; text-decoration-color: #008000\">│</span>\n",
       "<span style=\"color: #008000; text-decoration-color: #008000\">│</span>  <span style=\"color: #c0c0c0; text-decoration-color: #c0c0c0\">Agent: </span><span style=\"color: #008000; text-decoration-color: #008000\">Historical Weather Data Specialist</span>                                                                      <span style=\"color: #008000; text-decoration-color: #008000\">│</span>\n",
       "<span style=\"color: #008000; text-decoration-color: #008000\">│</span>                                                                                                                 <span style=\"color: #008000; text-decoration-color: #008000\">│</span>\n",
       "<span style=\"color: #008000; text-decoration-color: #008000\">│</span>                                                                                                                 <span style=\"color: #008000; text-decoration-color: #008000\">│</span>\n",
       "<span style=\"color: #008000; text-decoration-color: #008000\">╰─────────────────────────────────────────────────────────────────────────────────────────────────────────────────╯</span>\n",
       "</pre>\n"
      ],
      "text/plain": [
       "\u001b[32m╭─\u001b[0m\u001b[32m───────────────────────────────────────────────\u001b[0m\u001b[32m Task Completion \u001b[0m\u001b[32m───────────────────────────────────────────────\u001b[0m\u001b[32m─╮\u001b[0m\n",
       "\u001b[32m│\u001b[0m                                                                                                                 \u001b[32m│\u001b[0m\n",
       "\u001b[32m│\u001b[0m  \u001b[1;32mTask Completed\u001b[0m                                                                                                 \u001b[32m│\u001b[0m\n",
       "\u001b[32m│\u001b[0m  \u001b[37mName: \u001b[0m\u001b[32mdfa17cc8-5fbd-4761-b884-2960eefd804b\u001b[0m                                                                     \u001b[32m│\u001b[0m\n",
       "\u001b[32m│\u001b[0m  \u001b[37mAgent: \u001b[0m\u001b[32mHistorical Weather Data Specialist\u001b[0m                                                                      \u001b[32m│\u001b[0m\n",
       "\u001b[32m│\u001b[0m                                                                                                                 \u001b[32m│\u001b[0m\n",
       "\u001b[32m│\u001b[0m                                                                                                                 \u001b[32m│\u001b[0m\n",
       "\u001b[32m╰─────────────────────────────────────────────────────────────────────────────────────────────────────────────────╯\u001b[0m\n"
      ]
     },
     "metadata": {},
     "output_type": "display_data"
    },
    {
     "data": {
      "text/html": [
       "<pre style=\"white-space:pre;overflow-x:auto;line-height:normal;font-family:Menlo,'DejaVu Sans Mono',consolas,'Courier New',monospace\">\n",
       "</pre>\n"
      ],
      "text/plain": [
       "\n"
      ]
     },
     "metadata": {},
     "output_type": "display_data"
    },
    {
     "data": {
      "text/html": [
       "<pre style=\"white-space:pre;overflow-x:auto;line-height:normal;font-family:Menlo,'DejaVu Sans Mono',consolas,'Courier New',monospace\"><span style=\"color: #008080; text-decoration-color: #008080; font-weight: bold\">🚀 Crew: crew</span>\n",
       "├── <span style=\"color: #008000; text-decoration-color: #008000; font-weight: bold\">📋 Task: 949981bf-7b60-47df-8841-c79c871903cd</span>\n",
       "│   <span style=\"color: #c0c0c0; text-decoration-color: #c0c0c0\">   Assigned to: </span><span style=\"color: #008000; text-decoration-color: #008000\">Geospatial Data Specialist</span>\n",
       "│   <span style=\"color: #c0c0c0; text-decoration-color: #c0c0c0\">   Status: </span><span style=\"color: #008000; text-decoration-color: #008000; font-weight: bold\">✅ Completed</span>\n",
       "│   └── <span style=\"color: #008000; text-decoration-color: #008000; font-weight: bold\">🤖 Agent: </span><span style=\"color: #008000; text-decoration-color: #008000\">Geospatial Data Specialist</span>\n",
       "│       <span style=\"color: #c0c0c0; text-decoration-color: #c0c0c0\">    Status: </span><span style=\"color: #008000; text-decoration-color: #008000; font-weight: bold\">✅ Completed</span>\n",
       "├── <span style=\"color: #008000; text-decoration-color: #008000; font-weight: bold\">📋 Task: dfa17cc8-5fbd-4761-b884-2960eefd804b</span>\n",
       "│   <span style=\"color: #c0c0c0; text-decoration-color: #c0c0c0\">   Assigned to: </span><span style=\"color: #008000; text-decoration-color: #008000\">Historical Weather Data Specialist</span>\n",
       "│   <span style=\"color: #c0c0c0; text-decoration-color: #c0c0c0\">   Status: </span><span style=\"color: #008000; text-decoration-color: #008000; font-weight: bold\">✅ Completed</span>\n",
       "│   └── <span style=\"color: #008000; text-decoration-color: #008000; font-weight: bold\">🤖 Agent: </span><span style=\"color: #008000; text-decoration-color: #008000\">Historical Weather Data Specialist</span>\n",
       "│       <span style=\"color: #c0c0c0; text-decoration-color: #c0c0c0\">    Status: </span><span style=\"color: #008000; text-decoration-color: #008000; font-weight: bold\">✅ Completed</span>\n",
       "└── <span style=\"color: #808000; text-decoration-color: #808000; font-weight: bold\">📋 Task: 17409821-f67b-4c59-bee5-c21170612783</span>\n",
       "    <span style=\"color: #c0c0c0; text-decoration-color: #c0c0c0\">   Status: </span><span style=\"color: #bfbf7f; text-decoration-color: #bfbf7f\">Executing Task...</span>\n",
       "</pre>\n"
      ],
      "text/plain": [
       "\u001b[1;36m🚀 Crew: \u001b[0m\u001b[1;36mcrew\u001b[0m\n",
       "├── \u001b[1;32m📋 Task: 949981bf-7b60-47df-8841-c79c871903cd\u001b[0m\n",
       "│   \u001b[37m   Assigned to: \u001b[0m\u001b[32mGeospatial Data Specialist\u001b[0m\n",
       "│   \u001b[37m   Status: \u001b[0m\u001b[1;32m✅ Completed\u001b[0m\n",
       "│   └── \u001b[1;32m🤖 Agent: \u001b[0m\u001b[32mGeospatial Data Specialist\u001b[0m\n",
       "│       \u001b[37m    Status: \u001b[0m\u001b[1;32m✅ Completed\u001b[0m\n",
       "├── \u001b[1;32m📋 Task: dfa17cc8-5fbd-4761-b884-2960eefd804b\u001b[0m\n",
       "│   \u001b[37m   Assigned to: \u001b[0m\u001b[32mHistorical Weather Data Specialist\u001b[0m\n",
       "│   \u001b[37m   Status: \u001b[0m\u001b[1;32m✅ Completed\u001b[0m\n",
       "│   └── \u001b[1;32m🤖 Agent: \u001b[0m\u001b[32mHistorical Weather Data Specialist\u001b[0m\n",
       "│       \u001b[37m    Status: \u001b[0m\u001b[1;32m✅ Completed\u001b[0m\n",
       "└── \u001b[1;33m📋 Task: 17409821-f67b-4c59-bee5-c21170612783\u001b[0m\n",
       "    \u001b[37m   Status: \u001b[0m\u001b[2;33mExecuting Task...\u001b[0m\n"
      ]
     },
     "metadata": {},
     "output_type": "display_data"
    },
    {
     "data": {
      "text/html": [
       "<pre style=\"white-space:pre;overflow-x:auto;line-height:normal;font-family:Menlo,'DejaVu Sans Mono',consolas,'Courier New',monospace\">\n",
       "</pre>\n"
      ],
      "text/plain": [
       "\n"
      ]
     },
     "metadata": {},
     "output_type": "display_data"
    },
    {
     "data": {
      "text/html": [
       "<pre style=\"white-space:pre;overflow-x:auto;line-height:normal;font-family:Menlo,'DejaVu Sans Mono',consolas,'Courier New',monospace\"><span style=\"color: #008080; text-decoration-color: #008080; font-weight: bold\">🚀 Crew: crew</span>\n",
       "├── <span style=\"color: #008000; text-decoration-color: #008000; font-weight: bold\">📋 Task: 949981bf-7b60-47df-8841-c79c871903cd</span>\n",
       "│   <span style=\"color: #c0c0c0; text-decoration-color: #c0c0c0\">   Assigned to: </span><span style=\"color: #008000; text-decoration-color: #008000\">Geospatial Data Specialist</span>\n",
       "│   <span style=\"color: #c0c0c0; text-decoration-color: #c0c0c0\">   Status: </span><span style=\"color: #008000; text-decoration-color: #008000; font-weight: bold\">✅ Completed</span>\n",
       "│   └── <span style=\"color: #008000; text-decoration-color: #008000; font-weight: bold\">🤖 Agent: </span><span style=\"color: #008000; text-decoration-color: #008000\">Geospatial Data Specialist</span>\n",
       "│       <span style=\"color: #c0c0c0; text-decoration-color: #c0c0c0\">    Status: </span><span style=\"color: #008000; text-decoration-color: #008000; font-weight: bold\">✅ Completed</span>\n",
       "├── <span style=\"color: #008000; text-decoration-color: #008000; font-weight: bold\">📋 Task: dfa17cc8-5fbd-4761-b884-2960eefd804b</span>\n",
       "│   <span style=\"color: #c0c0c0; text-decoration-color: #c0c0c0\">   Assigned to: </span><span style=\"color: #008000; text-decoration-color: #008000\">Historical Weather Data Specialist</span>\n",
       "│   <span style=\"color: #c0c0c0; text-decoration-color: #c0c0c0\">   Status: </span><span style=\"color: #008000; text-decoration-color: #008000; font-weight: bold\">✅ Completed</span>\n",
       "│   └── <span style=\"color: #008000; text-decoration-color: #008000; font-weight: bold\">🤖 Agent: </span><span style=\"color: #008000; text-decoration-color: #008000\">Historical Weather Data Specialist</span>\n",
       "│       <span style=\"color: #c0c0c0; text-decoration-color: #c0c0c0\">    Status: </span><span style=\"color: #008000; text-decoration-color: #008000; font-weight: bold\">✅ Completed</span>\n",
       "└── <span style=\"color: #808000; text-decoration-color: #808000; font-weight: bold\">📋 Task: 17409821-f67b-4c59-bee5-c21170612783</span>\n",
       "    <span style=\"color: #c0c0c0; text-decoration-color: #c0c0c0\">   Status: </span><span style=\"color: #bfbf7f; text-decoration-color: #bfbf7f\">Executing Task...</span>\n",
       "    └── <span style=\"color: #008000; text-decoration-color: #008000; font-weight: bold\">🤖 Agent: </span><span style=\"color: #008000; text-decoration-color: #008000\">Air Quality Data Retriever</span>\n",
       "        <span style=\"color: #c0c0c0; text-decoration-color: #c0c0c0\">    Status: </span><span style=\"color: #008000; text-decoration-color: #008000; font-weight: bold\">In Progress</span>\n",
       "</pre>\n"
      ],
      "text/plain": [
       "\u001b[1;36m🚀 Crew: \u001b[0m\u001b[1;36mcrew\u001b[0m\n",
       "├── \u001b[1;32m📋 Task: 949981bf-7b60-47df-8841-c79c871903cd\u001b[0m\n",
       "│   \u001b[37m   Assigned to: \u001b[0m\u001b[32mGeospatial Data Specialist\u001b[0m\n",
       "│   \u001b[37m   Status: \u001b[0m\u001b[1;32m✅ Completed\u001b[0m\n",
       "│   └── \u001b[1;32m🤖 Agent: \u001b[0m\u001b[32mGeospatial Data Specialist\u001b[0m\n",
       "│       \u001b[37m    Status: \u001b[0m\u001b[1;32m✅ Completed\u001b[0m\n",
       "├── \u001b[1;32m📋 Task: dfa17cc8-5fbd-4761-b884-2960eefd804b\u001b[0m\n",
       "│   \u001b[37m   Assigned to: \u001b[0m\u001b[32mHistorical Weather Data Specialist\u001b[0m\n",
       "│   \u001b[37m   Status: \u001b[0m\u001b[1;32m✅ Completed\u001b[0m\n",
       "│   └── \u001b[1;32m🤖 Agent: \u001b[0m\u001b[32mHistorical Weather Data Specialist\u001b[0m\n",
       "│       \u001b[37m    Status: \u001b[0m\u001b[1;32m✅ Completed\u001b[0m\n",
       "└── \u001b[1;33m📋 Task: 17409821-f67b-4c59-bee5-c21170612783\u001b[0m\n",
       "    \u001b[37m   Status: \u001b[0m\u001b[2;33mExecuting Task...\u001b[0m\n",
       "    └── \u001b[1;32m🤖 Agent: \u001b[0m\u001b[32mAir Quality Data Retriever\u001b[0m\n",
       "        \u001b[37m    Status: \u001b[0m\u001b[1;32mIn Progress\u001b[0m\n"
      ]
     },
     "metadata": {},
     "output_type": "display_data"
    },
    {
     "data": {
      "text/html": [
       "<pre style=\"white-space:pre;overflow-x:auto;line-height:normal;font-family:Menlo,'DejaVu Sans Mono',consolas,'Courier New',monospace\">\n",
       "</pre>\n"
      ],
      "text/plain": [
       "\n"
      ]
     },
     "metadata": {},
     "output_type": "display_data"
    },
    {
     "name": "stdout",
     "output_type": "stream",
     "text": [
      "\u001b[1m\u001b[95m# Agent:\u001b[00m \u001b[1m\u001b[92mAir Quality Data Retriever\u001b[00m\n",
      "\u001b[95m## Task:\u001b[00m \u001b[92mFetch air quality data using the air_quality_tool for the following locations: ['New Delhi, India', 'Chennai, India'] from 2024-12-31 to 2025-01-02 using the bounding boxes for each location. If specific parameters are provided (['pm25, pm10']), focus on those. Return the data as a pandas DataFrame.\u001b[00m\n"
     ]
    },
    {
     "data": {
      "text/html": [
       "<pre style=\"white-space:pre;overflow-x:auto;line-height:normal;font-family:Menlo,'DejaVu Sans Mono',consolas,'Courier New',monospace\"><span style=\"color: #008000; text-decoration-color: #008000; font-weight: bold\">🤖 Agent: </span><span style=\"color: #008000; text-decoration-color: #008000\">Air Quality Data Retriever</span>\n",
       "<span style=\"color: #c0c0c0; text-decoration-color: #c0c0c0\">    Status: </span><span style=\"color: #008000; text-decoration-color: #008000; font-weight: bold\">In Progress</span>\n",
       "</pre>\n"
      ],
      "text/plain": [
       "\u001b[1;32m🤖 Agent: \u001b[0m\u001b[32mAir Quality Data Retriever\u001b[0m\n",
       "\u001b[37m    Status: \u001b[0m\u001b[1;32mIn Progress\u001b[0m\n"
      ]
     },
     "metadata": {},
     "output_type": "display_data"
    },
    {
     "data": {
      "text/html": [
       "<pre style=\"white-space:pre;overflow-x:auto;line-height:normal;font-family:Menlo,'DejaVu Sans Mono',consolas,'Courier New',monospace\">\n",
       "</pre>\n"
      ],
      "text/plain": [
       "\n"
      ]
     },
     "metadata": {},
     "output_type": "display_data"
    },
    {
     "name": "stdout",
     "output_type": "stream",
     "text": [
      "Found 68 locations for bounding box (per openAQ format) [77.06500272884998, 28.507006564864863, 77.37363327115003, 28.778971135135137] (Location: New Delhi, India). Downloading data...\n",
      "Downloading: records/csv.gz/locationid=8118/year=2024/month=12/location-8118-20241231.csv.gz\n",
      "Downloading: records/csv.gz/locationid=8118/year=2025/month=01/location-8118-20250101.csv.gz\n",
      "Downloading: records/csv.gz/locationid=8118/year=2025/month=01/location-8118-20250102.csv.gz\n",
      "Downloading: records/csv.gz/locationid=2860223/year=2024/month=12/location-2860223-20241231.csv.gz\n",
      "Downloading: records/csv.gz/locationid=2860223/year=2025/month=01/location-2860223-20250101.csv.gz\n",
      "Downloading: records/csv.gz/locationid=2860223/year=2025/month=01/location-2860223-20250102.csv.gz\n",
      "Sample Sensor Data from OPENAQ : \n",
      "    location_id  sensors_id        location                   datetime  \\\n",
      "0         8118       23534  New Delhi-8118  2024-12-31T01:00:00+05:30   \n",
      "1         8118       23534  New Delhi-8118  2024-12-31T02:00:00+05:30   \n",
      "2         8118       23534  New Delhi-8118  2024-12-31T03:00:00+05:30   \n",
      "3         8118       23534  New Delhi-8118  2024-12-31T04:00:00+05:30   \n",
      "4         8118       23534  New Delhi-8118  2024-12-31T05:00:00+05:30   \n",
      "\n",
      "        lat       lon parameter  units  value  \n",
      "0  28.63576  77.22445      pm25  µg/m³  142.0  \n",
      "1  28.63576  77.22445      pm25  µg/m³  151.0  \n",
      "2  28.63576  77.22445      pm25  µg/m³  148.0  \n",
      "3  28.63576  77.22445      pm25  µg/m³  118.0  \n",
      "4  28.63576  77.22445      pm25  µg/m³  116.0  \n",
      "Locations with no data or errors: [13, 13, 13, 15, 15, 15, 16, 16, 16, 17, 17, 17, 50, 50, 50, 103, 103, 103, 235, 235, 235, 236, 236, 236, 431, 431, 431, 2503, 2503, 2503, 2597, 2597, 2597, 5404, 5404, 5404, 5509, 5509, 5509, 5540, 5540, 5540, 5541, 5541, 5541, 5581, 5581, 5581, 5586, 5586, 5586, 5598, 5598, 5598, 5610, 5610, 5610, 5613, 5613, 5613, 5616, 5616, 5616, 5626, 5626, 5626, 5627, 5627, 5627, 5630, 5630, 5630, 5634, 5634, 5634, 5639, 5639, 5639, 5641, 5641, 5641, 5650, 5650, 5650, 5665, 5665, 5665, 5742, 5742, 5742, 5753, 5753, 5753, 5754, 5754, 5754, 5755, 5755, 5755, 5759, 5759, 5759, 5761, 5761, 5761, 5762, 5762, 5762, 5765, 5765, 5765, 5766, 5766, 5766, 6356, 6356, 6356, 6357, 6357, 6357, 6358, 6358, 6358, 6359, 6359, 6359, 6924, 6924, 6924, 6929, 6929, 6929, 6931, 6931, 6931, 6938, 6938, 6938, 6957, 6957, 6957, 6960, 6960, 6960, 6980, 6980, 6980, 7005, 7005, 7005, 7044, 7044, 7044, 7434, 7434, 7434, 8092, 8092, 8092, 8235, 8235, 8235, 8239, 8239, 8239, 8365, 8365, 8365, 8475, 8475, 8475, 8915, 8915, 8915, 8917, 8917, 8917, 10484, 10484, 10484, 10486, 10486, 10486, 10487, 10487, 10487, 10489, 10489, 10489, 10831, 10831, 10831, 11603, 11603, 11603, 11607, 11607, 11607]\n",
      "DF :\n",
      "                     datetime  location_id  sensors_id        location  \\\n",
      "0 2024-12-31 01:00:00+05:30         8118       23534  New Delhi-8118   \n",
      "1 2024-12-31 02:00:00+05:30         8118       23534  New Delhi-8118   \n",
      "2 2024-12-31 03:00:00+05:30         8118       23534  New Delhi-8118   \n",
      "3 2024-12-31 04:00:00+05:30         8118       23534  New Delhi-8118   \n",
      "4 2024-12-31 05:00:00+05:30         8118       23534  New Delhi-8118   \n",
      "\n",
      "        lat       lon parameter  units  value  \n",
      "0  28.63576  77.22445      pm25  µg/m³  142.0  \n",
      "1  28.63576  77.22445      pm25  µg/m³  151.0  \n",
      "2  28.63576  77.22445      pm25  µg/m³  148.0  \n",
      "3  28.63576  77.22445      pm25  µg/m³  118.0  \n",
      "4  28.63576  77.22445      pm25  µg/m³  116.0  \n",
      "Found 14 locations for bounding box (per openAQ format) [79.97144932055834, 12.788558764864865, 80.56892267944167, 13.378829035135135] (Location: Chennai, India). Downloading data...\n",
      "Downloading: records/csv.gz/locationid=8558/year=2024/month=12/location-8558-20241231.csv.gz\n",
      "Downloading: records/csv.gz/locationid=8558/year=2025/month=01/location-8558-20250101.csv.gz\n",
      "Downloading: records/csv.gz/locationid=8558/year=2025/month=01/location-8558-20250102.csv.gz\n",
      "Sample Sensor Data from OPENAQ : \n",
      "    location_id  sensors_id        location                   datetime  \\\n",
      "0         8558     5077812  Chennai-931708  2024-12-31T01:00:00+05:30   \n",
      "1         8558     5077812  Chennai-931708  2024-12-31T02:00:00+05:30   \n",
      "2         8558     5077812  Chennai-931708  2024-12-31T03:00:00+05:30   \n",
      "3         8558     5077812  Chennai-931708  2024-12-31T04:00:00+05:30   \n",
      "4         8558     5077812  Chennai-931708  2024-12-31T05:00:00+05:30   \n",
      "\n",
      "        lat        lon parameter  units  value  \n",
      "0  13.08784  80.278475      pm25  µg/m³   53.0  \n",
      "1  13.08784  80.278475      pm25  µg/m³   55.0  \n",
      "2  13.08784  80.278475      pm25  µg/m³   48.0  \n",
      "3  13.08784  80.278475      pm25  µg/m³   50.0  \n",
      "4  13.08784  80.278475      pm25  µg/m³   53.0  \n",
      "Locations with no data or errors: [378, 378, 378, 2461, 2461, 2461, 2549, 2549, 2549, 2586, 2586, 2586, 5558, 5558, 5558, 5655, 5655, 5655, 10780, 10780, 10780, 11578, 11578, 11578, 11579, 11579, 11579, 11581, 11581, 11581, 12046, 12046, 12046, 358627, 358627, 358627, 3409319, 3409319, 3409319]\n",
      "DF :\n",
      "                     datetime  location_id  sensors_id        location  \\\n",
      "0 2024-12-31 01:00:00+05:30         8558     5077812  Chennai-931708   \n",
      "1 2024-12-31 02:00:00+05:30         8558     5077812  Chennai-931708   \n",
      "2 2024-12-31 03:00:00+05:30         8558     5077812  Chennai-931708   \n",
      "3 2024-12-31 04:00:00+05:30         8558     5077812  Chennai-931708   \n",
      "4 2024-12-31 05:00:00+05:30         8558     5077812  Chennai-931708   \n",
      "\n",
      "        lat        lon parameter  units  value  \n",
      "0  13.08784  80.278475      pm25  µg/m³   53.0  \n",
      "1  13.08784  80.278475      pm25  µg/m³   55.0  \n",
      "2  13.08784  80.278475      pm25  µg/m³   48.0  \n",
      "3  13.08784  80.278475      pm25  µg/m³   50.0  \n",
      "4  13.08784  80.278475      pm25  µg/m³   53.0  \n",
      "\n",
      "\n",
      "\u001b[1m\u001b[95m# Agent:\u001b[00m \u001b[1m\u001b[92mAir Quality Data Retriever\u001b[00m\n",
      "\u001b[95m## Thought:\u001b[00m \u001b[92mI need to fetch air quality data for New Delhi and Chennai within the specified date range and focusing on the specific air quality parameters (PM2.5 and PM10). I'll use the bounding boxes provided for each location to obtain the data.\u001b[00m\n",
      "\u001b[95m## Using tool:\u001b[00m \u001b[92mair_quality_analysis\u001b[00m\n",
      "\u001b[95m## Tool Input:\u001b[00m \u001b[92m\n",
      "\"{\\\"bounding_boxes\\\": [[28.507006564864863, 77.06500272884998, 28.778971135135137, 77.37363327115003], [12.788558764864865, 79.97144932055834, 13.378829035135135, 80.56892267944167]], \\\"locations\\\": [\\\"New Delhi, India\\\", \\\"Chennai, India\\\"], \\\"start_date\\\": \\\"2024-12-31\\\", \\\"end_date\\\": \\\"2025-01-02\\\", \\\"aq_parameters\\\": [\\\"pm25\\\", \\\"pm10\\\"]}\"\u001b[00m\n",
      "\u001b[95m## Tool Output:\u001b[00m \u001b[92m\n",
      "   parameter       value  units        date          location\n",
      "0       pm10  209.601934  µg/m³  2024-12-31  New Delhi, India\n",
      "1       pm10  251.255285  µg/m³  2025-01-01  New Delhi, India\n",
      "2       pm10  247.840861  µg/m³  2025-01-02  New Delhi, India\n",
      "3       pm25  185.034636  µg/m³  2024-12-31  New Delhi, India\n",
      "4       pm25  224.326914  µg/m³  2025-01-01  New Delhi, India\n",
      "5       pm25  213.300012  µg/m³  2025-01-02  New Delhi, India\n",
      "6       pm25  208.000000  µg/m³  2025-01-03  New Delhi, India\n",
      "7       pm25   69.608696  µg/m³  2024-12-31    Chennai, India\n",
      "8       pm25   81.833333  µg/m³  2025-01-01    Chennai, India\n",
      "9       pm25   67.750000  µg/m³  2025-01-02    Chennai, India\n",
      "10      pm25   71.000000  µg/m³  2025-01-03    Chennai, India\u001b[00m\n"
     ]
    },
    {
     "data": {
      "text/html": [
       "<pre style=\"white-space:pre;overflow-x:auto;line-height:normal;font-family:Menlo,'DejaVu Sans Mono',consolas,'Courier New',monospace\"><span style=\"color: #008000; text-decoration-color: #008000; font-weight: bold\">🤖 Agent: </span><span style=\"color: #008000; text-decoration-color: #008000\">Air Quality Data Retriever</span>\n",
       "<span style=\"color: #c0c0c0; text-decoration-color: #c0c0c0\">    Status: </span><span style=\"color: #008000; text-decoration-color: #008000; font-weight: bold\">In Progress</span>\n",
       "└── <span style=\"color: #000080; text-decoration-color: #000080; font-weight: bold\">🧠 </span><span style=\"color: #000080; text-decoration-color: #000080\">Thinking...</span>\n",
       "</pre>\n"
      ],
      "text/plain": [
       "\u001b[1;32m🤖 Agent: \u001b[0m\u001b[32mAir Quality Data Retriever\u001b[0m\n",
       "\u001b[37m    Status: \u001b[0m\u001b[1;32mIn Progress\u001b[0m\n",
       "└── \u001b[1;34m🧠 \u001b[0m\u001b[34mThinking...\u001b[0m\n"
      ]
     },
     "metadata": {},
     "output_type": "display_data"
    },
    {
     "data": {
      "text/html": [
       "<pre style=\"white-space:pre;overflow-x:auto;line-height:normal;font-family:Menlo,'DejaVu Sans Mono',consolas,'Courier New',monospace\">\n",
       "</pre>\n"
      ],
      "text/plain": [
       "\n"
      ]
     },
     "metadata": {},
     "output_type": "display_data"
    },
    {
     "data": {
      "text/html": [
       "<pre style=\"white-space:pre;overflow-x:auto;line-height:normal;font-family:Menlo,'DejaVu Sans Mono',consolas,'Courier New',monospace\"><span style=\"color: #008000; text-decoration-color: #008000; font-weight: bold\">🤖 Agent: </span><span style=\"color: #008000; text-decoration-color: #008000\">Air Quality Data Retriever</span>\n",
       "<span style=\"color: #c0c0c0; text-decoration-color: #c0c0c0\">    Status: </span><span style=\"color: #008000; text-decoration-color: #008000; font-weight: bold\">In Progress</span>\n",
       "</pre>\n"
      ],
      "text/plain": [
       "\u001b[1;32m🤖 Agent: \u001b[0m\u001b[32mAir Quality Data Retriever\u001b[0m\n",
       "\u001b[37m    Status: \u001b[0m\u001b[1;32mIn Progress\u001b[0m\n"
      ]
     },
     "metadata": {},
     "output_type": "display_data"
    },
    {
     "data": {
      "text/html": [
       "<pre style=\"white-space:pre;overflow-x:auto;line-height:normal;font-family:Menlo,'DejaVu Sans Mono',consolas,'Courier New',monospace\">\n",
       "</pre>\n"
      ],
      "text/plain": [
       "\n"
      ]
     },
     "metadata": {},
     "output_type": "display_data"
    },
    {
     "name": "stdout",
     "output_type": "stream",
     "text": [
      "\n",
      "\n",
      "\u001b[1m\u001b[95m# Agent:\u001b[00m \u001b[1m\u001b[92mAir Quality Data Retriever\u001b[00m\n",
      "\u001b[95m## Final Answer:\u001b[00m \u001b[92m\n",
      "parameter       value  units        date          location\n",
      "0       pm10  209.601934  µg/m³  2024-12-31  New Delhi, India\n",
      "1       pm10  251.255285  µg/m³  2025-01-01  New Delhi, India\n",
      "2       pm10  247.840861  µg/m³  2025-01-02  New Delhi, India\n",
      "3       pm25  185.034636  µg/m³  2024-12-31  New Delhi, India\n",
      "4       pm25  224.326914  µg/m³  2025-01-01  New Delhi, India\n",
      "5       pm25  213.300012  µg/m³  2025-01-02  New Delhi, India\n",
      "6       pm25  208.000000  µg/m³  2025-01-03  New Delhi, India\n",
      "7       pm25   69.608696  µg/m³  2024-12-31    Chennai, India\n",
      "8       pm25   81.833333  µg/m³  2025-01-01    Chennai, India\n",
      "9       pm25   67.750000  µg/m³  2025-01-02    Chennai, India\n",
      "10      pm25   71.000000  µg/m³  2025-01-03    Chennai, India\u001b[00m\n",
      "\n",
      "\n"
     ]
    },
    {
     "data": {
      "text/html": [
       "<pre style=\"white-space:pre;overflow-x:auto;line-height:normal;font-family:Menlo,'DejaVu Sans Mono',consolas,'Courier New',monospace\"><span style=\"color: #008080; text-decoration-color: #008080; font-weight: bold\">🚀 Crew: crew</span>\n",
       "├── <span style=\"color: #008000; text-decoration-color: #008000; font-weight: bold\">📋 Task: 949981bf-7b60-47df-8841-c79c871903cd</span>\n",
       "│   <span style=\"color: #c0c0c0; text-decoration-color: #c0c0c0\">   Assigned to: </span><span style=\"color: #008000; text-decoration-color: #008000\">Geospatial Data Specialist</span>\n",
       "│   <span style=\"color: #c0c0c0; text-decoration-color: #c0c0c0\">   Status: </span><span style=\"color: #008000; text-decoration-color: #008000; font-weight: bold\">✅ Completed</span>\n",
       "│   └── <span style=\"color: #008000; text-decoration-color: #008000; font-weight: bold\">🤖 Agent: </span><span style=\"color: #008000; text-decoration-color: #008000\">Geospatial Data Specialist</span>\n",
       "│       <span style=\"color: #c0c0c0; text-decoration-color: #c0c0c0\">    Status: </span><span style=\"color: #008000; text-decoration-color: #008000; font-weight: bold\">✅ Completed</span>\n",
       "├── <span style=\"color: #008000; text-decoration-color: #008000; font-weight: bold\">📋 Task: dfa17cc8-5fbd-4761-b884-2960eefd804b</span>\n",
       "│   <span style=\"color: #c0c0c0; text-decoration-color: #c0c0c0\">   Assigned to: </span><span style=\"color: #008000; text-decoration-color: #008000\">Historical Weather Data Specialist</span>\n",
       "│   <span style=\"color: #c0c0c0; text-decoration-color: #c0c0c0\">   Status: </span><span style=\"color: #008000; text-decoration-color: #008000; font-weight: bold\">✅ Completed</span>\n",
       "│   └── <span style=\"color: #008000; text-decoration-color: #008000; font-weight: bold\">🤖 Agent: </span><span style=\"color: #008000; text-decoration-color: #008000\">Historical Weather Data Specialist</span>\n",
       "│       <span style=\"color: #c0c0c0; text-decoration-color: #c0c0c0\">    Status: </span><span style=\"color: #008000; text-decoration-color: #008000; font-weight: bold\">✅ Completed</span>\n",
       "└── <span style=\"color: #808000; text-decoration-color: #808000; font-weight: bold\">📋 Task: 17409821-f67b-4c59-bee5-c21170612783</span>\n",
       "    <span style=\"color: #c0c0c0; text-decoration-color: #c0c0c0\">   Status: </span><span style=\"color: #bfbf7f; text-decoration-color: #bfbf7f\">Executing Task...</span>\n",
       "    └── <span style=\"color: #008000; text-decoration-color: #008000; font-weight: bold\">🤖 Agent: </span><span style=\"color: #008000; text-decoration-color: #008000\">Air Quality Data Retriever</span>\n",
       "        <span style=\"color: #c0c0c0; text-decoration-color: #c0c0c0\">    Status: </span><span style=\"color: #008000; text-decoration-color: #008000; font-weight: bold\">✅ Completed</span>\n",
       "</pre>\n"
      ],
      "text/plain": [
       "\u001b[1;36m🚀 Crew: \u001b[0m\u001b[1;36mcrew\u001b[0m\n",
       "├── \u001b[1;32m📋 Task: 949981bf-7b60-47df-8841-c79c871903cd\u001b[0m\n",
       "│   \u001b[37m   Assigned to: \u001b[0m\u001b[32mGeospatial Data Specialist\u001b[0m\n",
       "│   \u001b[37m   Status: \u001b[0m\u001b[1;32m✅ Completed\u001b[0m\n",
       "│   └── \u001b[1;32m🤖 Agent: \u001b[0m\u001b[32mGeospatial Data Specialist\u001b[0m\n",
       "│       \u001b[37m    Status: \u001b[0m\u001b[1;32m✅ Completed\u001b[0m\n",
       "├── \u001b[1;32m📋 Task: dfa17cc8-5fbd-4761-b884-2960eefd804b\u001b[0m\n",
       "│   \u001b[37m   Assigned to: \u001b[0m\u001b[32mHistorical Weather Data Specialist\u001b[0m\n",
       "│   \u001b[37m   Status: \u001b[0m\u001b[1;32m✅ Completed\u001b[0m\n",
       "│   └── \u001b[1;32m🤖 Agent: \u001b[0m\u001b[32mHistorical Weather Data Specialist\u001b[0m\n",
       "│       \u001b[37m    Status: \u001b[0m\u001b[1;32m✅ Completed\u001b[0m\n",
       "└── \u001b[1;33m📋 Task: 17409821-f67b-4c59-bee5-c21170612783\u001b[0m\n",
       "    \u001b[37m   Status: \u001b[0m\u001b[2;33mExecuting Task...\u001b[0m\n",
       "    └── \u001b[1;32m🤖 Agent: \u001b[0m\u001b[32mAir Quality Data Retriever\u001b[0m\n",
       "        \u001b[37m    Status: \u001b[0m\u001b[1;32m✅ Completed\u001b[0m\n"
      ]
     },
     "metadata": {},
     "output_type": "display_data"
    },
    {
     "data": {
      "text/html": [
       "<pre style=\"white-space:pre;overflow-x:auto;line-height:normal;font-family:Menlo,'DejaVu Sans Mono',consolas,'Courier New',monospace\">\n",
       "</pre>\n"
      ],
      "text/plain": [
       "\n"
      ]
     },
     "metadata": {},
     "output_type": "display_data"
    },
    {
     "data": {
      "text/html": [
       "<pre style=\"white-space:pre;overflow-x:auto;line-height:normal;font-family:Menlo,'DejaVu Sans Mono',consolas,'Courier New',monospace\"><span style=\"color: #008080; text-decoration-color: #008080; font-weight: bold\">🚀 Crew: crew</span>\n",
       "├── <span style=\"color: #008000; text-decoration-color: #008000; font-weight: bold\">📋 Task: 949981bf-7b60-47df-8841-c79c871903cd</span>\n",
       "│   <span style=\"color: #c0c0c0; text-decoration-color: #c0c0c0\">   Assigned to: </span><span style=\"color: #008000; text-decoration-color: #008000\">Geospatial Data Specialist</span>\n",
       "│   <span style=\"color: #c0c0c0; text-decoration-color: #c0c0c0\">   Status: </span><span style=\"color: #008000; text-decoration-color: #008000; font-weight: bold\">✅ Completed</span>\n",
       "│   └── <span style=\"color: #008000; text-decoration-color: #008000; font-weight: bold\">🤖 Agent: </span><span style=\"color: #008000; text-decoration-color: #008000\">Geospatial Data Specialist</span>\n",
       "│       <span style=\"color: #c0c0c0; text-decoration-color: #c0c0c0\">    Status: </span><span style=\"color: #008000; text-decoration-color: #008000; font-weight: bold\">✅ Completed</span>\n",
       "├── <span style=\"color: #008000; text-decoration-color: #008000; font-weight: bold\">📋 Task: dfa17cc8-5fbd-4761-b884-2960eefd804b</span>\n",
       "│   <span style=\"color: #c0c0c0; text-decoration-color: #c0c0c0\">   Assigned to: </span><span style=\"color: #008000; text-decoration-color: #008000\">Historical Weather Data Specialist</span>\n",
       "│   <span style=\"color: #c0c0c0; text-decoration-color: #c0c0c0\">   Status: </span><span style=\"color: #008000; text-decoration-color: #008000; font-weight: bold\">✅ Completed</span>\n",
       "│   └── <span style=\"color: #008000; text-decoration-color: #008000; font-weight: bold\">🤖 Agent: </span><span style=\"color: #008000; text-decoration-color: #008000\">Historical Weather Data Specialist</span>\n",
       "│       <span style=\"color: #c0c0c0; text-decoration-color: #c0c0c0\">    Status: </span><span style=\"color: #008000; text-decoration-color: #008000; font-weight: bold\">✅ Completed</span>\n",
       "└── <span style=\"color: #008000; text-decoration-color: #008000; font-weight: bold\">📋 Task: 17409821-f67b-4c59-bee5-c21170612783</span>\n",
       "    <span style=\"color: #c0c0c0; text-decoration-color: #c0c0c0\">   Assigned to: </span><span style=\"color: #008000; text-decoration-color: #008000\">Air Quality Data Retriever</span>\n",
       "    <span style=\"color: #c0c0c0; text-decoration-color: #c0c0c0\">   Status: </span><span style=\"color: #008000; text-decoration-color: #008000; font-weight: bold\">✅ Completed</span>\n",
       "    └── <span style=\"color: #008000; text-decoration-color: #008000; font-weight: bold\">🤖 Agent: </span><span style=\"color: #008000; text-decoration-color: #008000\">Air Quality Data Retriever</span>\n",
       "        <span style=\"color: #c0c0c0; text-decoration-color: #c0c0c0\">    Status: </span><span style=\"color: #008000; text-decoration-color: #008000; font-weight: bold\">✅ Completed</span>\n",
       "</pre>\n"
      ],
      "text/plain": [
       "\u001b[1;36m🚀 Crew: \u001b[0m\u001b[1;36mcrew\u001b[0m\n",
       "├── \u001b[1;32m📋 Task: 949981bf-7b60-47df-8841-c79c871903cd\u001b[0m\n",
       "│   \u001b[37m   Assigned to: \u001b[0m\u001b[32mGeospatial Data Specialist\u001b[0m\n",
       "│   \u001b[37m   Status: \u001b[0m\u001b[1;32m✅ Completed\u001b[0m\n",
       "│   └── \u001b[1;32m🤖 Agent: \u001b[0m\u001b[32mGeospatial Data Specialist\u001b[0m\n",
       "│       \u001b[37m    Status: \u001b[0m\u001b[1;32m✅ Completed\u001b[0m\n",
       "├── \u001b[1;32m📋 Task: dfa17cc8-5fbd-4761-b884-2960eefd804b\u001b[0m\n",
       "│   \u001b[37m   Assigned to: \u001b[0m\u001b[32mHistorical Weather Data Specialist\u001b[0m\n",
       "│   \u001b[37m   Status: \u001b[0m\u001b[1;32m✅ Completed\u001b[0m\n",
       "│   └── \u001b[1;32m🤖 Agent: \u001b[0m\u001b[32mHistorical Weather Data Specialist\u001b[0m\n",
       "│       \u001b[37m    Status: \u001b[0m\u001b[1;32m✅ Completed\u001b[0m\n",
       "└── \u001b[1;32m📋 Task: 17409821-f67b-4c59-bee5-c21170612783\u001b[0m\n",
       "    \u001b[37m   Assigned to: \u001b[0m\u001b[32mAir Quality Data Retriever\u001b[0m\n",
       "    \u001b[37m   Status: \u001b[0m\u001b[1;32m✅ Completed\u001b[0m\n",
       "    └── \u001b[1;32m🤖 Agent: \u001b[0m\u001b[32mAir Quality Data Retriever\u001b[0m\n",
       "        \u001b[37m    Status: \u001b[0m\u001b[1;32m✅ Completed\u001b[0m\n"
      ]
     },
     "metadata": {},
     "output_type": "display_data"
    },
    {
     "data": {
      "text/html": [
       "<pre style=\"white-space:pre;overflow-x:auto;line-height:normal;font-family:Menlo,'DejaVu Sans Mono',consolas,'Courier New',monospace\"><span style=\"color: #008000; text-decoration-color: #008000\">╭──────────────────────────────────────────────── Task Completion ────────────────────────────────────────────────╮</span>\n",
       "<span style=\"color: #008000; text-decoration-color: #008000\">│</span>                                                                                                                 <span style=\"color: #008000; text-decoration-color: #008000\">│</span>\n",
       "<span style=\"color: #008000; text-decoration-color: #008000\">│</span>  <span style=\"color: #008000; text-decoration-color: #008000; font-weight: bold\">Task Completed</span>                                                                                                 <span style=\"color: #008000; text-decoration-color: #008000\">│</span>\n",
       "<span style=\"color: #008000; text-decoration-color: #008000\">│</span>  <span style=\"color: #c0c0c0; text-decoration-color: #c0c0c0\">Name: </span><span style=\"color: #008000; text-decoration-color: #008000\">17409821-f67b-4c59-bee5-c21170612783</span>                                                                     <span style=\"color: #008000; text-decoration-color: #008000\">│</span>\n",
       "<span style=\"color: #008000; text-decoration-color: #008000\">│</span>  <span style=\"color: #c0c0c0; text-decoration-color: #c0c0c0\">Agent: </span><span style=\"color: #008000; text-decoration-color: #008000\">Air Quality Data Retriever</span>                                                                              <span style=\"color: #008000; text-decoration-color: #008000\">│</span>\n",
       "<span style=\"color: #008000; text-decoration-color: #008000\">│</span>                                                                                                                 <span style=\"color: #008000; text-decoration-color: #008000\">│</span>\n",
       "<span style=\"color: #008000; text-decoration-color: #008000\">│</span>                                                                                                                 <span style=\"color: #008000; text-decoration-color: #008000\">│</span>\n",
       "<span style=\"color: #008000; text-decoration-color: #008000\">╰─────────────────────────────────────────────────────────────────────────────────────────────────────────────────╯</span>\n",
       "</pre>\n"
      ],
      "text/plain": [
       "\u001b[32m╭─\u001b[0m\u001b[32m───────────────────────────────────────────────\u001b[0m\u001b[32m Task Completion \u001b[0m\u001b[32m───────────────────────────────────────────────\u001b[0m\u001b[32m─╮\u001b[0m\n",
       "\u001b[32m│\u001b[0m                                                                                                                 \u001b[32m│\u001b[0m\n",
       "\u001b[32m│\u001b[0m  \u001b[1;32mTask Completed\u001b[0m                                                                                                 \u001b[32m│\u001b[0m\n",
       "\u001b[32m│\u001b[0m  \u001b[37mName: \u001b[0m\u001b[32m17409821-f67b-4c59-bee5-c21170612783\u001b[0m                                                                     \u001b[32m│\u001b[0m\n",
       "\u001b[32m│\u001b[0m  \u001b[37mAgent: \u001b[0m\u001b[32mAir Quality Data Retriever\u001b[0m                                                                              \u001b[32m│\u001b[0m\n",
       "\u001b[32m│\u001b[0m                                                                                                                 \u001b[32m│\u001b[0m\n",
       "\u001b[32m│\u001b[0m                                                                                                                 \u001b[32m│\u001b[0m\n",
       "\u001b[32m╰─────────────────────────────────────────────────────────────────────────────────────────────────────────────────╯\u001b[0m\n"
      ]
     },
     "metadata": {},
     "output_type": "display_data"
    },
    {
     "data": {
      "text/html": [
       "<pre style=\"white-space:pre;overflow-x:auto;line-height:normal;font-family:Menlo,'DejaVu Sans Mono',consolas,'Courier New',monospace\">\n",
       "</pre>\n"
      ],
      "text/plain": [
       "\n"
      ]
     },
     "metadata": {},
     "output_type": "display_data"
    },
    {
     "data": {
      "text/html": [
       "<pre style=\"white-space:pre;overflow-x:auto;line-height:normal;font-family:Menlo,'DejaVu Sans Mono',consolas,'Courier New',monospace\"><span style=\"color: #008080; text-decoration-color: #008080; font-weight: bold\">🚀 Crew: crew</span>\n",
       "├── <span style=\"color: #008000; text-decoration-color: #008000; font-weight: bold\">📋 Task: 949981bf-7b60-47df-8841-c79c871903cd</span>\n",
       "│   <span style=\"color: #c0c0c0; text-decoration-color: #c0c0c0\">   Assigned to: </span><span style=\"color: #008000; text-decoration-color: #008000\">Geospatial Data Specialist</span>\n",
       "│   <span style=\"color: #c0c0c0; text-decoration-color: #c0c0c0\">   Status: </span><span style=\"color: #008000; text-decoration-color: #008000; font-weight: bold\">✅ Completed</span>\n",
       "│   └── <span style=\"color: #008000; text-decoration-color: #008000; font-weight: bold\">🤖 Agent: </span><span style=\"color: #008000; text-decoration-color: #008000\">Geospatial Data Specialist</span>\n",
       "│       <span style=\"color: #c0c0c0; text-decoration-color: #c0c0c0\">    Status: </span><span style=\"color: #008000; text-decoration-color: #008000; font-weight: bold\">✅ Completed</span>\n",
       "├── <span style=\"color: #008000; text-decoration-color: #008000; font-weight: bold\">📋 Task: dfa17cc8-5fbd-4761-b884-2960eefd804b</span>\n",
       "│   <span style=\"color: #c0c0c0; text-decoration-color: #c0c0c0\">   Assigned to: </span><span style=\"color: #008000; text-decoration-color: #008000\">Historical Weather Data Specialist</span>\n",
       "│   <span style=\"color: #c0c0c0; text-decoration-color: #c0c0c0\">   Status: </span><span style=\"color: #008000; text-decoration-color: #008000; font-weight: bold\">✅ Completed</span>\n",
       "│   └── <span style=\"color: #008000; text-decoration-color: #008000; font-weight: bold\">🤖 Agent: </span><span style=\"color: #008000; text-decoration-color: #008000\">Historical Weather Data Specialist</span>\n",
       "│       <span style=\"color: #c0c0c0; text-decoration-color: #c0c0c0\">    Status: </span><span style=\"color: #008000; text-decoration-color: #008000; font-weight: bold\">✅ Completed</span>\n",
       "├── <span style=\"color: #008000; text-decoration-color: #008000; font-weight: bold\">📋 Task: 17409821-f67b-4c59-bee5-c21170612783</span>\n",
       "│   <span style=\"color: #c0c0c0; text-decoration-color: #c0c0c0\">   Assigned to: </span><span style=\"color: #008000; text-decoration-color: #008000\">Air Quality Data Retriever</span>\n",
       "│   <span style=\"color: #c0c0c0; text-decoration-color: #c0c0c0\">   Status: </span><span style=\"color: #008000; text-decoration-color: #008000; font-weight: bold\">✅ Completed</span>\n",
       "│   └── <span style=\"color: #008000; text-decoration-color: #008000; font-weight: bold\">🤖 Agent: </span><span style=\"color: #008000; text-decoration-color: #008000\">Air Quality Data Retriever</span>\n",
       "│       <span style=\"color: #c0c0c0; text-decoration-color: #c0c0c0\">    Status: </span><span style=\"color: #008000; text-decoration-color: #008000; font-weight: bold\">✅ Completed</span>\n",
       "└── <span style=\"color: #808000; text-decoration-color: #808000; font-weight: bold\">📋 Task: aec9dcf3-eacf-4ceb-a571-3063ee5e9060</span>\n",
       "    <span style=\"color: #c0c0c0; text-decoration-color: #c0c0c0\">   Status: </span><span style=\"color: #bfbf7f; text-decoration-color: #bfbf7f\">Executing Task...</span>\n",
       "</pre>\n"
      ],
      "text/plain": [
       "\u001b[1;36m🚀 Crew: \u001b[0m\u001b[1;36mcrew\u001b[0m\n",
       "├── \u001b[1;32m📋 Task: 949981bf-7b60-47df-8841-c79c871903cd\u001b[0m\n",
       "│   \u001b[37m   Assigned to: \u001b[0m\u001b[32mGeospatial Data Specialist\u001b[0m\n",
       "│   \u001b[37m   Status: \u001b[0m\u001b[1;32m✅ Completed\u001b[0m\n",
       "│   └── \u001b[1;32m🤖 Agent: \u001b[0m\u001b[32mGeospatial Data Specialist\u001b[0m\n",
       "│       \u001b[37m    Status: \u001b[0m\u001b[1;32m✅ Completed\u001b[0m\n",
       "├── \u001b[1;32m📋 Task: dfa17cc8-5fbd-4761-b884-2960eefd804b\u001b[0m\n",
       "│   \u001b[37m   Assigned to: \u001b[0m\u001b[32mHistorical Weather Data Specialist\u001b[0m\n",
       "│   \u001b[37m   Status: \u001b[0m\u001b[1;32m✅ Completed\u001b[0m\n",
       "│   └── \u001b[1;32m🤖 Agent: \u001b[0m\u001b[32mHistorical Weather Data Specialist\u001b[0m\n",
       "│       \u001b[37m    Status: \u001b[0m\u001b[1;32m✅ Completed\u001b[0m\n",
       "├── \u001b[1;32m📋 Task: 17409821-f67b-4c59-bee5-c21170612783\u001b[0m\n",
       "│   \u001b[37m   Assigned to: \u001b[0m\u001b[32mAir Quality Data Retriever\u001b[0m\n",
       "│   \u001b[37m   Status: \u001b[0m\u001b[1;32m✅ Completed\u001b[0m\n",
       "│   └── \u001b[1;32m🤖 Agent: \u001b[0m\u001b[32mAir Quality Data Retriever\u001b[0m\n",
       "│       \u001b[37m    Status: \u001b[0m\u001b[1;32m✅ Completed\u001b[0m\n",
       "└── \u001b[1;33m📋 Task: aec9dcf3-eacf-4ceb-a571-3063ee5e9060\u001b[0m\n",
       "    \u001b[37m   Status: \u001b[0m\u001b[2;33mExecuting Task...\u001b[0m\n"
      ]
     },
     "metadata": {},
     "output_type": "display_data"
    },
    {
     "data": {
      "text/html": [
       "<pre style=\"white-space:pre;overflow-x:auto;line-height:normal;font-family:Menlo,'DejaVu Sans Mono',consolas,'Courier New',monospace\">\n",
       "</pre>\n"
      ],
      "text/plain": [
       "\n"
      ]
     },
     "metadata": {},
     "output_type": "display_data"
    },
    {
     "data": {
      "text/html": [
       "<pre style=\"white-space:pre;overflow-x:auto;line-height:normal;font-family:Menlo,'DejaVu Sans Mono',consolas,'Courier New',monospace\"><span style=\"color: #008080; text-decoration-color: #008080; font-weight: bold\">🚀 Crew: crew</span>\n",
       "├── <span style=\"color: #008000; text-decoration-color: #008000; font-weight: bold\">📋 Task: 949981bf-7b60-47df-8841-c79c871903cd</span>\n",
       "│   <span style=\"color: #c0c0c0; text-decoration-color: #c0c0c0\">   Assigned to: </span><span style=\"color: #008000; text-decoration-color: #008000\">Geospatial Data Specialist</span>\n",
       "│   <span style=\"color: #c0c0c0; text-decoration-color: #c0c0c0\">   Status: </span><span style=\"color: #008000; text-decoration-color: #008000; font-weight: bold\">✅ Completed</span>\n",
       "│   └── <span style=\"color: #008000; text-decoration-color: #008000; font-weight: bold\">🤖 Agent: </span><span style=\"color: #008000; text-decoration-color: #008000\">Geospatial Data Specialist</span>\n",
       "│       <span style=\"color: #c0c0c0; text-decoration-color: #c0c0c0\">    Status: </span><span style=\"color: #008000; text-decoration-color: #008000; font-weight: bold\">✅ Completed</span>\n",
       "├── <span style=\"color: #008000; text-decoration-color: #008000; font-weight: bold\">📋 Task: dfa17cc8-5fbd-4761-b884-2960eefd804b</span>\n",
       "│   <span style=\"color: #c0c0c0; text-decoration-color: #c0c0c0\">   Assigned to: </span><span style=\"color: #008000; text-decoration-color: #008000\">Historical Weather Data Specialist</span>\n",
       "│   <span style=\"color: #c0c0c0; text-decoration-color: #c0c0c0\">   Status: </span><span style=\"color: #008000; text-decoration-color: #008000; font-weight: bold\">✅ Completed</span>\n",
       "│   └── <span style=\"color: #008000; text-decoration-color: #008000; font-weight: bold\">🤖 Agent: </span><span style=\"color: #008000; text-decoration-color: #008000\">Historical Weather Data Specialist</span>\n",
       "│       <span style=\"color: #c0c0c0; text-decoration-color: #c0c0c0\">    Status: </span><span style=\"color: #008000; text-decoration-color: #008000; font-weight: bold\">✅ Completed</span>\n",
       "├── <span style=\"color: #008000; text-decoration-color: #008000; font-weight: bold\">📋 Task: 17409821-f67b-4c59-bee5-c21170612783</span>\n",
       "│   <span style=\"color: #c0c0c0; text-decoration-color: #c0c0c0\">   Assigned to: </span><span style=\"color: #008000; text-decoration-color: #008000\">Air Quality Data Retriever</span>\n",
       "│   <span style=\"color: #c0c0c0; text-decoration-color: #c0c0c0\">   Status: </span><span style=\"color: #008000; text-decoration-color: #008000; font-weight: bold\">✅ Completed</span>\n",
       "│   └── <span style=\"color: #008000; text-decoration-color: #008000; font-weight: bold\">🤖 Agent: </span><span style=\"color: #008000; text-decoration-color: #008000\">Air Quality Data Retriever</span>\n",
       "│       <span style=\"color: #c0c0c0; text-decoration-color: #c0c0c0\">    Status: </span><span style=\"color: #008000; text-decoration-color: #008000; font-weight: bold\">✅ Completed</span>\n",
       "└── <span style=\"color: #808000; text-decoration-color: #808000; font-weight: bold\">📋 Task: aec9dcf3-eacf-4ceb-a571-3063ee5e9060</span>\n",
       "    <span style=\"color: #c0c0c0; text-decoration-color: #c0c0c0\">   Status: </span><span style=\"color: #bfbf7f; text-decoration-color: #bfbf7f\">Executing Task...</span>\n",
       "    └── <span style=\"color: #008000; text-decoration-color: #008000; font-weight: bold\">🤖 Agent: </span><span style=\"color: #008000; text-decoration-color: #008000\">Air Quality Analyst</span>\n",
       "        <span style=\"color: #c0c0c0; text-decoration-color: #c0c0c0\">    Status: </span><span style=\"color: #008000; text-decoration-color: #008000; font-weight: bold\">In Progress</span>\n",
       "</pre>\n"
      ],
      "text/plain": [
       "\u001b[1;36m🚀 Crew: \u001b[0m\u001b[1;36mcrew\u001b[0m\n",
       "├── \u001b[1;32m📋 Task: 949981bf-7b60-47df-8841-c79c871903cd\u001b[0m\n",
       "│   \u001b[37m   Assigned to: \u001b[0m\u001b[32mGeospatial Data Specialist\u001b[0m\n",
       "│   \u001b[37m   Status: \u001b[0m\u001b[1;32m✅ Completed\u001b[0m\n",
       "│   └── \u001b[1;32m🤖 Agent: \u001b[0m\u001b[32mGeospatial Data Specialist\u001b[0m\n",
       "│       \u001b[37m    Status: \u001b[0m\u001b[1;32m✅ Completed\u001b[0m\n",
       "├── \u001b[1;32m📋 Task: dfa17cc8-5fbd-4761-b884-2960eefd804b\u001b[0m\n",
       "│   \u001b[37m   Assigned to: \u001b[0m\u001b[32mHistorical Weather Data Specialist\u001b[0m\n",
       "│   \u001b[37m   Status: \u001b[0m\u001b[1;32m✅ Completed\u001b[0m\n",
       "│   └── \u001b[1;32m🤖 Agent: \u001b[0m\u001b[32mHistorical Weather Data Specialist\u001b[0m\n",
       "│       \u001b[37m    Status: \u001b[0m\u001b[1;32m✅ Completed\u001b[0m\n",
       "├── \u001b[1;32m📋 Task: 17409821-f67b-4c59-bee5-c21170612783\u001b[0m\n",
       "│   \u001b[37m   Assigned to: \u001b[0m\u001b[32mAir Quality Data Retriever\u001b[0m\n",
       "│   \u001b[37m   Status: \u001b[0m\u001b[1;32m✅ Completed\u001b[0m\n",
       "│   └── \u001b[1;32m🤖 Agent: \u001b[0m\u001b[32mAir Quality Data Retriever\u001b[0m\n",
       "│       \u001b[37m    Status: \u001b[0m\u001b[1;32m✅ Completed\u001b[0m\n",
       "└── \u001b[1;33m📋 Task: aec9dcf3-eacf-4ceb-a571-3063ee5e9060\u001b[0m\n",
       "    \u001b[37m   Status: \u001b[0m\u001b[2;33mExecuting Task...\u001b[0m\n",
       "    └── \u001b[1;32m🤖 Agent: \u001b[0m\u001b[32mAir Quality Analyst\u001b[0m\n",
       "        \u001b[37m    Status: \u001b[0m\u001b[1;32mIn Progress\u001b[0m\n"
      ]
     },
     "metadata": {},
     "output_type": "display_data"
    },
    {
     "data": {
      "text/html": [
       "<pre style=\"white-space:pre;overflow-x:auto;line-height:normal;font-family:Menlo,'DejaVu Sans Mono',consolas,'Courier New',monospace\">\n",
       "</pre>\n"
      ],
      "text/plain": [
       "\n"
      ]
     },
     "metadata": {},
     "output_type": "display_data"
    },
    {
     "name": "stdout",
     "output_type": "stream",
     "text": [
      "\u001b[1m\u001b[95m# Agent:\u001b[00m \u001b[1m\u001b[92mAir Quality Analyst\u001b[00m\n",
      "\u001b[95m## Task:\u001b[00m \u001b[92mAnalyze the provided air quality data (including parameters like pm10, value, units, date, and location) for the specified locations and dates. Consider the historical weather information (temperature, wind, precipitation, humidity) for the same period. Identify any trends in air quality, calculate average values where relevant, and discuss any potential correlations or influences of weather conditions on the air quality. Provide a detailed report summarizing the air quality situation for each city, including the key findings and any notable observations related to weather patterns.\u001b[00m\n",
      "\n",
      "\n",
      "\u001b[1m\u001b[95m# Agent:\u001b[00m \u001b[1m\u001b[92mAir Quality Analyst\u001b[00m\n",
      "\u001b[95m## Final Answer:\u001b[00m \u001b[92m\n",
      "**Comprehensive Air Quality and Weather Analysis Report**\n",
      "\n",
      "**1. New Delhi, India**\n",
      "\n",
      "*Air Quality Data Analysis:*\n",
      "- PM10 Levels:\n",
      "  - 2024-12-31: 209.60 µg/m³\n",
      "  - 2025-01-01: 251.26 µg/m³\n",
      "  - 2025-01-02: 247.84 µg/m³\n",
      "- PM2.5 Levels:\n",
      "  - 2024-12-31: 185.03 µg/m³\n",
      "  - 2025-01-01: 224.33 µg/m³\n",
      "  - 2025-01-02: 213.30 µg/m³\n",
      "\n",
      "*Average Values:*\n",
      "- PM10 Average: (209.60 + 251.26 + 247.84) / 3 = 236.57 µg/m³\n",
      "- PM2.5 Average: (185.03 + 224.33 + 213.30) / 3 = 207.22 µg/m³\n",
      "\n",
      "*Weather Conditions Analysis:*\n",
      "- Historical Weather Data:\n",
      "  - 2024-12-31: Mean Temp: 11.2°C, Max Temp: 16.0°C, Min Temp: 7.6°C, Precipitation: 0.0 mm, Wind Speed: 3.0 m/s, Humidity: 89%\n",
      "  - 2025-01-01: Mean Temp: 11.0°C, Max Temp: 17.0°C, Min Temp: 7.6°C, Precipitation: 0.0 mm, Wind Speed: 5.2 m/s, Humidity: 89%\n",
      "  - 2025-01-02: Mean Temp: 12.3°C, Max Temp: 18.3°C, Min Temp: 8.3°C, Precipitation: 0.0 mm, Wind Speed: 5.7 m/s, Humidity: 86%\n",
      "\n",
      "*Trends and Correlations:*\n",
      "The air quality in New Delhi shows significantly high levels of both PM10 and PM2.5 during the specified dates, with averages well above safe limits (WHO guideline for PM10 is 50 µg/m³). The increase in PM levels correlates with lower wind speeds and high humidity levels which typically lead to the stagnation of pollutants in the atmosphere.\n",
      "\n",
      "**2. Chennai, India**\n",
      "\n",
      "*Air Quality Data Analysis:*\n",
      "- PM2.5 Levels:\n",
      "  - 2024-12-31: 69.61 µg/m³\n",
      "  - 2025-01-01: 81.83 µg/m³\n",
      "  - 2025-01-02: 67.75 µg/m³\n",
      "\n",
      "*Average Values:*\n",
      "- PM2.5 Average: (69.61 + 81.83 + 67.75) / 3 = 73.73 µg/m³\n",
      "\n",
      "*Weather Conditions Analysis:*\n",
      "- Historical Weather Data:\n",
      "  - 2024-12-31: Mean Temp: 26.1°C, Max Temp: 28.1°C, Min Temp: 24.4°C, Precipitation: 0.1 mm, Wind Speed: 14.4 m/s, Humidity: 81%\n",
      "  - 2025-01-01: Mean Temp: 25.7°C, Max Temp: 27.8°C, Min Temp: 23.6°C, Precipitation: 0.0 mm, Wind Speed: 12.1 m/s, Humidity: 79%\n",
      "  - 2025-01-02: Mean Temp: 25.4°C, Max Temp: 27.8°C, Min Temp: 23.2°C, Precipitation: 0.0 mm, Wind Speed: 10.4 m/s, Humidity: 72%\n",
      "\n",
      "*Trends and Correlations:*\n",
      "Chennai's air quality displays relatively lower PM2.5 levels compared to New Delhi but still exceeds the recommended limits (WHO guideline is also set at a maximum of 25 µg/m³). The data suggests that higher wind speeds during the analysis period may contribute to the lower PM2.5 levels observed on December 31, while the slight increase in PM levels on January 1 correlates with a decrease in wind speed and humidity.\n",
      "\n",
      "**Conclusion and Recommendations**\n",
      "Overall, New Delhi is experiencing critical air quality issues, with both PM10 and PM2.5 levels posing serious health risks to its residents, particularly during the winter months when meteorological conditions can trap pollutants close to the ground. In contrast, Chennai has relatively better air quality conditions but should remain vigilant as even moderate levels\u001b[00m\n",
      "\n",
      "\n"
     ]
    },
    {
     "data": {
      "text/html": [
       "<pre style=\"white-space:pre;overflow-x:auto;line-height:normal;font-family:Menlo,'DejaVu Sans Mono',consolas,'Courier New',monospace\"><span style=\"color: #008080; text-decoration-color: #008080; font-weight: bold\">🚀 Crew: crew</span>\n",
       "├── <span style=\"color: #008000; text-decoration-color: #008000; font-weight: bold\">📋 Task: 949981bf-7b60-47df-8841-c79c871903cd</span>\n",
       "│   <span style=\"color: #c0c0c0; text-decoration-color: #c0c0c0\">   Assigned to: </span><span style=\"color: #008000; text-decoration-color: #008000\">Geospatial Data Specialist</span>\n",
       "│   <span style=\"color: #c0c0c0; text-decoration-color: #c0c0c0\">   Status: </span><span style=\"color: #008000; text-decoration-color: #008000; font-weight: bold\">✅ Completed</span>\n",
       "│   └── <span style=\"color: #008000; text-decoration-color: #008000; font-weight: bold\">🤖 Agent: </span><span style=\"color: #008000; text-decoration-color: #008000\">Geospatial Data Specialist</span>\n",
       "│       <span style=\"color: #c0c0c0; text-decoration-color: #c0c0c0\">    Status: </span><span style=\"color: #008000; text-decoration-color: #008000; font-weight: bold\">✅ Completed</span>\n",
       "├── <span style=\"color: #008000; text-decoration-color: #008000; font-weight: bold\">📋 Task: dfa17cc8-5fbd-4761-b884-2960eefd804b</span>\n",
       "│   <span style=\"color: #c0c0c0; text-decoration-color: #c0c0c0\">   Assigned to: </span><span style=\"color: #008000; text-decoration-color: #008000\">Historical Weather Data Specialist</span>\n",
       "│   <span style=\"color: #c0c0c0; text-decoration-color: #c0c0c0\">   Status: </span><span style=\"color: #008000; text-decoration-color: #008000; font-weight: bold\">✅ Completed</span>\n",
       "│   └── <span style=\"color: #008000; text-decoration-color: #008000; font-weight: bold\">🤖 Agent: </span><span style=\"color: #008000; text-decoration-color: #008000\">Historical Weather Data Specialist</span>\n",
       "│       <span style=\"color: #c0c0c0; text-decoration-color: #c0c0c0\">    Status: </span><span style=\"color: #008000; text-decoration-color: #008000; font-weight: bold\">✅ Completed</span>\n",
       "├── <span style=\"color: #008000; text-decoration-color: #008000; font-weight: bold\">📋 Task: 17409821-f67b-4c59-bee5-c21170612783</span>\n",
       "│   <span style=\"color: #c0c0c0; text-decoration-color: #c0c0c0\">   Assigned to: </span><span style=\"color: #008000; text-decoration-color: #008000\">Air Quality Data Retriever</span>\n",
       "│   <span style=\"color: #c0c0c0; text-decoration-color: #c0c0c0\">   Status: </span><span style=\"color: #008000; text-decoration-color: #008000; font-weight: bold\">✅ Completed</span>\n",
       "│   └── <span style=\"color: #008000; text-decoration-color: #008000; font-weight: bold\">🤖 Agent: </span><span style=\"color: #008000; text-decoration-color: #008000\">Air Quality Data Retriever</span>\n",
       "│       <span style=\"color: #c0c0c0; text-decoration-color: #c0c0c0\">    Status: </span><span style=\"color: #008000; text-decoration-color: #008000; font-weight: bold\">✅ Completed</span>\n",
       "└── <span style=\"color: #808000; text-decoration-color: #808000; font-weight: bold\">📋 Task: aec9dcf3-eacf-4ceb-a571-3063ee5e9060</span>\n",
       "    <span style=\"color: #c0c0c0; text-decoration-color: #c0c0c0\">   Status: </span><span style=\"color: #bfbf7f; text-decoration-color: #bfbf7f\">Executing Task...</span>\n",
       "    └── <span style=\"color: #008000; text-decoration-color: #008000; font-weight: bold\">🤖 Agent: </span><span style=\"color: #008000; text-decoration-color: #008000\">Air Quality Analyst</span>\n",
       "        <span style=\"color: #c0c0c0; text-decoration-color: #c0c0c0\">    Status: </span><span style=\"color: #008000; text-decoration-color: #008000; font-weight: bold\">✅ Completed</span>\n",
       "</pre>\n"
      ],
      "text/plain": [
       "\u001b[1;36m🚀 Crew: \u001b[0m\u001b[1;36mcrew\u001b[0m\n",
       "├── \u001b[1;32m📋 Task: 949981bf-7b60-47df-8841-c79c871903cd\u001b[0m\n",
       "│   \u001b[37m   Assigned to: \u001b[0m\u001b[32mGeospatial Data Specialist\u001b[0m\n",
       "│   \u001b[37m   Status: \u001b[0m\u001b[1;32m✅ Completed\u001b[0m\n",
       "│   └── \u001b[1;32m🤖 Agent: \u001b[0m\u001b[32mGeospatial Data Specialist\u001b[0m\n",
       "│       \u001b[37m    Status: \u001b[0m\u001b[1;32m✅ Completed\u001b[0m\n",
       "├── \u001b[1;32m📋 Task: dfa17cc8-5fbd-4761-b884-2960eefd804b\u001b[0m\n",
       "│   \u001b[37m   Assigned to: \u001b[0m\u001b[32mHistorical Weather Data Specialist\u001b[0m\n",
       "│   \u001b[37m   Status: \u001b[0m\u001b[1;32m✅ Completed\u001b[0m\n",
       "│   └── \u001b[1;32m🤖 Agent: \u001b[0m\u001b[32mHistorical Weather Data Specialist\u001b[0m\n",
       "│       \u001b[37m    Status: \u001b[0m\u001b[1;32m✅ Completed\u001b[0m\n",
       "├── \u001b[1;32m📋 Task: 17409821-f67b-4c59-bee5-c21170612783\u001b[0m\n",
       "│   \u001b[37m   Assigned to: \u001b[0m\u001b[32mAir Quality Data Retriever\u001b[0m\n",
       "│   \u001b[37m   Status: \u001b[0m\u001b[1;32m✅ Completed\u001b[0m\n",
       "│   └── \u001b[1;32m🤖 Agent: \u001b[0m\u001b[32mAir Quality Data Retriever\u001b[0m\n",
       "│       \u001b[37m    Status: \u001b[0m\u001b[1;32m✅ Completed\u001b[0m\n",
       "└── \u001b[1;33m📋 Task: aec9dcf3-eacf-4ceb-a571-3063ee5e9060\u001b[0m\n",
       "    \u001b[37m   Status: \u001b[0m\u001b[2;33mExecuting Task...\u001b[0m\n",
       "    └── \u001b[1;32m🤖 Agent: \u001b[0m\u001b[32mAir Quality Analyst\u001b[0m\n",
       "        \u001b[37m    Status: \u001b[0m\u001b[1;32m✅ Completed\u001b[0m\n"
      ]
     },
     "metadata": {},
     "output_type": "display_data"
    },
    {
     "data": {
      "text/html": [
       "<pre style=\"white-space:pre;overflow-x:auto;line-height:normal;font-family:Menlo,'DejaVu Sans Mono',consolas,'Courier New',monospace\">\n",
       "</pre>\n"
      ],
      "text/plain": [
       "\n"
      ]
     },
     "metadata": {},
     "output_type": "display_data"
    },
    {
     "data": {
      "text/html": [
       "<pre style=\"white-space:pre;overflow-x:auto;line-height:normal;font-family:Menlo,'DejaVu Sans Mono',consolas,'Courier New',monospace\"><span style=\"color: #008080; text-decoration-color: #008080; font-weight: bold\">🚀 Crew: crew</span>\n",
       "├── <span style=\"color: #008000; text-decoration-color: #008000; font-weight: bold\">📋 Task: 949981bf-7b60-47df-8841-c79c871903cd</span>\n",
       "│   <span style=\"color: #c0c0c0; text-decoration-color: #c0c0c0\">   Assigned to: </span><span style=\"color: #008000; text-decoration-color: #008000\">Geospatial Data Specialist</span>\n",
       "│   <span style=\"color: #c0c0c0; text-decoration-color: #c0c0c0\">   Status: </span><span style=\"color: #008000; text-decoration-color: #008000; font-weight: bold\">✅ Completed</span>\n",
       "│   └── <span style=\"color: #008000; text-decoration-color: #008000; font-weight: bold\">🤖 Agent: </span><span style=\"color: #008000; text-decoration-color: #008000\">Geospatial Data Specialist</span>\n",
       "│       <span style=\"color: #c0c0c0; text-decoration-color: #c0c0c0\">    Status: </span><span style=\"color: #008000; text-decoration-color: #008000; font-weight: bold\">✅ Completed</span>\n",
       "├── <span style=\"color: #008000; text-decoration-color: #008000; font-weight: bold\">📋 Task: dfa17cc8-5fbd-4761-b884-2960eefd804b</span>\n",
       "│   <span style=\"color: #c0c0c0; text-decoration-color: #c0c0c0\">   Assigned to: </span><span style=\"color: #008000; text-decoration-color: #008000\">Historical Weather Data Specialist</span>\n",
       "│   <span style=\"color: #c0c0c0; text-decoration-color: #c0c0c0\">   Status: </span><span style=\"color: #008000; text-decoration-color: #008000; font-weight: bold\">✅ Completed</span>\n",
       "│   └── <span style=\"color: #008000; text-decoration-color: #008000; font-weight: bold\">🤖 Agent: </span><span style=\"color: #008000; text-decoration-color: #008000\">Historical Weather Data Specialist</span>\n",
       "│       <span style=\"color: #c0c0c0; text-decoration-color: #c0c0c0\">    Status: </span><span style=\"color: #008000; text-decoration-color: #008000; font-weight: bold\">✅ Completed</span>\n",
       "├── <span style=\"color: #008000; text-decoration-color: #008000; font-weight: bold\">📋 Task: 17409821-f67b-4c59-bee5-c21170612783</span>\n",
       "│   <span style=\"color: #c0c0c0; text-decoration-color: #c0c0c0\">   Assigned to: </span><span style=\"color: #008000; text-decoration-color: #008000\">Air Quality Data Retriever</span>\n",
       "│   <span style=\"color: #c0c0c0; text-decoration-color: #c0c0c0\">   Status: </span><span style=\"color: #008000; text-decoration-color: #008000; font-weight: bold\">✅ Completed</span>\n",
       "│   └── <span style=\"color: #008000; text-decoration-color: #008000; font-weight: bold\">🤖 Agent: </span><span style=\"color: #008000; text-decoration-color: #008000\">Air Quality Data Retriever</span>\n",
       "│       <span style=\"color: #c0c0c0; text-decoration-color: #c0c0c0\">    Status: </span><span style=\"color: #008000; text-decoration-color: #008000; font-weight: bold\">✅ Completed</span>\n",
       "└── <span style=\"color: #008000; text-decoration-color: #008000; font-weight: bold\">📋 Task: aec9dcf3-eacf-4ceb-a571-3063ee5e9060</span>\n",
       "    <span style=\"color: #c0c0c0; text-decoration-color: #c0c0c0\">   Assigned to: </span><span style=\"color: #008000; text-decoration-color: #008000\">Air Quality Analyst</span>\n",
       "    <span style=\"color: #c0c0c0; text-decoration-color: #c0c0c0\">   Status: </span><span style=\"color: #008000; text-decoration-color: #008000; font-weight: bold\">✅ Completed</span>\n",
       "    └── <span style=\"color: #008000; text-decoration-color: #008000; font-weight: bold\">🤖 Agent: </span><span style=\"color: #008000; text-decoration-color: #008000\">Air Quality Analyst</span>\n",
       "        <span style=\"color: #c0c0c0; text-decoration-color: #c0c0c0\">    Status: </span><span style=\"color: #008000; text-decoration-color: #008000; font-weight: bold\">✅ Completed</span>\n",
       "</pre>\n"
      ],
      "text/plain": [
       "\u001b[1;36m🚀 Crew: \u001b[0m\u001b[1;36mcrew\u001b[0m\n",
       "├── \u001b[1;32m📋 Task: 949981bf-7b60-47df-8841-c79c871903cd\u001b[0m\n",
       "│   \u001b[37m   Assigned to: \u001b[0m\u001b[32mGeospatial Data Specialist\u001b[0m\n",
       "│   \u001b[37m   Status: \u001b[0m\u001b[1;32m✅ Completed\u001b[0m\n",
       "│   └── \u001b[1;32m🤖 Agent: \u001b[0m\u001b[32mGeospatial Data Specialist\u001b[0m\n",
       "│       \u001b[37m    Status: \u001b[0m\u001b[1;32m✅ Completed\u001b[0m\n",
       "├── \u001b[1;32m📋 Task: dfa17cc8-5fbd-4761-b884-2960eefd804b\u001b[0m\n",
       "│   \u001b[37m   Assigned to: \u001b[0m\u001b[32mHistorical Weather Data Specialist\u001b[0m\n",
       "│   \u001b[37m   Status: \u001b[0m\u001b[1;32m✅ Completed\u001b[0m\n",
       "│   └── \u001b[1;32m🤖 Agent: \u001b[0m\u001b[32mHistorical Weather Data Specialist\u001b[0m\n",
       "│       \u001b[37m    Status: \u001b[0m\u001b[1;32m✅ Completed\u001b[0m\n",
       "├── \u001b[1;32m📋 Task: 17409821-f67b-4c59-bee5-c21170612783\u001b[0m\n",
       "│   \u001b[37m   Assigned to: \u001b[0m\u001b[32mAir Quality Data Retriever\u001b[0m\n",
       "│   \u001b[37m   Status: \u001b[0m\u001b[1;32m✅ Completed\u001b[0m\n",
       "│   └── \u001b[1;32m🤖 Agent: \u001b[0m\u001b[32mAir Quality Data Retriever\u001b[0m\n",
       "│       \u001b[37m    Status: \u001b[0m\u001b[1;32m✅ Completed\u001b[0m\n",
       "└── \u001b[1;32m📋 Task: aec9dcf3-eacf-4ceb-a571-3063ee5e9060\u001b[0m\n",
       "    \u001b[37m   Assigned to: \u001b[0m\u001b[32mAir Quality Analyst\u001b[0m\n",
       "    \u001b[37m   Status: \u001b[0m\u001b[1;32m✅ Completed\u001b[0m\n",
       "    └── \u001b[1;32m🤖 Agent: \u001b[0m\u001b[32mAir Quality Analyst\u001b[0m\n",
       "        \u001b[37m    Status: \u001b[0m\u001b[1;32m✅ Completed\u001b[0m\n"
      ]
     },
     "metadata": {},
     "output_type": "display_data"
    },
    {
     "data": {
      "text/html": [
       "<pre style=\"white-space:pre;overflow-x:auto;line-height:normal;font-family:Menlo,'DejaVu Sans Mono',consolas,'Courier New',monospace\"><span style=\"color: #008000; text-decoration-color: #008000\">╭──────────────────────────────────────────────── Task Completion ────────────────────────────────────────────────╮</span>\n",
       "<span style=\"color: #008000; text-decoration-color: #008000\">│</span>                                                                                                                 <span style=\"color: #008000; text-decoration-color: #008000\">│</span>\n",
       "<span style=\"color: #008000; text-decoration-color: #008000\">│</span>  <span style=\"color: #008000; text-decoration-color: #008000; font-weight: bold\">Task Completed</span>                                                                                                 <span style=\"color: #008000; text-decoration-color: #008000\">│</span>\n",
       "<span style=\"color: #008000; text-decoration-color: #008000\">│</span>  <span style=\"color: #c0c0c0; text-decoration-color: #c0c0c0\">Name: </span><span style=\"color: #008000; text-decoration-color: #008000\">aec9dcf3-eacf-4ceb-a571-3063ee5e9060</span>                                                                     <span style=\"color: #008000; text-decoration-color: #008000\">│</span>\n",
       "<span style=\"color: #008000; text-decoration-color: #008000\">│</span>  <span style=\"color: #c0c0c0; text-decoration-color: #c0c0c0\">Agent: </span><span style=\"color: #008000; text-decoration-color: #008000\">Air Quality Analyst</span>                                                                                     <span style=\"color: #008000; text-decoration-color: #008000\">│</span>\n",
       "<span style=\"color: #008000; text-decoration-color: #008000\">│</span>                                                                                                                 <span style=\"color: #008000; text-decoration-color: #008000\">│</span>\n",
       "<span style=\"color: #008000; text-decoration-color: #008000\">│</span>                                                                                                                 <span style=\"color: #008000; text-decoration-color: #008000\">│</span>\n",
       "<span style=\"color: #008000; text-decoration-color: #008000\">╰─────────────────────────────────────────────────────────────────────────────────────────────────────────────────╯</span>\n",
       "</pre>\n"
      ],
      "text/plain": [
       "\u001b[32m╭─\u001b[0m\u001b[32m───────────────────────────────────────────────\u001b[0m\u001b[32m Task Completion \u001b[0m\u001b[32m───────────────────────────────────────────────\u001b[0m\u001b[32m─╮\u001b[0m\n",
       "\u001b[32m│\u001b[0m                                                                                                                 \u001b[32m│\u001b[0m\n",
       "\u001b[32m│\u001b[0m  \u001b[1;32mTask Completed\u001b[0m                                                                                                 \u001b[32m│\u001b[0m\n",
       "\u001b[32m│\u001b[0m  \u001b[37mName: \u001b[0m\u001b[32maec9dcf3-eacf-4ceb-a571-3063ee5e9060\u001b[0m                                                                     \u001b[32m│\u001b[0m\n",
       "\u001b[32m│\u001b[0m  \u001b[37mAgent: \u001b[0m\u001b[32mAir Quality Analyst\u001b[0m                                                                                     \u001b[32m│\u001b[0m\n",
       "\u001b[32m│\u001b[0m                                                                                                                 \u001b[32m│\u001b[0m\n",
       "\u001b[32m│\u001b[0m                                                                                                                 \u001b[32m│\u001b[0m\n",
       "\u001b[32m╰─────────────────────────────────────────────────────────────────────────────────────────────────────────────────╯\u001b[0m\n"
      ]
     },
     "metadata": {},
     "output_type": "display_data"
    },
    {
     "data": {
      "text/html": [
       "<pre style=\"white-space:pre;overflow-x:auto;line-height:normal;font-family:Menlo,'DejaVu Sans Mono',consolas,'Courier New',monospace\">\n",
       "</pre>\n"
      ],
      "text/plain": [
       "\n"
      ]
     },
     "metadata": {},
     "output_type": "display_data"
    },
    {
     "data": {
      "text/html": [
       "<pre style=\"white-space:pre;overflow-x:auto;line-height:normal;font-family:Menlo,'DejaVu Sans Mono',consolas,'Courier New',monospace\"><span style=\"color: #008000; text-decoration-color: #008000\">╭──────────────────────────────────────────────── Crew Completion ────────────────────────────────────────────────╮</span>\n",
       "<span style=\"color: #008000; text-decoration-color: #008000\">│</span>                                                                                                                 <span style=\"color: #008000; text-decoration-color: #008000\">│</span>\n",
       "<span style=\"color: #008000; text-decoration-color: #008000\">│</span>  <span style=\"color: #008000; text-decoration-color: #008000; font-weight: bold\">Crew Execution Completed</span>                                                                                       <span style=\"color: #008000; text-decoration-color: #008000\">│</span>\n",
       "<span style=\"color: #008000; text-decoration-color: #008000\">│</span>  <span style=\"color: #c0c0c0; text-decoration-color: #c0c0c0\">Name: </span><span style=\"color: #008000; text-decoration-color: #008000\">crew</span>                                                                                                     <span style=\"color: #008000; text-decoration-color: #008000\">│</span>\n",
       "<span style=\"color: #008000; text-decoration-color: #008000\">│</span>  <span style=\"color: #c0c0c0; text-decoration-color: #c0c0c0\">ID: </span><span style=\"color: #008000; text-decoration-color: #008000\">9e61d9f6-8813-41a1-95c2-03db69c47831</span>                                                                       <span style=\"color: #008000; text-decoration-color: #008000\">│</span>\n",
       "<span style=\"color: #008000; text-decoration-color: #008000\">│</span>                                                                                                                 <span style=\"color: #008000; text-decoration-color: #008000\">│</span>\n",
       "<span style=\"color: #008000; text-decoration-color: #008000\">│</span>                                                                                                                 <span style=\"color: #008000; text-decoration-color: #008000\">│</span>\n",
       "<span style=\"color: #008000; text-decoration-color: #008000\">╰─────────────────────────────────────────────────────────────────────────────────────────────────────────────────╯</span>\n",
       "</pre>\n"
      ],
      "text/plain": [
       "\u001b[32m╭─\u001b[0m\u001b[32m───────────────────────────────────────────────\u001b[0m\u001b[32m Crew Completion \u001b[0m\u001b[32m───────────────────────────────────────────────\u001b[0m\u001b[32m─╮\u001b[0m\n",
       "\u001b[32m│\u001b[0m                                                                                                                 \u001b[32m│\u001b[0m\n",
       "\u001b[32m│\u001b[0m  \u001b[1;32mCrew Execution Completed\u001b[0m                                                                                       \u001b[32m│\u001b[0m\n",
       "\u001b[32m│\u001b[0m  \u001b[37mName: \u001b[0m\u001b[32mcrew\u001b[0m                                                                                                     \u001b[32m│\u001b[0m\n",
       "\u001b[32m│\u001b[0m  \u001b[37mID: \u001b[0m\u001b[32m9e61d9f6-8813-41a1-95c2-03db69c47831\u001b[0m                                                                       \u001b[32m│\u001b[0m\n",
       "\u001b[32m│\u001b[0m                                                                                                                 \u001b[32m│\u001b[0m\n",
       "\u001b[32m│\u001b[0m                                                                                                                 \u001b[32m│\u001b[0m\n",
       "\u001b[32m╰─────────────────────────────────────────────────────────────────────────────────────────────────────────────────╯\u001b[0m\n"
      ]
     },
     "metadata": {},
     "output_type": "display_data"
    },
    {
     "data": {
      "text/html": [
       "<pre style=\"white-space:pre;overflow-x:auto;line-height:normal;font-family:Menlo,'DejaVu Sans Mono',consolas,'Courier New',monospace\">\n",
       "</pre>\n"
      ],
      "text/plain": [
       "\n"
      ]
     },
     "metadata": {},
     "output_type": "display_data"
    },
    {
     "name": "stdout",
     "output_type": "stream",
     "text": [
      "\n",
      "--- Air Quality Analysis Report ---\n",
      "**Comprehensive Air Quality and Weather Analysis Report**\n",
      "\n",
      "**1. New Delhi, India**\n",
      "\n",
      "*Air Quality Data Analysis:*\n",
      "- PM10 Levels:\n",
      "  - 2024-12-31: 209.60 µg/m³\n",
      "  - 2025-01-01: 251.26 µg/m³\n",
      "  - 2025-01-02: 247.84 µg/m³\n",
      "- PM2.5 Levels:\n",
      "  - 2024-12-31: 185.03 µg/m³\n",
      "  - 2025-01-01: 224.33 µg/m³\n",
      "  - 2025-01-02: 213.30 µg/m³\n",
      "\n",
      "*Average Values:*\n",
      "- PM10 Average: (209.60 + 251.26 + 247.84) / 3 = 236.57 µg/m³\n",
      "- PM2.5 Average: (185.03 + 224.33 + 213.30) / 3 = 207.22 µg/m³\n",
      "\n",
      "*Weather Conditions Analysis:*\n",
      "- Historical Weather Data:\n",
      "  - 2024-12-31: Mean Temp: 11.2°C, Max Temp: 16.0°C, Min Temp: 7.6°C, Precipitation: 0.0 mm, Wind Speed: 3.0 m/s, Humidity: 89%\n",
      "  - 2025-01-01: Mean Temp: 11.0°C, Max Temp: 17.0°C, Min Temp: 7.6°C, Precipitation: 0.0 mm, Wind Speed: 5.2 m/s, Humidity: 89%\n",
      "  - 2025-01-02: Mean Temp: 12.3°C, Max Temp: 18.3°C, Min Temp: 8.3°C, Precipitation: 0.0 mm, Wind Speed: 5.7 m/s, Humidity: 86%\n",
      "\n",
      "*Trends and Correlations:*\n",
      "The air quality in New Delhi shows significantly high levels of both PM10 and PM2.5 during the specified dates, with averages well above safe limits (WHO guideline for PM10 is 50 µg/m³). The increase in PM levels correlates with lower wind speeds and high humidity levels which typically lead to the stagnation of pollutants in the atmosphere.\n",
      "\n",
      "**2. Chennai, India**\n",
      "\n",
      "*Air Quality Data Analysis:*\n",
      "- PM2.5 Levels:\n",
      "  - 2024-12-31: 69.61 µg/m³\n",
      "  - 2025-01-01: 81.83 µg/m³\n",
      "  - 2025-01-02: 67.75 µg/m³\n",
      "\n",
      "*Average Values:*\n",
      "- PM2.5 Average: (69.61 + 81.83 + 67.75) / 3 = 73.73 µg/m³\n",
      "\n",
      "*Weather Conditions Analysis:*\n",
      "- Historical Weather Data:\n",
      "  - 2024-12-31: Mean Temp: 26.1°C, Max Temp: 28.1°C, Min Temp: 24.4°C, Precipitation: 0.1 mm, Wind Speed: 14.4 m/s, Humidity: 81%\n",
      "  - 2025-01-01: Mean Temp: 25.7°C, Max Temp: 27.8°C, Min Temp: 23.6°C, Precipitation: 0.0 mm, Wind Speed: 12.1 m/s, Humidity: 79%\n",
      "  - 2025-01-02: Mean Temp: 25.4°C, Max Temp: 27.8°C, Min Temp: 23.2°C, Precipitation: 0.0 mm, Wind Speed: 10.4 m/s, Humidity: 72%\n",
      "\n",
      "*Trends and Correlations:*\n",
      "Chennai's air quality displays relatively lower PM2.5 levels compared to New Delhi but still exceeds the recommended limits (WHO guideline is also set at a maximum of 25 µg/m³). The data suggests that higher wind speeds during the analysis period may contribute to the lower PM2.5 levels observed on December 31, while the slight increase in PM levels on January 1 correlates with a decrease in wind speed and humidity.\n",
      "\n",
      "**Conclusion and Recommendations**\n",
      "Overall, New Delhi is experiencing critical air quality issues, with both PM10 and PM2.5 levels posing serious health risks to its residents, particularly during the winter months when meteorological conditions can trap pollutants close to the ground. In contrast, Chennai has relatively better air quality conditions but should remain vigilant as even moderate levels\n"
     ]
    }
   ],
   "source": [
    "#creating the Agent Workflow\n",
    "import os\n",
    "from crewai import Crew, Agent, Task\n",
    "from typing import List, Optional\n",
    "from crewai_tools import ScrapeWebsiteTool\n",
    "\n",
    "\n",
    "\n",
    "\n",
    "# Load API Keys (ensure these are set as environment variables or securely managed)\n",
    "openai_api_key = os.environ.get(\"OPENAI_API_KEY\")\n",
    "\n",
    "if not openai_api_key:\n",
    "    raise ValueError(\"OPENAI_API_KEY environment variable not set.\")\n",
    "\n",
    "# Initialize Tools\n",
    "bounding_box_extractor_tool = BoundingBoxExtractorTool()\n",
    "air_quality_tool = AirQualityAnalysisTool()\n",
    "weather_tool = HistoricalWeatherTool()\n",
    "\n",
    "\n",
    "def create_air_quality_analysis_crew(locations: List[str], start_date: str, end_date: str, aq_parameters: Optional[List[str]] = None):\n",
    "    \"\"\"Creates and runs the air quality analysis crew.\"\"\"\n",
    "\n",
    "    # Agent 1: Bounding Box Retriever\n",
    "    bounding_box_retriever = Agent(\n",
    "        role=\"Geospatial Data Specialist\",\n",
    "        goal=\"Retrieve bounding box coordinates for the specified locations.\",\n",
    "        backstory=\"Expert in geographical information retrieval and spatial data analysis.\",\n",
    "        verbose=True,\n",
    "        allow_delegation=False,\n",
    "        tools=[bounding_box_extractor_tool],\n",
    "    )\n",
    "\n",
    "    # Task 1: Get Bounding Boxes\n",
    "    get_bounding_boxes_task = Task(\n",
    "        description=f\"For each of the following locations: {locations}, use the 'bounding_box_extractor' tool to find their bounding box coordinates. Return the bounding boxes associated with each location.\",\n",
    "        agent=bounding_box_retriever,\n",
    "        expected_output=\"A dictionary or list containing the bounding box coordinates (south, west, north, east) for each specified location.\",\n",
    "    )\n",
    "\n",
    "    # Agent 2: Weather Data Integrator\n",
    "    weather_data_integrator = Agent(\n",
    "        role=\"Historical Weather Data Specialist\",\n",
    "        goal=\"Retrieve concise historical weather summaries for the specified locations and dates.\",\n",
    "        backstory=\"Expert in accessing and summarizing historical meteorological data relevant to environmental analysis.\",\n",
    "        verbose=True,\n",
    "        allow_delegation=False,\n",
    "        tools=[weather_tool],\n",
    "    )\n",
    "\n",
    "    # Task 2: Get Weather Data\n",
    "    get_weather_data_task = Task(\n",
    "        description=f\"For each of the following locations: {locations}, use the bounding boxes (south, west, north, east) to query the weather tool to find a concise summary of relevant historical weather conditions between {start_date} and {end_date}. Focus on key weather aspects that might influence air quality (e.g., temperature, wind, precipitation).\",\n",
    "        agent=weather_data_integrator,\n",
    "        expected_output=\"A dictionary or list containing concise summaries of historical weather conditions for each specified city.\",\n",
    "        context=[get_bounding_boxes_task], \n",
    "    )\n",
    "\n",
    "    # Agent 3: Air Quality Data Retriever\n",
    "    air_quality_retriever = Agent(\n",
    "        role=\"Air Quality Data Retriever\",\n",
    "        goal=\"Fetch air quality data from OpenAQ for the specified locations and date range.\",\n",
    "        backstory=\"Specialized in accessing and retrieving air quality data from the OpenAQ database.\",\n",
    "        verbose=True,\n",
    "        allow_delegation=False,\n",
    "        tools=[air_quality_tool],\n",
    "    )\n",
    "    \n",
    "    # Task 3: Get Air Quality Data\n",
    "    get_air_quality_data_task = Task(\n",
    "        description=f\"Fetch air quality data using the air_quality_tool for the following locations: {locations} from {start_date} to {end_date} using the bounding boxes for each location. If specific parameters are provided ({aq_parameters}), focus on those. Return the data as a pandas DataFrame.\",\n",
    "        agent=air_quality_retriever,\n",
    "        expected_output=\"A pandas DataFrame containing the air quality data for the specified locations, dates, and parameters.\",\n",
    "        context=[get_bounding_boxes_task],  # The AirQualityAnalysisTool needs the locations\n",
    "    )\n",
    "\n",
    "    # Agent 4: Air Quality Analyst\n",
    "    air_quality_analyst = Agent(\n",
    "        role=\"Air Quality Analyst\",\n",
    "        goal=\"Analyze the collected air quality data and the corresponding weather information to generate a comprehensive report on the air quality situation.\",\n",
    "        backstory=\"Experienced environmental scientist specializing in air pollution analysis and its relationship with meteorological conditions.\",\n",
    "        verbose=True,\n",
    "        allow_delegation=False,\n",
    "        llm=llm,  # Use the configured LLM\n",
    "        context=[get_air_quality_data_task] + [get_weather_data_task],\n",
    "    )\n",
    "\n",
    "    # Task 4: Analyze and Report\n",
    "    analysis_task = Task(\n",
    "        description=\"Analyze the provided air quality data (including parameters like pm10, value, units, date, and location) for the specified locations and dates. Consider the historical weather information (temperature, wind, precipitation, humidity) for the same period. Identify any trends in air quality, calculate average values where relevant, and discuss any potential correlations or influences of weather conditions on the air quality. Provide a detailed report summarizing the air quality situation for each city, including the key findings and any notable observations related to weather patterns.\",\n",
    "        agent=air_quality_analyst,\n",
    "        expected_output=\"A comprehensive report detailing the air quality analysis for each city, including trends, averages, and a discussion of potential relationships with the historical weather conditions.\",\n",
    "    )\n",
    "\n",
    "\n",
    "    # Instantiate the Crew\n",
    "    agents = [bounding_box_retriever, weather_data_integrator, air_quality_retriever, air_quality_analyst]\n",
    "    tasks = [get_bounding_boxes_task, get_weather_data_task, get_air_quality_data_task, analysis_task]\n",
    "\n",
    "\n",
    "    crew = Crew(\n",
    "        agents=agents,\n",
    "        tasks=tasks,\n",
    "        verbose=True,\n",
    "    )\n",
    "\n",
    "    # Run the crew and get the analysis report\n",
    "    report = crew.kickoff()\n",
    "    return report\n",
    "\n",
    "if __name__ == \"__main__\":\n",
    "    locations = [\"New Delhi, India\", \"Chennai, India\"]\n",
    "    analysis_start_date = \"2024-12-31\"\n",
    "    analysis_end_date = \"2025-01-02\"\n",
    "    parameters_of_interest = [\"pm25, pm10\"]  # Optional\n",
    "\n",
    "    try:\n",
    "        analysis_report = create_air_quality_analysis_crew(\n",
    "            locations=locations,\n",
    "            start_date=analysis_start_date,\n",
    "            end_date=analysis_end_date,\n",
    "            aq_parameters=parameters_of_interest\n",
    "        )\n",
    "        print(\"\\n--- Air Quality Analysis Report ---\")\n",
    "        print(analysis_report)\n",
    "    except ValueError as e:\n",
    "        print(f\"Error: {e}\")\n",
    "    except Exception as e:\n",
    "        print(f\"An unexpected error occurred: {e}\")"
   ]
  },
  {
   "cell_type": "code",
   "execution_count": null,
   "metadata": {},
   "outputs": [],
   "source": []
  }
 ],
 "metadata": {
  "kernelspec": {
   "display_name": "3.11.0",
   "language": "python",
   "name": "python3"
  },
  "language_info": {
   "codemirror_mode": {
    "name": "ipython",
    "version": 3
   },
   "file_extension": ".py",
   "mimetype": "text/x-python",
   "name": "python",
   "nbconvert_exporter": "python",
   "pygments_lexer": "ipython3",
   "version": "3.11.0"
  }
 },
 "nbformat": 4,
 "nbformat_minor": 2
}
